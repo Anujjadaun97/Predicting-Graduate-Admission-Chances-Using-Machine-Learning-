{
 "cells": [
  {
   "cell_type": "code",
   "execution_count": 3,
   "id": "ecc950d9",
   "metadata": {},
   "outputs": [
    {
     "name": "stdout",
     "output_type": "stream",
     "text": [
      "Requirement already satisfied: kaggle in d:\\new folder\\data set\\admission_predition\\myenv\\lib\\site-packages (1.7.4.5)\n",
      "Requirement already satisfied: bleach in d:\\new folder\\data set\\admission_predition\\myenv\\lib\\site-packages (from kaggle) (6.2.0)\n",
      "Requirement already satisfied: certifi>=14.05.14 in d:\\new folder\\data set\\admission_predition\\myenv\\lib\\site-packages (from kaggle) (2025.8.3)\n",
      "Requirement already satisfied: charset-normalizer in d:\\new folder\\data set\\admission_predition\\myenv\\lib\\site-packages (from kaggle) (3.4.3)\n",
      "Requirement already satisfied: idna in d:\\new folder\\data set\\admission_predition\\myenv\\lib\\site-packages (from kaggle) (3.10)\n",
      "Requirement already satisfied: protobuf in d:\\new folder\\data set\\admission_predition\\myenv\\lib\\site-packages (from kaggle) (6.32.0)\n",
      "Requirement already satisfied: python-dateutil>=2.5.3 in d:\\new folder\\data set\\admission_predition\\myenv\\lib\\site-packages (from kaggle) (2.9.0.post0)\n",
      "Requirement already satisfied: python-slugify in d:\\new folder\\data set\\admission_predition\\myenv\\lib\\site-packages (from kaggle) (8.0.4)\n",
      "Requirement already satisfied: requests in d:\\new folder\\data set\\admission_predition\\myenv\\lib\\site-packages (from kaggle) (2.32.5)\n",
      "Requirement already satisfied: setuptools>=21.0.0 in d:\\new folder\\data set\\admission_predition\\myenv\\lib\\site-packages (from kaggle) (78.1.1)\n",
      "Requirement already satisfied: six>=1.10 in d:\\new folder\\data set\\admission_predition\\myenv\\lib\\site-packages (from kaggle) (1.17.0)\n",
      "Requirement already satisfied: text-unidecode in d:\\new folder\\data set\\admission_predition\\myenv\\lib\\site-packages (from kaggle) (1.3)\n",
      "Requirement already satisfied: tqdm in d:\\new folder\\data set\\admission_predition\\myenv\\lib\\site-packages (from kaggle) (4.67.1)\n",
      "Requirement already satisfied: urllib3>=1.15.1 in d:\\new folder\\data set\\admission_predition\\myenv\\lib\\site-packages (from kaggle) (2.5.0)\n",
      "Requirement already satisfied: webencodings in d:\\new folder\\data set\\admission_predition\\myenv\\lib\\site-packages (from kaggle) (0.5.1)\n",
      "Requirement already satisfied: colorama in d:\\new folder\\data set\\admission_predition\\myenv\\lib\\site-packages (from tqdm->kaggle) (0.4.6)\n",
      "Requirement already satisfied: plotly in d:\\new folder\\data set\\admission_predition\\myenv\\lib\\site-packages (6.3.0)\n",
      "Requirement already satisfied: narwhals>=1.15.1 in d:\\new folder\\data set\\admission_predition\\myenv\\lib\\site-packages (from plotly) (2.1.2)\n",
      "Requirement already satisfied: packaging in d:\\new folder\\data set\\admission_predition\\myenv\\lib\\site-packages (from plotly) (25.0)\n",
      "Requirement already satisfied: nbformat in d:\\new folder\\data set\\admission_predition\\myenv\\lib\\site-packages (5.10.4)\n",
      "Requirement already satisfied: fastjsonschema>=2.15 in d:\\new folder\\data set\\admission_predition\\myenv\\lib\\site-packages (from nbformat) (2.20.0)\n",
      "Requirement already satisfied: jsonschema>=2.6 in d:\\new folder\\data set\\admission_predition\\myenv\\lib\\site-packages (from nbformat) (4.25.0)\n",
      "Requirement already satisfied: jupyter-core!=5.0.*,>=4.12 in d:\\new folder\\data set\\admission_predition\\myenv\\lib\\site-packages (from nbformat) (5.8.1)\n",
      "Requirement already satisfied: traitlets>=5.1 in d:\\new folder\\data set\\admission_predition\\myenv\\lib\\site-packages (from nbformat) (5.14.3)\n",
      "Requirement already satisfied: attrs>=22.2.0 in d:\\new folder\\data set\\admission_predition\\myenv\\lib\\site-packages (from jsonschema>=2.6->nbformat) (24.3.0)\n",
      "Requirement already satisfied: jsonschema-specifications>=2023.03.6 in d:\\new folder\\data set\\admission_predition\\myenv\\lib\\site-packages (from jsonschema>=2.6->nbformat) (2023.7.1)\n",
      "Requirement already satisfied: referencing>=0.28.4 in d:\\new folder\\data set\\admission_predition\\myenv\\lib\\site-packages (from jsonschema>=2.6->nbformat) (0.30.2)\n",
      "Requirement already satisfied: rpds-py>=0.7.1 in d:\\new folder\\data set\\admission_predition\\myenv\\lib\\site-packages (from jsonschema>=2.6->nbformat) (0.22.3)\n",
      "Requirement already satisfied: platformdirs>=2.5 in d:\\new folder\\data set\\admission_predition\\myenv\\lib\\site-packages (from jupyter-core!=5.0.*,>=4.12->nbformat) (4.3.7)\n",
      "Requirement already satisfied: pywin32>=300 in d:\\new folder\\data set\\admission_predition\\myenv\\lib\\site-packages (from jupyter-core!=5.0.*,>=4.12->nbformat) (311)\n",
      "Dataset URL: https://www.kaggle.com/datasets/mohansacharya/graduate-admissions\n",
      "License(s): CC0-1.0\n",
      "graduate-admissions.zip: Skipping, found more recently modified local copy (use --force to force download)\n"
     ]
    }
   ],
   "source": [
    "!pip install kaggle\n",
    "!pip install plotly\n",
    "!pip install nbformat\n",
    "!kaggle datasets download -d mohansacharya/graduate-admissions"
   ]
  },
  {
   "cell_type": "code",
   "execution_count": 4,
   "id": "378bc6da",
   "metadata": {},
   "outputs": [],
   "source": [
    "import zipfile\n",
    "\n",
    "with zipfile.ZipFile('graduate-admissions.zip', 'r') as zip_ref:\n",
    "    zip_ref.extractall()"
   ]
  },
  {
   "cell_type": "code",
   "execution_count": 5,
   "id": "65e2be51",
   "metadata": {},
   "outputs": [],
   "source": [
    "import numpy as np\n",
    "import pandas as pd"
   ]
  },
  {
   "cell_type": "code",
   "execution_count": 6,
   "id": "cd19b45a",
   "metadata": {},
   "outputs": [],
   "source": [
    "adm_data = pd.read_csv('Admission_Predict_Ver1.1.csv')"
   ]
  },
  {
   "cell_type": "code",
   "execution_count": 7,
   "id": "0b302a6a",
   "metadata": {},
   "outputs": [
    {
     "data": {
      "application/vnd.microsoft.datawrangler.viewer.v0+json": {
       "columns": [
        {
         "name": "index",
         "rawType": "int64",
         "type": "integer"
        },
        {
         "name": "Serial No.",
         "rawType": "int64",
         "type": "integer"
        },
        {
         "name": "GRE Score",
         "rawType": "int64",
         "type": "integer"
        },
        {
         "name": "TOEFL Score",
         "rawType": "int64",
         "type": "integer"
        },
        {
         "name": "University Rating",
         "rawType": "int64",
         "type": "integer"
        },
        {
         "name": "SOP",
         "rawType": "float64",
         "type": "float"
        },
        {
         "name": "LOR ",
         "rawType": "float64",
         "type": "float"
        },
        {
         "name": "CGPA",
         "rawType": "float64",
         "type": "float"
        },
        {
         "name": "Research",
         "rawType": "int64",
         "type": "integer"
        },
        {
         "name": "Chance of Admit ",
         "rawType": "float64",
         "type": "float"
        }
       ],
       "ref": "bc8b472c-88a5-4048-a8d7-01c0d3eb66ee",
       "rows": [
        [
         "0",
         "1",
         "337",
         "118",
         "4",
         "4.5",
         "4.5",
         "9.65",
         "1",
         "0.92"
        ],
        [
         "1",
         "2",
         "324",
         "107",
         "4",
         "4.0",
         "4.5",
         "8.87",
         "1",
         "0.76"
        ],
        [
         "2",
         "3",
         "316",
         "104",
         "3",
         "3.0",
         "3.5",
         "8.0",
         "1",
         "0.72"
        ],
        [
         "3",
         "4",
         "322",
         "110",
         "3",
         "3.5",
         "2.5",
         "8.67",
         "1",
         "0.8"
        ],
        [
         "4",
         "5",
         "314",
         "103",
         "2",
         "2.0",
         "3.0",
         "8.21",
         "0",
         "0.65"
        ]
       ],
       "shape": {
        "columns": 9,
        "rows": 5
       }
      },
      "text/html": [
       "<div>\n",
       "<style scoped>\n",
       "    .dataframe tbody tr th:only-of-type {\n",
       "        vertical-align: middle;\n",
       "    }\n",
       "\n",
       "    .dataframe tbody tr th {\n",
       "        vertical-align: top;\n",
       "    }\n",
       "\n",
       "    .dataframe thead th {\n",
       "        text-align: right;\n",
       "    }\n",
       "</style>\n",
       "<table border=\"1\" class=\"dataframe\">\n",
       "  <thead>\n",
       "    <tr style=\"text-align: right;\">\n",
       "      <th></th>\n",
       "      <th>Serial No.</th>\n",
       "      <th>GRE Score</th>\n",
       "      <th>TOEFL Score</th>\n",
       "      <th>University Rating</th>\n",
       "      <th>SOP</th>\n",
       "      <th>LOR</th>\n",
       "      <th>CGPA</th>\n",
       "      <th>Research</th>\n",
       "      <th>Chance of Admit</th>\n",
       "    </tr>\n",
       "  </thead>\n",
       "  <tbody>\n",
       "    <tr>\n",
       "      <th>0</th>\n",
       "      <td>1</td>\n",
       "      <td>337</td>\n",
       "      <td>118</td>\n",
       "      <td>4</td>\n",
       "      <td>4.5</td>\n",
       "      <td>4.5</td>\n",
       "      <td>9.65</td>\n",
       "      <td>1</td>\n",
       "      <td>0.92</td>\n",
       "    </tr>\n",
       "    <tr>\n",
       "      <th>1</th>\n",
       "      <td>2</td>\n",
       "      <td>324</td>\n",
       "      <td>107</td>\n",
       "      <td>4</td>\n",
       "      <td>4.0</td>\n",
       "      <td>4.5</td>\n",
       "      <td>8.87</td>\n",
       "      <td>1</td>\n",
       "      <td>0.76</td>\n",
       "    </tr>\n",
       "    <tr>\n",
       "      <th>2</th>\n",
       "      <td>3</td>\n",
       "      <td>316</td>\n",
       "      <td>104</td>\n",
       "      <td>3</td>\n",
       "      <td>3.0</td>\n",
       "      <td>3.5</td>\n",
       "      <td>8.00</td>\n",
       "      <td>1</td>\n",
       "      <td>0.72</td>\n",
       "    </tr>\n",
       "    <tr>\n",
       "      <th>3</th>\n",
       "      <td>4</td>\n",
       "      <td>322</td>\n",
       "      <td>110</td>\n",
       "      <td>3</td>\n",
       "      <td>3.5</td>\n",
       "      <td>2.5</td>\n",
       "      <td>8.67</td>\n",
       "      <td>1</td>\n",
       "      <td>0.80</td>\n",
       "    </tr>\n",
       "    <tr>\n",
       "      <th>4</th>\n",
       "      <td>5</td>\n",
       "      <td>314</td>\n",
       "      <td>103</td>\n",
       "      <td>2</td>\n",
       "      <td>2.0</td>\n",
       "      <td>3.0</td>\n",
       "      <td>8.21</td>\n",
       "      <td>0</td>\n",
       "      <td>0.65</td>\n",
       "    </tr>\n",
       "  </tbody>\n",
       "</table>\n",
       "</div>"
      ],
      "text/plain": [
       "   Serial No.  GRE Score  TOEFL Score  ...  CGPA  Research  Chance of Admit \n",
       "0           1        337          118  ...  9.65         1              0.92\n",
       "1           2        324          107  ...  8.87         1              0.76\n",
       "2           3        316          104  ...  8.00         1              0.72\n",
       "3           4        322          110  ...  8.67         1              0.80\n",
       "4           5        314          103  ...  8.21         0              0.65\n",
       "\n",
       "[5 rows x 9 columns]"
      ]
     },
     "execution_count": 7,
     "metadata": {},
     "output_type": "execute_result"
    }
   ],
   "source": [
    "adm_data.head()"
   ]
  },
  {
   "cell_type": "code",
   "execution_count": 8,
   "id": "6462f3e7",
   "metadata": {},
   "outputs": [
    {
     "data": {
      "application/vnd.microsoft.datawrangler.viewer.v0+json": {
       "columns": [
        {
         "name": "index",
         "rawType": "object",
         "type": "string"
        },
        {
         "name": "0",
         "rawType": "int64",
         "type": "integer"
        }
       ],
       "ref": "f0101c5e-9b71-4171-8d09-082c18a41353",
       "rows": [
        [
         "Serial No.",
         "0"
        ],
        [
         "GRE Score",
         "0"
        ],
        [
         "TOEFL Score",
         "0"
        ],
        [
         "University Rating",
         "0"
        ],
        [
         "SOP",
         "0"
        ],
        [
         "LOR ",
         "0"
        ],
        [
         "CGPA",
         "0"
        ],
        [
         "Research",
         "0"
        ],
        [
         "Chance of Admit ",
         "0"
        ]
       ],
       "shape": {
        "columns": 1,
        "rows": 9
       }
      },
      "text/plain": [
       "Serial No.           0\n",
       "GRE Score            0\n",
       "TOEFL Score          0\n",
       "University Rating    0\n",
       "SOP                  0\n",
       "LOR                  0\n",
       "CGPA                 0\n",
       "Research             0\n",
       "Chance of Admit      0\n",
       "dtype: int64"
      ]
     },
     "execution_count": 8,
     "metadata": {},
     "output_type": "execute_result"
    }
   ],
   "source": [
    "adm_data.isnull().sum()"
   ]
  },
  {
   "cell_type": "code",
   "execution_count": 9,
   "id": "9f05f2e1",
   "metadata": {},
   "outputs": [
    {
     "data": {
      "application/vnd.microsoft.datawrangler.viewer.v0+json": {
       "columns": [
        {
         "name": "University Rating",
         "rawType": "int64",
         "type": "integer"
        },
        {
         "name": "count",
         "rawType": "int64",
         "type": "integer"
        }
       ],
       "ref": "ce01441a-9eb6-46de-96f8-34ff95fb9b53",
       "rows": [
        [
         "3",
         "162"
        ],
        [
         "2",
         "126"
        ],
        [
         "4",
         "105"
        ],
        [
         "5",
         "73"
        ],
        [
         "1",
         "34"
        ]
       ],
       "shape": {
        "columns": 1,
        "rows": 5
       }
      },
      "text/plain": [
       "University Rating\n",
       "3    162\n",
       "2    126\n",
       "4    105\n",
       "5     73\n",
       "1     34\n",
       "Name: count, dtype: int64"
      ]
     },
     "execution_count": 9,
     "metadata": {},
     "output_type": "execute_result"
    }
   ],
   "source": [
    "adm_data['University Rating'].value_counts()"
   ]
  },
  {
   "cell_type": "code",
   "execution_count": 10,
   "id": "4d47187d",
   "metadata": {},
   "outputs": [
    {
     "data": {
      "application/vnd.microsoft.datawrangler.viewer.v0+json": {
       "columns": [
        {
         "name": "Research",
         "rawType": "int64",
         "type": "integer"
        },
        {
         "name": "count",
         "rawType": "int64",
         "type": "integer"
        }
       ],
       "ref": "9c3d2b55-0317-4258-8600-f73a11dd3454",
       "rows": [
        [
         "1",
         "280"
        ],
        [
         "0",
         "220"
        ]
       ],
       "shape": {
        "columns": 1,
        "rows": 2
       }
      },
      "text/plain": [
       "Research\n",
       "1    280\n",
       "0    220\n",
       "Name: count, dtype: int64"
      ]
     },
     "execution_count": 10,
     "metadata": {},
     "output_type": "execute_result"
    }
   ],
   "source": [
    "adm_data['Research'].value_counts()"
   ]
  },
  {
   "cell_type": "code",
   "execution_count": 11,
   "id": "6e7d5b0e",
   "metadata": {},
   "outputs": [],
   "source": [
    "adm_data.drop(columns=['Serial No.'],inplace=True)"
   ]
  },
  {
   "cell_type": "code",
   "execution_count": 12,
   "id": "71aa74f0",
   "metadata": {},
   "outputs": [
    {
     "data": {
      "text/plain": [
       "np.int64(0)"
      ]
     },
     "execution_count": 12,
     "metadata": {},
     "output_type": "execute_result"
    }
   ],
   "source": [
    "adm_data.duplicated().sum()"
   ]
  },
  {
   "cell_type": "code",
   "execution_count": 13,
   "id": "a6ce0fbe",
   "metadata": {},
   "outputs": [],
   "source": [
    "#Rename columns for clarity\n",
    "adm_data.columns = ['GRE', 'TOEFL', 'University_Rating', 'SOP', 'LOR', 'CGPA', 'Research', 'Chance_of_Admit']"
   ]
  },
  {
   "cell_type": "code",
   "execution_count": 14,
   "id": "8d4ecf11",
   "metadata": {},
   "outputs": [
    {
     "data": {
      "application/vnd.microsoft.datawrangler.viewer.v0+json": {
       "columns": [
        {
         "name": "index",
         "rawType": "int64",
         "type": "integer"
        },
        {
         "name": "GRE",
         "rawType": "int64",
         "type": "integer"
        },
        {
         "name": "TOEFL",
         "rawType": "int64",
         "type": "integer"
        },
        {
         "name": "University_Rating",
         "rawType": "int64",
         "type": "integer"
        },
        {
         "name": "SOP",
         "rawType": "float64",
         "type": "float"
        },
        {
         "name": "LOR",
         "rawType": "float64",
         "type": "float"
        },
        {
         "name": "CGPA",
         "rawType": "float64",
         "type": "float"
        },
        {
         "name": "Research",
         "rawType": "int64",
         "type": "integer"
        },
        {
         "name": "Chance_of_Admit",
         "rawType": "float64",
         "type": "float"
        }
       ],
       "ref": "89a72efb-5089-44b6-8d28-c80395aef650",
       "rows": [
        [
         "0",
         "337",
         "118",
         "4",
         "4.5",
         "4.5",
         "9.65",
         "1",
         "0.92"
        ],
        [
         "1",
         "324",
         "107",
         "4",
         "4.0",
         "4.5",
         "8.87",
         "1",
         "0.76"
        ],
        [
         "2",
         "316",
         "104",
         "3",
         "3.0",
         "3.5",
         "8.0",
         "1",
         "0.72"
        ],
        [
         "3",
         "322",
         "110",
         "3",
         "3.5",
         "2.5",
         "8.67",
         "1",
         "0.8"
        ],
        [
         "4",
         "314",
         "103",
         "2",
         "2.0",
         "3.0",
         "8.21",
         "0",
         "0.65"
        ]
       ],
       "shape": {
        "columns": 8,
        "rows": 5
       }
      },
      "text/html": [
       "<div>\n",
       "<style scoped>\n",
       "    .dataframe tbody tr th:only-of-type {\n",
       "        vertical-align: middle;\n",
       "    }\n",
       "\n",
       "    .dataframe tbody tr th {\n",
       "        vertical-align: top;\n",
       "    }\n",
       "\n",
       "    .dataframe thead th {\n",
       "        text-align: right;\n",
       "    }\n",
       "</style>\n",
       "<table border=\"1\" class=\"dataframe\">\n",
       "  <thead>\n",
       "    <tr style=\"text-align: right;\">\n",
       "      <th></th>\n",
       "      <th>GRE</th>\n",
       "      <th>TOEFL</th>\n",
       "      <th>University_Rating</th>\n",
       "      <th>SOP</th>\n",
       "      <th>LOR</th>\n",
       "      <th>CGPA</th>\n",
       "      <th>Research</th>\n",
       "      <th>Chance_of_Admit</th>\n",
       "    </tr>\n",
       "  </thead>\n",
       "  <tbody>\n",
       "    <tr>\n",
       "      <th>0</th>\n",
       "      <td>337</td>\n",
       "      <td>118</td>\n",
       "      <td>4</td>\n",
       "      <td>4.5</td>\n",
       "      <td>4.5</td>\n",
       "      <td>9.65</td>\n",
       "      <td>1</td>\n",
       "      <td>0.92</td>\n",
       "    </tr>\n",
       "    <tr>\n",
       "      <th>1</th>\n",
       "      <td>324</td>\n",
       "      <td>107</td>\n",
       "      <td>4</td>\n",
       "      <td>4.0</td>\n",
       "      <td>4.5</td>\n",
       "      <td>8.87</td>\n",
       "      <td>1</td>\n",
       "      <td>0.76</td>\n",
       "    </tr>\n",
       "    <tr>\n",
       "      <th>2</th>\n",
       "      <td>316</td>\n",
       "      <td>104</td>\n",
       "      <td>3</td>\n",
       "      <td>3.0</td>\n",
       "      <td>3.5</td>\n",
       "      <td>8.00</td>\n",
       "      <td>1</td>\n",
       "      <td>0.72</td>\n",
       "    </tr>\n",
       "    <tr>\n",
       "      <th>3</th>\n",
       "      <td>322</td>\n",
       "      <td>110</td>\n",
       "      <td>3</td>\n",
       "      <td>3.5</td>\n",
       "      <td>2.5</td>\n",
       "      <td>8.67</td>\n",
       "      <td>1</td>\n",
       "      <td>0.80</td>\n",
       "    </tr>\n",
       "    <tr>\n",
       "      <th>4</th>\n",
       "      <td>314</td>\n",
       "      <td>103</td>\n",
       "      <td>2</td>\n",
       "      <td>2.0</td>\n",
       "      <td>3.0</td>\n",
       "      <td>8.21</td>\n",
       "      <td>0</td>\n",
       "      <td>0.65</td>\n",
       "    </tr>\n",
       "  </tbody>\n",
       "</table>\n",
       "</div>"
      ],
      "text/plain": [
       "   GRE  TOEFL  University_Rating  SOP  LOR  CGPA  Research  Chance_of_Admit\n",
       "0  337    118                  4  4.5  4.5  9.65         1             0.92\n",
       "1  324    107                  4  4.0  4.5  8.87         1             0.76\n",
       "2  316    104                  3  3.0  3.5  8.00         1             0.72\n",
       "3  322    110                  3  3.5  2.5  8.67         1             0.80\n",
       "4  314    103                  2  2.0  3.0  8.21         0             0.65"
      ]
     },
     "execution_count": 14,
     "metadata": {},
     "output_type": "execute_result"
    }
   ],
   "source": [
    "adm_data.head()"
   ]
  },
  {
   "cell_type": "code",
   "execution_count": 15,
   "id": "24752675",
   "metadata": {},
   "outputs": [
    {
     "name": "stdout",
     "output_type": "stream",
     "text": [
      "<class 'pandas.core.frame.DataFrame'>\n",
      "RangeIndex: 500 entries, 0 to 499\n",
      "Data columns (total 8 columns):\n",
      " #   Column             Non-Null Count  Dtype  \n",
      "---  ------             --------------  -----  \n",
      " 0   GRE                500 non-null    int64  \n",
      " 1   TOEFL              500 non-null    int64  \n",
      " 2   University_Rating  500 non-null    int64  \n",
      " 3   SOP                500 non-null    float64\n",
      " 4   LOR                500 non-null    float64\n",
      " 5   CGPA               500 non-null    float64\n",
      " 6   Research           500 non-null    int64  \n",
      " 7   Chance_of_Admit    500 non-null    float64\n",
      "dtypes: float64(4), int64(4)\n",
      "memory usage: 31.4 KB\n"
     ]
    }
   ],
   "source": [
    "adm_data.info()"
   ]
  },
  {
   "cell_type": "code",
   "execution_count": 16,
   "id": "8c167ae8",
   "metadata": {},
   "outputs": [
    {
     "data": {
      "application/vnd.microsoft.datawrangler.viewer.v0+json": {
       "columns": [
        {
         "name": "index",
         "rawType": "object",
         "type": "string"
        },
        {
         "name": "GRE",
         "rawType": "float64",
         "type": "float"
        },
        {
         "name": "TOEFL",
         "rawType": "float64",
         "type": "float"
        },
        {
         "name": "University_Rating",
         "rawType": "float64",
         "type": "float"
        },
        {
         "name": "SOP",
         "rawType": "float64",
         "type": "float"
        },
        {
         "name": "LOR",
         "rawType": "float64",
         "type": "float"
        },
        {
         "name": "CGPA",
         "rawType": "float64",
         "type": "float"
        },
        {
         "name": "Research",
         "rawType": "float64",
         "type": "float"
        },
        {
         "name": "Chance_of_Admit",
         "rawType": "float64",
         "type": "float"
        }
       ],
       "ref": "fd5b2d2a-8f38-49f3-90ea-c79a36cd1dad",
       "rows": [
        [
         "count",
         "500.0",
         "500.0",
         "500.0",
         "500.0",
         "500.0",
         "500.0",
         "500.0",
         "500.0"
        ],
        [
         "mean",
         "316.472",
         "107.192",
         "3.114",
         "3.374",
         "3.484",
         "8.576439999999998",
         "0.56",
         "0.72174"
        ],
        [
         "std",
         "11.2951483723547",
         "6.081867659564528",
         "1.1435118007598146",
         "0.9910036207566072",
         "0.9254495738978193",
         "0.6048128003332054",
         "0.49688407860903566",
         "0.14114040395030228"
        ],
        [
         "min",
         "290.0",
         "92.0",
         "1.0",
         "1.0",
         "1.0",
         "6.8",
         "0.0",
         "0.34"
        ],
        [
         "25%",
         "308.0",
         "103.0",
         "2.0",
         "2.5",
         "3.0",
         "8.127500000000001",
         "0.0",
         "0.63"
        ],
        [
         "50%",
         "317.0",
         "107.0",
         "3.0",
         "3.5",
         "3.5",
         "8.56",
         "1.0",
         "0.72"
        ],
        [
         "75%",
         "325.0",
         "112.0",
         "4.0",
         "4.0",
         "4.0",
         "9.04",
         "1.0",
         "0.82"
        ],
        [
         "max",
         "340.0",
         "120.0",
         "5.0",
         "5.0",
         "5.0",
         "9.92",
         "1.0",
         "0.97"
        ]
       ],
       "shape": {
        "columns": 8,
        "rows": 8
       }
      },
      "text/html": [
       "<div>\n",
       "<style scoped>\n",
       "    .dataframe tbody tr th:only-of-type {\n",
       "        vertical-align: middle;\n",
       "    }\n",
       "\n",
       "    .dataframe tbody tr th {\n",
       "        vertical-align: top;\n",
       "    }\n",
       "\n",
       "    .dataframe thead th {\n",
       "        text-align: right;\n",
       "    }\n",
       "</style>\n",
       "<table border=\"1\" class=\"dataframe\">\n",
       "  <thead>\n",
       "    <tr style=\"text-align: right;\">\n",
       "      <th></th>\n",
       "      <th>GRE</th>\n",
       "      <th>TOEFL</th>\n",
       "      <th>University_Rating</th>\n",
       "      <th>SOP</th>\n",
       "      <th>LOR</th>\n",
       "      <th>CGPA</th>\n",
       "      <th>Research</th>\n",
       "      <th>Chance_of_Admit</th>\n",
       "    </tr>\n",
       "  </thead>\n",
       "  <tbody>\n",
       "    <tr>\n",
       "      <th>count</th>\n",
       "      <td>500.000000</td>\n",
       "      <td>500.000000</td>\n",
       "      <td>500.000000</td>\n",
       "      <td>500.000000</td>\n",
       "      <td>500.00000</td>\n",
       "      <td>500.000000</td>\n",
       "      <td>500.000000</td>\n",
       "      <td>500.00000</td>\n",
       "    </tr>\n",
       "    <tr>\n",
       "      <th>mean</th>\n",
       "      <td>316.472000</td>\n",
       "      <td>107.192000</td>\n",
       "      <td>3.114000</td>\n",
       "      <td>3.374000</td>\n",
       "      <td>3.48400</td>\n",
       "      <td>8.576440</td>\n",
       "      <td>0.560000</td>\n",
       "      <td>0.72174</td>\n",
       "    </tr>\n",
       "    <tr>\n",
       "      <th>std</th>\n",
       "      <td>11.295148</td>\n",
       "      <td>6.081868</td>\n",
       "      <td>1.143512</td>\n",
       "      <td>0.991004</td>\n",
       "      <td>0.92545</td>\n",
       "      <td>0.604813</td>\n",
       "      <td>0.496884</td>\n",
       "      <td>0.14114</td>\n",
       "    </tr>\n",
       "    <tr>\n",
       "      <th>min</th>\n",
       "      <td>290.000000</td>\n",
       "      <td>92.000000</td>\n",
       "      <td>1.000000</td>\n",
       "      <td>1.000000</td>\n",
       "      <td>1.00000</td>\n",
       "      <td>6.800000</td>\n",
       "      <td>0.000000</td>\n",
       "      <td>0.34000</td>\n",
       "    </tr>\n",
       "    <tr>\n",
       "      <th>25%</th>\n",
       "      <td>308.000000</td>\n",
       "      <td>103.000000</td>\n",
       "      <td>2.000000</td>\n",
       "      <td>2.500000</td>\n",
       "      <td>3.00000</td>\n",
       "      <td>8.127500</td>\n",
       "      <td>0.000000</td>\n",
       "      <td>0.63000</td>\n",
       "    </tr>\n",
       "    <tr>\n",
       "      <th>50%</th>\n",
       "      <td>317.000000</td>\n",
       "      <td>107.000000</td>\n",
       "      <td>3.000000</td>\n",
       "      <td>3.500000</td>\n",
       "      <td>3.50000</td>\n",
       "      <td>8.560000</td>\n",
       "      <td>1.000000</td>\n",
       "      <td>0.72000</td>\n",
       "    </tr>\n",
       "    <tr>\n",
       "      <th>75%</th>\n",
       "      <td>325.000000</td>\n",
       "      <td>112.000000</td>\n",
       "      <td>4.000000</td>\n",
       "      <td>4.000000</td>\n",
       "      <td>4.00000</td>\n",
       "      <td>9.040000</td>\n",
       "      <td>1.000000</td>\n",
       "      <td>0.82000</td>\n",
       "    </tr>\n",
       "    <tr>\n",
       "      <th>max</th>\n",
       "      <td>340.000000</td>\n",
       "      <td>120.000000</td>\n",
       "      <td>5.000000</td>\n",
       "      <td>5.000000</td>\n",
       "      <td>5.00000</td>\n",
       "      <td>9.920000</td>\n",
       "      <td>1.000000</td>\n",
       "      <td>0.97000</td>\n",
       "    </tr>\n",
       "  </tbody>\n",
       "</table>\n",
       "</div>"
      ],
      "text/plain": [
       "              GRE       TOEFL  ...    Research  Chance_of_Admit\n",
       "count  500.000000  500.000000  ...  500.000000        500.00000\n",
       "mean   316.472000  107.192000  ...    0.560000          0.72174\n",
       "std     11.295148    6.081868  ...    0.496884          0.14114\n",
       "min    290.000000   92.000000  ...    0.000000          0.34000\n",
       "25%    308.000000  103.000000  ...    0.000000          0.63000\n",
       "50%    317.000000  107.000000  ...    1.000000          0.72000\n",
       "75%    325.000000  112.000000  ...    1.000000          0.82000\n",
       "max    340.000000  120.000000  ...    1.000000          0.97000\n",
       "\n",
       "[8 rows x 8 columns]"
      ]
     },
     "execution_count": 16,
     "metadata": {},
     "output_type": "execute_result"
    }
   ],
   "source": [
    "adm_data.describe()"
   ]
  },
  {
   "cell_type": "code",
   "execution_count": 17,
   "id": "8da54861",
   "metadata": {},
   "outputs": [],
   "source": [
    "import plotly.express as px\n",
    "import plotly.graph_objects as go\n",
    "import plotly.figure_factory as ff\n",
    "from scipy.stats import gaussian_kde\n",
    "import plotly.io as pio\n",
    "pio.renderers.default = \"vscode\""
   ]
  },
  {
   "cell_type": "code",
   "execution_count": 18,
   "id": "78de229b",
   "metadata": {},
   "outputs": [
    {
     "data": {
      "application/vnd.plotly.v1+json": {
       "config": {
        "plotlyServerURL": "https://plot.ly"
       },
       "data": [
        {
         "bingroup": "x",
         "hovertemplate": "GRE=%{x}<br>count=%{y}<extra></extra>",
         "legendgroup": "",
         "marker": {
          "color": "#636efa",
          "pattern": {
           "shape": ""
          }
         },
         "name": "",
         "nbinsx": 20,
         "orientation": "v",
         "showlegend": false,
         "type": "histogram",
         "x": {
          "bdata": "UQFEATwBQgE6AUoBQQE0AS4BQwFFAUcBSAEzATcBOgE9AT8BPgEvATgBRQFIAU4BUAFUAUIBKgEnATYBLAFHAVIBVAFLAUABKwEsATABMwE0ATwBOQFMAUYBQgFJAVMBQQFHATkBOAFOAUQBQgFAATwBKgEsATcBNQEzATABOwFFAUUBRwE8AT4BSAFMAVABQQE6AToBSQFHAS0BKAEmATgBVAFAAUIBVAE/ATsBPQE6ATwBPgErASoBLQEvATABMgFLAUwBQwFCATgBOgE9AUYBPAFJAVIBSwEwATEBQQEtAUABNwE2ASsBIgEoAUcBTwFOATYBNAEtASwBQwE/AUYBTQFTAS8BNQFDAU0BOgE4ATwBRgE+AUkBTAFLAVQBRQFAATsBRgFTATcBTgFMAUEBRAFGATgBOwE1ATIBKQE7ASoBPgE9AUkBQgEuATkBJQE3ATgBTgFCAUMBQQFAAUkBPwE1ATMBLAExASsBOgE8AUcBPQFPAUsBRAFEAUMBQgFQATwBMwEyATYBNwE5AT0BOwFUAU4BKgEnATsBNgExAS0BRQFIAVIBTQFLAUoBQgFBAUQBOAE5ATwBRAE0ATEBKAEyATgBPgFEATkBPwE4ATABSgFGAUUBSQE2ASsBKAE9AUQBRQE6AUgBPAE3AUQBQQFAATwBPgFPAUEBMwE1AUQBRgFLAUcBOAE0AUQBRQE5ATgBOgFHATQBMgErASYBOAE7AUIBSQFAATQBMAE3AT0BOAFBAVQBSwFQAUQBOgE5ATMBLAEuATgBPAE9ATYBQAFKATEBNQE/AUIBQwE5AUEBQwFFATgBNAFAAUgBNwEtATEBNAEqASwBRAFHAT0BQwE6ATEBOwFGASsBJwFEASkBRwE3ATQBPwE4AUUBPwFMAUMBRAE4AUYBNAExAScBPAEwASsBLgE5AT4BRQEvASwBKQE9AUcBLQE6AUEBQgFOAVIBMgE5AUoBQAE3ASoBLQE2AUQBUAFBATsBMAEpASIBLwE3AUIBPwFEASwBVAFPAS4BMwEoAUABOgE+AUYBPQFJAUQBRQFKATgBTQEwATsBRAFKATcBLgFCASoBKQEsAS0BOQE6AT0BQQFHATsBPAE1ATQBKwFBAUIBTgFFAUMBOAE2ATwBVAE3AUABRAE8ATIBNQE2AT0BPgE4ATEBTAFLAUEBRAFIAUcBQAE4ATsBQAFEAUgBPwE2ATEBKwEnATgBSQE/AS0BMwEwASoBMQE6AT4BQwFGAUABNwFHATwBNAEsATABNQE+AUUBQQFDAUgBMAE9ATcBPwFHAUIBLgEzASkBKgEsAS0BTAFRAUoBOAFHAQ==",
          "dtype": "i2"
         },
         "xaxis": "x",
         "yaxis": "y"
        }
       ],
       "layout": {
        "bargap": 0.1,
        "barmode": "relative",
        "legend": {
         "tracegroupgap": 0
        },
        "template": {
         "data": {
          "bar": [
           {
            "error_x": {
             "color": "#f2f5fa"
            },
            "error_y": {
             "color": "#f2f5fa"
            },
            "marker": {
             "line": {
              "color": "rgb(17,17,17)",
              "width": 0.5
             },
             "pattern": {
              "fillmode": "overlay",
              "size": 10,
              "solidity": 0.2
             }
            },
            "type": "bar"
           }
          ],
          "barpolar": [
           {
            "marker": {
             "line": {
              "color": "rgb(17,17,17)",
              "width": 0.5
             },
             "pattern": {
              "fillmode": "overlay",
              "size": 10,
              "solidity": 0.2
             }
            },
            "type": "barpolar"
           }
          ],
          "carpet": [
           {
            "aaxis": {
             "endlinecolor": "#A2B1C6",
             "gridcolor": "#506784",
             "linecolor": "#506784",
             "minorgridcolor": "#506784",
             "startlinecolor": "#A2B1C6"
            },
            "baxis": {
             "endlinecolor": "#A2B1C6",
             "gridcolor": "#506784",
             "linecolor": "#506784",
             "minorgridcolor": "#506784",
             "startlinecolor": "#A2B1C6"
            },
            "type": "carpet"
           }
          ],
          "choropleth": [
           {
            "colorbar": {
             "outlinewidth": 0,
             "ticks": ""
            },
            "type": "choropleth"
           }
          ],
          "contour": [
           {
            "colorbar": {
             "outlinewidth": 0,
             "ticks": ""
            },
            "colorscale": [
             [
              0,
              "#0d0887"
             ],
             [
              0.1111111111111111,
              "#46039f"
             ],
             [
              0.2222222222222222,
              "#7201a8"
             ],
             [
              0.3333333333333333,
              "#9c179e"
             ],
             [
              0.4444444444444444,
              "#bd3786"
             ],
             [
              0.5555555555555556,
              "#d8576b"
             ],
             [
              0.6666666666666666,
              "#ed7953"
             ],
             [
              0.7777777777777778,
              "#fb9f3a"
             ],
             [
              0.8888888888888888,
              "#fdca26"
             ],
             [
              1,
              "#f0f921"
             ]
            ],
            "type": "contour"
           }
          ],
          "contourcarpet": [
           {
            "colorbar": {
             "outlinewidth": 0,
             "ticks": ""
            },
            "type": "contourcarpet"
           }
          ],
          "heatmap": [
           {
            "colorbar": {
             "outlinewidth": 0,
             "ticks": ""
            },
            "colorscale": [
             [
              0,
              "#0d0887"
             ],
             [
              0.1111111111111111,
              "#46039f"
             ],
             [
              0.2222222222222222,
              "#7201a8"
             ],
             [
              0.3333333333333333,
              "#9c179e"
             ],
             [
              0.4444444444444444,
              "#bd3786"
             ],
             [
              0.5555555555555556,
              "#d8576b"
             ],
             [
              0.6666666666666666,
              "#ed7953"
             ],
             [
              0.7777777777777778,
              "#fb9f3a"
             ],
             [
              0.8888888888888888,
              "#fdca26"
             ],
             [
              1,
              "#f0f921"
             ]
            ],
            "type": "heatmap"
           }
          ],
          "histogram": [
           {
            "marker": {
             "pattern": {
              "fillmode": "overlay",
              "size": 10,
              "solidity": 0.2
             }
            },
            "type": "histogram"
           }
          ],
          "histogram2d": [
           {
            "colorbar": {
             "outlinewidth": 0,
             "ticks": ""
            },
            "colorscale": [
             [
              0,
              "#0d0887"
             ],
             [
              0.1111111111111111,
              "#46039f"
             ],
             [
              0.2222222222222222,
              "#7201a8"
             ],
             [
              0.3333333333333333,
              "#9c179e"
             ],
             [
              0.4444444444444444,
              "#bd3786"
             ],
             [
              0.5555555555555556,
              "#d8576b"
             ],
             [
              0.6666666666666666,
              "#ed7953"
             ],
             [
              0.7777777777777778,
              "#fb9f3a"
             ],
             [
              0.8888888888888888,
              "#fdca26"
             ],
             [
              1,
              "#f0f921"
             ]
            ],
            "type": "histogram2d"
           }
          ],
          "histogram2dcontour": [
           {
            "colorbar": {
             "outlinewidth": 0,
             "ticks": ""
            },
            "colorscale": [
             [
              0,
              "#0d0887"
             ],
             [
              0.1111111111111111,
              "#46039f"
             ],
             [
              0.2222222222222222,
              "#7201a8"
             ],
             [
              0.3333333333333333,
              "#9c179e"
             ],
             [
              0.4444444444444444,
              "#bd3786"
             ],
             [
              0.5555555555555556,
              "#d8576b"
             ],
             [
              0.6666666666666666,
              "#ed7953"
             ],
             [
              0.7777777777777778,
              "#fb9f3a"
             ],
             [
              0.8888888888888888,
              "#fdca26"
             ],
             [
              1,
              "#f0f921"
             ]
            ],
            "type": "histogram2dcontour"
           }
          ],
          "mesh3d": [
           {
            "colorbar": {
             "outlinewidth": 0,
             "ticks": ""
            },
            "type": "mesh3d"
           }
          ],
          "parcoords": [
           {
            "line": {
             "colorbar": {
              "outlinewidth": 0,
              "ticks": ""
             }
            },
            "type": "parcoords"
           }
          ],
          "pie": [
           {
            "automargin": true,
            "type": "pie"
           }
          ],
          "scatter": [
           {
            "marker": {
             "line": {
              "color": "#283442"
             }
            },
            "type": "scatter"
           }
          ],
          "scatter3d": [
           {
            "line": {
             "colorbar": {
              "outlinewidth": 0,
              "ticks": ""
             }
            },
            "marker": {
             "colorbar": {
              "outlinewidth": 0,
              "ticks": ""
             }
            },
            "type": "scatter3d"
           }
          ],
          "scattercarpet": [
           {
            "marker": {
             "colorbar": {
              "outlinewidth": 0,
              "ticks": ""
             }
            },
            "type": "scattercarpet"
           }
          ],
          "scattergeo": [
           {
            "marker": {
             "colorbar": {
              "outlinewidth": 0,
              "ticks": ""
             }
            },
            "type": "scattergeo"
           }
          ],
          "scattergl": [
           {
            "marker": {
             "line": {
              "color": "#283442"
             }
            },
            "type": "scattergl"
           }
          ],
          "scattermap": [
           {
            "marker": {
             "colorbar": {
              "outlinewidth": 0,
              "ticks": ""
             }
            },
            "type": "scattermap"
           }
          ],
          "scattermapbox": [
           {
            "marker": {
             "colorbar": {
              "outlinewidth": 0,
              "ticks": ""
             }
            },
            "type": "scattermapbox"
           }
          ],
          "scatterpolar": [
           {
            "marker": {
             "colorbar": {
              "outlinewidth": 0,
              "ticks": ""
             }
            },
            "type": "scatterpolar"
           }
          ],
          "scatterpolargl": [
           {
            "marker": {
             "colorbar": {
              "outlinewidth": 0,
              "ticks": ""
             }
            },
            "type": "scatterpolargl"
           }
          ],
          "scatterternary": [
           {
            "marker": {
             "colorbar": {
              "outlinewidth": 0,
              "ticks": ""
             }
            },
            "type": "scatterternary"
           }
          ],
          "surface": [
           {
            "colorbar": {
             "outlinewidth": 0,
             "ticks": ""
            },
            "colorscale": [
             [
              0,
              "#0d0887"
             ],
             [
              0.1111111111111111,
              "#46039f"
             ],
             [
              0.2222222222222222,
              "#7201a8"
             ],
             [
              0.3333333333333333,
              "#9c179e"
             ],
             [
              0.4444444444444444,
              "#bd3786"
             ],
             [
              0.5555555555555556,
              "#d8576b"
             ],
             [
              0.6666666666666666,
              "#ed7953"
             ],
             [
              0.7777777777777778,
              "#fb9f3a"
             ],
             [
              0.8888888888888888,
              "#fdca26"
             ],
             [
              1,
              "#f0f921"
             ]
            ],
            "type": "surface"
           }
          ],
          "table": [
           {
            "cells": {
             "fill": {
              "color": "#506784"
             },
             "line": {
              "color": "rgb(17,17,17)"
             }
            },
            "header": {
             "fill": {
              "color": "#2a3f5f"
             },
             "line": {
              "color": "rgb(17,17,17)"
             }
            },
            "type": "table"
           }
          ]
         },
         "layout": {
          "annotationdefaults": {
           "arrowcolor": "#f2f5fa",
           "arrowhead": 0,
           "arrowwidth": 1
          },
          "autotypenumbers": "strict",
          "coloraxis": {
           "colorbar": {
            "outlinewidth": 0,
            "ticks": ""
           }
          },
          "colorscale": {
           "diverging": [
            [
             0,
             "#8e0152"
            ],
            [
             0.1,
             "#c51b7d"
            ],
            [
             0.2,
             "#de77ae"
            ],
            [
             0.3,
             "#f1b6da"
            ],
            [
             0.4,
             "#fde0ef"
            ],
            [
             0.5,
             "#f7f7f7"
            ],
            [
             0.6,
             "#e6f5d0"
            ],
            [
             0.7,
             "#b8e186"
            ],
            [
             0.8,
             "#7fbc41"
            ],
            [
             0.9,
             "#4d9221"
            ],
            [
             1,
             "#276419"
            ]
           ],
           "sequential": [
            [
             0,
             "#0d0887"
            ],
            [
             0.1111111111111111,
             "#46039f"
            ],
            [
             0.2222222222222222,
             "#7201a8"
            ],
            [
             0.3333333333333333,
             "#9c179e"
            ],
            [
             0.4444444444444444,
             "#bd3786"
            ],
            [
             0.5555555555555556,
             "#d8576b"
            ],
            [
             0.6666666666666666,
             "#ed7953"
            ],
            [
             0.7777777777777778,
             "#fb9f3a"
            ],
            [
             0.8888888888888888,
             "#fdca26"
            ],
            [
             1,
             "#f0f921"
            ]
           ],
           "sequentialminus": [
            [
             0,
             "#0d0887"
            ],
            [
             0.1111111111111111,
             "#46039f"
            ],
            [
             0.2222222222222222,
             "#7201a8"
            ],
            [
             0.3333333333333333,
             "#9c179e"
            ],
            [
             0.4444444444444444,
             "#bd3786"
            ],
            [
             0.5555555555555556,
             "#d8576b"
            ],
            [
             0.6666666666666666,
             "#ed7953"
            ],
            [
             0.7777777777777778,
             "#fb9f3a"
            ],
            [
             0.8888888888888888,
             "#fdca26"
            ],
            [
             1,
             "#f0f921"
            ]
           ]
          },
          "colorway": [
           "#636efa",
           "#EF553B",
           "#00cc96",
           "#ab63fa",
           "#FFA15A",
           "#19d3f3",
           "#FF6692",
           "#B6E880",
           "#FF97FF",
           "#FECB52"
          ],
          "font": {
           "color": "#f2f5fa"
          },
          "geo": {
           "bgcolor": "rgb(17,17,17)",
           "lakecolor": "rgb(17,17,17)",
           "landcolor": "rgb(17,17,17)",
           "showlakes": true,
           "showland": true,
           "subunitcolor": "#506784"
          },
          "hoverlabel": {
           "align": "left"
          },
          "hovermode": "closest",
          "mapbox": {
           "style": "dark"
          },
          "paper_bgcolor": "rgb(17,17,17)",
          "plot_bgcolor": "rgb(17,17,17)",
          "polar": {
           "angularaxis": {
            "gridcolor": "#506784",
            "linecolor": "#506784",
            "ticks": ""
           },
           "bgcolor": "rgb(17,17,17)",
           "radialaxis": {
            "gridcolor": "#506784",
            "linecolor": "#506784",
            "ticks": ""
           }
          },
          "scene": {
           "xaxis": {
            "backgroundcolor": "rgb(17,17,17)",
            "gridcolor": "#506784",
            "gridwidth": 2,
            "linecolor": "#506784",
            "showbackground": true,
            "ticks": "",
            "zerolinecolor": "#C8D4E3"
           },
           "yaxis": {
            "backgroundcolor": "rgb(17,17,17)",
            "gridcolor": "#506784",
            "gridwidth": 2,
            "linecolor": "#506784",
            "showbackground": true,
            "ticks": "",
            "zerolinecolor": "#C8D4E3"
           },
           "zaxis": {
            "backgroundcolor": "rgb(17,17,17)",
            "gridcolor": "#506784",
            "gridwidth": 2,
            "linecolor": "#506784",
            "showbackground": true,
            "ticks": "",
            "zerolinecolor": "#C8D4E3"
           }
          },
          "shapedefaults": {
           "line": {
            "color": "#f2f5fa"
           }
          },
          "sliderdefaults": {
           "bgcolor": "#C8D4E3",
           "bordercolor": "rgb(17,17,17)",
           "borderwidth": 1,
           "tickwidth": 0
          },
          "ternary": {
           "aaxis": {
            "gridcolor": "#506784",
            "linecolor": "#506784",
            "ticks": ""
           },
           "baxis": {
            "gridcolor": "#506784",
            "linecolor": "#506784",
            "ticks": ""
           },
           "bgcolor": "rgb(17,17,17)",
           "caxis": {
            "gridcolor": "#506784",
            "linecolor": "#506784",
            "ticks": ""
           }
          },
          "title": {
           "x": 0.05
          },
          "updatemenudefaults": {
           "bgcolor": "#506784",
           "borderwidth": 0
          },
          "xaxis": {
           "automargin": true,
           "gridcolor": "#283442",
           "linecolor": "#506784",
           "ticks": "",
           "title": {
            "standoff": 15
           },
           "zerolinecolor": "#283442",
           "zerolinewidth": 2
          },
          "yaxis": {
           "automargin": true,
           "gridcolor": "#283442",
           "linecolor": "#506784",
           "ticks": "",
           "title": {
            "standoff": 15
           },
           "zerolinecolor": "#283442",
           "zerolinewidth": 2
          }
         }
        },
        "title": {
         "text": "Distribution of GRE Scores"
        },
        "xaxis": {
         "anchor": "y",
         "domain": [
          0,
          1
         ],
         "title": {
          "text": "GRE"
         }
        },
        "yaxis": {
         "anchor": "x",
         "domain": [
          0,
          1
         ],
         "title": {
          "text": "Number of Students"
         }
        }
       }
      }
     },
     "metadata": {},
     "output_type": "display_data"
    }
   ],
   "source": [
    "fig=px.histogram(adm_data,x='GRE',nbins=20, title='Distribution of GRE Scores')\n",
    "fig.update_layout(bargap=0.1,template='plotly_dark', yaxis_title='Number of Students')\n",
    "fig.show(renderer= \"vscode\")"
   ]
  },
  {
   "cell_type": "code",
   "execution_count": 19,
   "id": "ce080861",
   "metadata": {},
   "outputs": [
    {
     "data": {
      "text/plain": [
       "np.float64(-0.026612517318359303)"
      ]
     },
     "execution_count": 19,
     "metadata": {},
     "output_type": "execute_result"
    }
   ],
   "source": [
    "adm_data['CGPA'].skew()"
   ]
  },
  {
   "cell_type": "code",
   "execution_count": 20,
   "id": "cb3accdb",
   "metadata": {},
   "outputs": [
    {
     "data": {
      "application/vnd.plotly.v1+json": {
       "config": {
        "plotlyServerURL": "https://plot.ly"
       },
       "data": [
        {
         "bingroup": "x",
         "histnorm": "probability density",
         "hovertemplate": "CGPA=%{x}<br>probability density=%{y}<extra></extra>",
         "legendgroup": "",
         "marker": {
          "color": "#636efa",
          "pattern": {
           "shape": ""
          }
         },
         "name": "",
         "nbinsx": 20,
         "orientation": "v",
         "showlegend": false,
         "type": "histogram",
         "x": {
          "bdata": "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",
          "dtype": "f8"
         },
         "xaxis": "x",
         "yaxis": "y"
        },
        {
         "hovertemplate": "CGPA=%{x}<extra></extra>",
         "legendgroup": "",
         "marker": {
          "color": "#636efa"
         },
         "name": "",
         "scalegroup": "x",
         "showlegend": false,
         "type": "violin",
         "x": {
          "bdata": "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",
          "dtype": "f8"
         },
         "xaxis": "x2",
         "yaxis": "y2"
        },
        {
         "mode": "lines",
         "name": "KDE",
         "type": "scatter",
         "x": {
          "bdata": "MzMzMzMzG0BTize1eFMbQHTjOze+cxtAlDtAuQOUG0C0k0Q7SbQbQNTrSL2O1BtA9UNNP9T0G0AVnFHBGRUcQDX0VUNfNRxAVUxaxaRVHEB2pF5H6nUcQJb8YskvlhxAtlRnS3W2HEDXrGvNutYcQPcEcE8A9xxAF1100UUXHUA3tXhTizcdQFgNfdXQVx1AeGWBVxZ4HUCYvYXZW5gdQLgViluhuB1A2W2O3ebYHUD5xZJfLPkdQBkel+FxGR5AOnabY7c5HkBazp/l/FkeQHompGdCeh5Amn6o6YeaHkC71qxrzboeQNsuse0S2x5A+4a1b1j7HkAc37nxnRsfQDw3vnPjOx9AXI/C9ShcH0B858Z3bnwfQJw/y/mznB9AvZfPe/m8H0Dd79P9Pt0fQP5H2H+E/R9AD1DuAOUOIEAffPDBBx8gQC+o8oIqLyBAP9T0Q00/IEBPAPcEcE8gQGAs+cWSXyBAcFj7hrVvIECAhP1H2H8gQJCw/wj7jyBAoNwByh2gIECwCASLQLAgQMA0BkxjwCBA0GAIDYbQIEDhjArOqOAgQPG4DI/L8CBAAeUOUO4AIUAREREREREhQCE9E9IzISFAMWkVk1YxIUBBlRdUeUEhQFLBGRWcUSFAYu0b1r5hIUByGR6X4XEhQIJFIFgEgiFAknEiGSeSIUCinSTaSaIhQLLJJptssiFAwvUoXI/CIUDTISsdstIhQONNLd7U4iFA83kvn/fyIUADpjFgGgMiQBPSMyE9EyJAI/414l8jIkA0KjijgjMiQERWOmSlQyJAVII8JchTIkBkrj7m6mMiQHTaQKcNdCJAhAZDaDCEIkCUMkUpU5QiQKReR+p1pCJAtIpJq5i0IkDFtktsu8QiQNXiTS3e1CJA5Q5Q7gDlIkD1OlKvI/UiQAVnVHBGBSNAFpNWMWkVI0Amv1jyiyUjQDbrWrOuNSNARhdddNFFI0BWQ1819FUjQGZvYfYWZiNAdptjtzl2I0CGx2V4XIYjQJbzZzl/liNAph9q+qGmI0C3S2y7xLYjQMd3bnznxiNA16NwPQrXI0A=",
          "dtype": "f8"
         },
         "y": {
          "bdata": "jerVRlM4eD8v6A7ZYgN7P5ARV1YemX4/dPzIH0+7gT/LnHzz+xWFPwfk5MXXp4k/I235Z8+3jz9CfNPuYsCTP96ZKdZ9lZg/0MtRYt9jnj+3gzGpDpSiP6pgStrtaaY/GL31Yjyoqj9GU9wQZUGvP7lEgEnNE7I/ddypiFWntD9cVoGCoFa3P0qmN0etHro/skJIzPr9vD/s95AzFfS/P6tI6OeHgME/ZYvUNpYSwz+kuGhdc7DEPw3uFTW9WsY/DIMr3+QSyD8R/TY0q9vJP11wmJVtucs/Y8T4jwmyzT96LAQxMszPPzrUr0EcB9E/4uT5TDs+0j8xMGFg2YvTP8c8p1bw7dQ/Vz3OwMxf1j/XehnmPdrXP1VO8zE3VNk/rmdPb8bD2j/XiXzXMB/cP+2utHYEXt0/fY6oOPN53j/Um0+8XG/fP8G3D/G+HuA/nUvs5SVz4D9BqfuYBLfgPxlRhmpU7eA/rJRBQIgZ4T+nhKfoJz/hPwOKyuhuYeE/G7AR//eC4T/Z2qOIfaXhP81HZni0yeE/UXeu30Pv4T+Q280r1xTiP474X5BGOOI/nNp0k9BW4j+SI/MyYW3iPzAQnjnleOI/YvFS96h24j+QJyPwvmTiP1K9SARlQuI//a3K8FYQ4j+IMuxh99DhP9fPawE5iOE/7AfPWTk74T/ICx6dj+/gPwsWbqRlquA/pvLS24Nv4D/9v3L+gkDgP9LjtztUHOA/1MCM3IH+3z9xXNSz08bfP27BQ8pig98/Rm07Acgl3z93fPCEyKHePxTKNe5A790/9+1yHUoL3T/BbSzHbPjbP6/O/2rtvdo/S8ihrmhm2T+tfRttFf7XPxnz2fAIkdY/fTiLjssp1T+22NBIbtDTPw5ga5YuitI/9H90g5VZ0T9ma0uP6j7QPxUC6j6Ycc4/3p0Q1YuJzD8MGX9Wmb/KP809UwovDck/+deBbLprxz/pG/FBBNXFP7NkAsSHQ8Q/Ec9hx9Kywj+K+IvK7B/BP6Ts88xpE78/eWBmpz7iuz8OYpXoeLK4P6ZnpG34jbU/cZIMkFyBsj8=",
          "dtype": "f8"
         }
        }
       ],
       "layout": {
        "bargap": 0.1,
        "barmode": "relative",
        "legend": {
         "tracegroupgap": 0
        },
        "template": {
         "data": {
          "bar": [
           {
            "error_x": {
             "color": "#f2f5fa"
            },
            "error_y": {
             "color": "#f2f5fa"
            },
            "marker": {
             "line": {
              "color": "rgb(17,17,17)",
              "width": 0.5
             },
             "pattern": {
              "fillmode": "overlay",
              "size": 10,
              "solidity": 0.2
             }
            },
            "type": "bar"
           }
          ],
          "barpolar": [
           {
            "marker": {
             "line": {
              "color": "rgb(17,17,17)",
              "width": 0.5
             },
             "pattern": {
              "fillmode": "overlay",
              "size": 10,
              "solidity": 0.2
             }
            },
            "type": "barpolar"
           }
          ],
          "carpet": [
           {
            "aaxis": {
             "endlinecolor": "#A2B1C6",
             "gridcolor": "#506784",
             "linecolor": "#506784",
             "minorgridcolor": "#506784",
             "startlinecolor": "#A2B1C6"
            },
            "baxis": {
             "endlinecolor": "#A2B1C6",
             "gridcolor": "#506784",
             "linecolor": "#506784",
             "minorgridcolor": "#506784",
             "startlinecolor": "#A2B1C6"
            },
            "type": "carpet"
           }
          ],
          "choropleth": [
           {
            "colorbar": {
             "outlinewidth": 0,
             "ticks": ""
            },
            "type": "choropleth"
           }
          ],
          "contour": [
           {
            "colorbar": {
             "outlinewidth": 0,
             "ticks": ""
            },
            "colorscale": [
             [
              0,
              "#0d0887"
             ],
             [
              0.1111111111111111,
              "#46039f"
             ],
             [
              0.2222222222222222,
              "#7201a8"
             ],
             [
              0.3333333333333333,
              "#9c179e"
             ],
             [
              0.4444444444444444,
              "#bd3786"
             ],
             [
              0.5555555555555556,
              "#d8576b"
             ],
             [
              0.6666666666666666,
              "#ed7953"
             ],
             [
              0.7777777777777778,
              "#fb9f3a"
             ],
             [
              0.8888888888888888,
              "#fdca26"
             ],
             [
              1,
              "#f0f921"
             ]
            ],
            "type": "contour"
           }
          ],
          "contourcarpet": [
           {
            "colorbar": {
             "outlinewidth": 0,
             "ticks": ""
            },
            "type": "contourcarpet"
           }
          ],
          "heatmap": [
           {
            "colorbar": {
             "outlinewidth": 0,
             "ticks": ""
            },
            "colorscale": [
             [
              0,
              "#0d0887"
             ],
             [
              0.1111111111111111,
              "#46039f"
             ],
             [
              0.2222222222222222,
              "#7201a8"
             ],
             [
              0.3333333333333333,
              "#9c179e"
             ],
             [
              0.4444444444444444,
              "#bd3786"
             ],
             [
              0.5555555555555556,
              "#d8576b"
             ],
             [
              0.6666666666666666,
              "#ed7953"
             ],
             [
              0.7777777777777778,
              "#fb9f3a"
             ],
             [
              0.8888888888888888,
              "#fdca26"
             ],
             [
              1,
              "#f0f921"
             ]
            ],
            "type": "heatmap"
           }
          ],
          "histogram": [
           {
            "marker": {
             "pattern": {
              "fillmode": "overlay",
              "size": 10,
              "solidity": 0.2
             }
            },
            "type": "histogram"
           }
          ],
          "histogram2d": [
           {
            "colorbar": {
             "outlinewidth": 0,
             "ticks": ""
            },
            "colorscale": [
             [
              0,
              "#0d0887"
             ],
             [
              0.1111111111111111,
              "#46039f"
             ],
             [
              0.2222222222222222,
              "#7201a8"
             ],
             [
              0.3333333333333333,
              "#9c179e"
             ],
             [
              0.4444444444444444,
              "#bd3786"
             ],
             [
              0.5555555555555556,
              "#d8576b"
             ],
             [
              0.6666666666666666,
              "#ed7953"
             ],
             [
              0.7777777777777778,
              "#fb9f3a"
             ],
             [
              0.8888888888888888,
              "#fdca26"
             ],
             [
              1,
              "#f0f921"
             ]
            ],
            "type": "histogram2d"
           }
          ],
          "histogram2dcontour": [
           {
            "colorbar": {
             "outlinewidth": 0,
             "ticks": ""
            },
            "colorscale": [
             [
              0,
              "#0d0887"
             ],
             [
              0.1111111111111111,
              "#46039f"
             ],
             [
              0.2222222222222222,
              "#7201a8"
             ],
             [
              0.3333333333333333,
              "#9c179e"
             ],
             [
              0.4444444444444444,
              "#bd3786"
             ],
             [
              0.5555555555555556,
              "#d8576b"
             ],
             [
              0.6666666666666666,
              "#ed7953"
             ],
             [
              0.7777777777777778,
              "#fb9f3a"
             ],
             [
              0.8888888888888888,
              "#fdca26"
             ],
             [
              1,
              "#f0f921"
             ]
            ],
            "type": "histogram2dcontour"
           }
          ],
          "mesh3d": [
           {
            "colorbar": {
             "outlinewidth": 0,
             "ticks": ""
            },
            "type": "mesh3d"
           }
          ],
          "parcoords": [
           {
            "line": {
             "colorbar": {
              "outlinewidth": 0,
              "ticks": ""
             }
            },
            "type": "parcoords"
           }
          ],
          "pie": [
           {
            "automargin": true,
            "type": "pie"
           }
          ],
          "scatter": [
           {
            "marker": {
             "line": {
              "color": "#283442"
             }
            },
            "type": "scatter"
           }
          ],
          "scatter3d": [
           {
            "line": {
             "colorbar": {
              "outlinewidth": 0,
              "ticks": ""
             }
            },
            "marker": {
             "colorbar": {
              "outlinewidth": 0,
              "ticks": ""
             }
            },
            "type": "scatter3d"
           }
          ],
          "scattercarpet": [
           {
            "marker": {
             "colorbar": {
              "outlinewidth": 0,
              "ticks": ""
             }
            },
            "type": "scattercarpet"
           }
          ],
          "scattergeo": [
           {
            "marker": {
             "colorbar": {
              "outlinewidth": 0,
              "ticks": ""
             }
            },
            "type": "scattergeo"
           }
          ],
          "scattergl": [
           {
            "marker": {
             "line": {
              "color": "#283442"
             }
            },
            "type": "scattergl"
           }
          ],
          "scattermap": [
           {
            "marker": {
             "colorbar": {
              "outlinewidth": 0,
              "ticks": ""
             }
            },
            "type": "scattermap"
           }
          ],
          "scattermapbox": [
           {
            "marker": {
             "colorbar": {
              "outlinewidth": 0,
              "ticks": ""
             }
            },
            "type": "scattermapbox"
           }
          ],
          "scatterpolar": [
           {
            "marker": {
             "colorbar": {
              "outlinewidth": 0,
              "ticks": ""
             }
            },
            "type": "scatterpolar"
           }
          ],
          "scatterpolargl": [
           {
            "marker": {
             "colorbar": {
              "outlinewidth": 0,
              "ticks": ""
             }
            },
            "type": "scatterpolargl"
           }
          ],
          "scatterternary": [
           {
            "marker": {
             "colorbar": {
              "outlinewidth": 0,
              "ticks": ""
             }
            },
            "type": "scatterternary"
           }
          ],
          "surface": [
           {
            "colorbar": {
             "outlinewidth": 0,
             "ticks": ""
            },
            "colorscale": [
             [
              0,
              "#0d0887"
             ],
             [
              0.1111111111111111,
              "#46039f"
             ],
             [
              0.2222222222222222,
              "#7201a8"
             ],
             [
              0.3333333333333333,
              "#9c179e"
             ],
             [
              0.4444444444444444,
              "#bd3786"
             ],
             [
              0.5555555555555556,
              "#d8576b"
             ],
             [
              0.6666666666666666,
              "#ed7953"
             ],
             [
              0.7777777777777778,
              "#fb9f3a"
             ],
             [
              0.8888888888888888,
              "#fdca26"
             ],
             [
              1,
              "#f0f921"
             ]
            ],
            "type": "surface"
           }
          ],
          "table": [
           {
            "cells": {
             "fill": {
              "color": "#506784"
             },
             "line": {
              "color": "rgb(17,17,17)"
             }
            },
            "header": {
             "fill": {
              "color": "#2a3f5f"
             },
             "line": {
              "color": "rgb(17,17,17)"
             }
            },
            "type": "table"
           }
          ]
         },
         "layout": {
          "annotationdefaults": {
           "arrowcolor": "#f2f5fa",
           "arrowhead": 0,
           "arrowwidth": 1
          },
          "autotypenumbers": "strict",
          "coloraxis": {
           "colorbar": {
            "outlinewidth": 0,
            "ticks": ""
           }
          },
          "colorscale": {
           "diverging": [
            [
             0,
             "#8e0152"
            ],
            [
             0.1,
             "#c51b7d"
            ],
            [
             0.2,
             "#de77ae"
            ],
            [
             0.3,
             "#f1b6da"
            ],
            [
             0.4,
             "#fde0ef"
            ],
            [
             0.5,
             "#f7f7f7"
            ],
            [
             0.6,
             "#e6f5d0"
            ],
            [
             0.7,
             "#b8e186"
            ],
            [
             0.8,
             "#7fbc41"
            ],
            [
             0.9,
             "#4d9221"
            ],
            [
             1,
             "#276419"
            ]
           ],
           "sequential": [
            [
             0,
             "#0d0887"
            ],
            [
             0.1111111111111111,
             "#46039f"
            ],
            [
             0.2222222222222222,
             "#7201a8"
            ],
            [
             0.3333333333333333,
             "#9c179e"
            ],
            [
             0.4444444444444444,
             "#bd3786"
            ],
            [
             0.5555555555555556,
             "#d8576b"
            ],
            [
             0.6666666666666666,
             "#ed7953"
            ],
            [
             0.7777777777777778,
             "#fb9f3a"
            ],
            [
             0.8888888888888888,
             "#fdca26"
            ],
            [
             1,
             "#f0f921"
            ]
           ],
           "sequentialminus": [
            [
             0,
             "#0d0887"
            ],
            [
             0.1111111111111111,
             "#46039f"
            ],
            [
             0.2222222222222222,
             "#7201a8"
            ],
            [
             0.3333333333333333,
             "#9c179e"
            ],
            [
             0.4444444444444444,
             "#bd3786"
            ],
            [
             0.5555555555555556,
             "#d8576b"
            ],
            [
             0.6666666666666666,
             "#ed7953"
            ],
            [
             0.7777777777777778,
             "#fb9f3a"
            ],
            [
             0.8888888888888888,
             "#fdca26"
            ],
            [
             1,
             "#f0f921"
            ]
           ]
          },
          "colorway": [
           "#636efa",
           "#EF553B",
           "#00cc96",
           "#ab63fa",
           "#FFA15A",
           "#19d3f3",
           "#FF6692",
           "#B6E880",
           "#FF97FF",
           "#FECB52"
          ],
          "font": {
           "color": "#f2f5fa"
          },
          "geo": {
           "bgcolor": "rgb(17,17,17)",
           "lakecolor": "rgb(17,17,17)",
           "landcolor": "rgb(17,17,17)",
           "showlakes": true,
           "showland": true,
           "subunitcolor": "#506784"
          },
          "hoverlabel": {
           "align": "left"
          },
          "hovermode": "closest",
          "mapbox": {
           "style": "dark"
          },
          "paper_bgcolor": "rgb(17,17,17)",
          "plot_bgcolor": "rgb(17,17,17)",
          "polar": {
           "angularaxis": {
            "gridcolor": "#506784",
            "linecolor": "#506784",
            "ticks": ""
           },
           "bgcolor": "rgb(17,17,17)",
           "radialaxis": {
            "gridcolor": "#506784",
            "linecolor": "#506784",
            "ticks": ""
           }
          },
          "scene": {
           "xaxis": {
            "backgroundcolor": "rgb(17,17,17)",
            "gridcolor": "#506784",
            "gridwidth": 2,
            "linecolor": "#506784",
            "showbackground": true,
            "ticks": "",
            "zerolinecolor": "#C8D4E3"
           },
           "yaxis": {
            "backgroundcolor": "rgb(17,17,17)",
            "gridcolor": "#506784",
            "gridwidth": 2,
            "linecolor": "#506784",
            "showbackground": true,
            "ticks": "",
            "zerolinecolor": "#C8D4E3"
           },
           "zaxis": {
            "backgroundcolor": "rgb(17,17,17)",
            "gridcolor": "#506784",
            "gridwidth": 2,
            "linecolor": "#506784",
            "showbackground": true,
            "ticks": "",
            "zerolinecolor": "#C8D4E3"
           }
          },
          "shapedefaults": {
           "line": {
            "color": "#f2f5fa"
           }
          },
          "sliderdefaults": {
           "bgcolor": "#C8D4E3",
           "bordercolor": "rgb(17,17,17)",
           "borderwidth": 1,
           "tickwidth": 0
          },
          "ternary": {
           "aaxis": {
            "gridcolor": "#506784",
            "linecolor": "#506784",
            "ticks": ""
           },
           "baxis": {
            "gridcolor": "#506784",
            "linecolor": "#506784",
            "ticks": ""
           },
           "bgcolor": "rgb(17,17,17)",
           "caxis": {
            "gridcolor": "#506784",
            "linecolor": "#506784",
            "ticks": ""
           }
          },
          "title": {
           "x": 0.05
          },
          "updatemenudefaults": {
           "bgcolor": "#506784",
           "borderwidth": 0
          },
          "xaxis": {
           "automargin": true,
           "gridcolor": "#283442",
           "linecolor": "#506784",
           "ticks": "",
           "title": {
            "standoff": 15
           },
           "zerolinecolor": "#283442",
           "zerolinewidth": 2
          },
          "yaxis": {
           "automargin": true,
           "gridcolor": "#283442",
           "linecolor": "#506784",
           "ticks": "",
           "title": {
            "standoff": 15
           },
           "zerolinecolor": "#283442",
           "zerolinewidth": 2
          }
         }
        },
        "title": {
         "text": "CGPA Distribution"
        },
        "xaxis": {
         "anchor": "y",
         "domain": [
          0,
          1
         ],
         "title": {
          "text": "CGPA"
         }
        },
        "xaxis2": {
         "anchor": "y2",
         "domain": [
          0,
          1
         ],
         "matches": "x",
         "showgrid": true,
         "showticklabels": false
        },
        "yaxis": {
         "anchor": "x",
         "domain": [
          0,
          0.8316
         ],
         "title": {
          "text": "Number of Students"
         }
        },
        "yaxis2": {
         "anchor": "x2",
         "domain": [
          0.8416,
          1
         ],
         "matches": "y2",
         "showgrid": false,
         "showline": false,
         "showticklabels": false,
         "ticks": ""
        }
       }
      }
     },
     "metadata": {},
     "output_type": "display_data"
    }
   ],
   "source": [
    "fig = px.histogram(adm_data, x='CGPA', nbins=20, marginal=\"violin\", histnorm='probability density', title='CGPA Distribution')\n",
    "\n",
    "\n",
    "# Extract the CGPA column\n",
    "x = adm_data['CGPA']\n",
    "# Create KDE line using scipy\n",
    "kde = gaussian_kde(x)\n",
    "x_range = np.linspace(x.min(), x.max(), 100)\n",
    "kde_values = kde(x_range)\n",
    "\n",
    "# Add KDE to the same figure\n",
    "fig.add_trace(go.Scatter(x=x_range, y=kde_values, mode='lines', name='KDE'))\n",
    "\n",
    "\n",
    "fig.update_layout(bargap=0.1,template='plotly_dark', yaxis_title='Number of Students')\n",
    "fig.show(renderer=\"vscode\")"
   ]
  },
  {
   "cell_type": "code",
   "execution_count": 21,
   "id": "b5d11517",
   "metadata": {},
   "outputs": [
    {
     "data": {
      "application/vnd.plotly.v1+json": {
       "config": {
        "plotlyServerURL": "https://plot.ly"
       },
       "data": [
        {
         "alignmentgroup": "True",
         "hovertemplate": "TOEFL=%{y}<extra></extra>",
         "legendgroup": "",
         "marker": {
          "color": "#636efa"
         },
         "name": "",
         "notched": false,
         "offsetgroup": "",
         "orientation": "v",
         "showlegend": false,
         "type": "box",
         "x0": " ",
         "xaxis": "x",
         "y": {
          "bdata": "dmtobmdzbWVmbGpvcG1oaWtqbmZrcnR3d3htYl1jYWd2cnBuamlpbG5pa3VxbnJ3bm9iZHRwbmdmY2NoZGVpa29wcmttc3Zwb2xqcnBjX11peG5zc2dqa2xtamFiYWNkZHh3cWtpamhwbm91dGdsbWtuaWpmaGNodXdqbGpkcXBwdnJpaXBxbWdkdG1udnN4cHFpcnRqcnRwaWxtaWhqZGdjbWlvbmZmYWNldW5xb293bmxmaGtkbmpxa3ZzcG9ucnZta2lqaGtnbnh4aWNjZmpobG54d3V0cG1uaGducW1pY25ucG9oamtkcW9wcmhkZWdzcmtuaWhub2hjZHNybmNkZndsaGdvbmZpa3FsaWBfY2RucWVnZmZuam9wdHZyaG1pZmNiZWRreHJwamxpa2ptbnBsbmhsa2RpaGVjb3FqaGtmaHRkZXBgcWlqbGtvbnZsa2tuamdgYmFeY2VrbmRmYmptaGlrbnRzZ2ZyaGJcYmdud21pZWBkYmNoaW5kcXVlaWFsZmpwaG9ua3RndWRpbXRlY2dkZWJgXmZlbmpoZ29mZHBwd3JvamVnc2hwcG9naW5qbmlocHRycXR2bG1lcHF0Z2lmZGNkcWlmaWthYGNlbnJuZ3RmaWVoaWduZmtxZ2plZnNwbmljZV9jbHV4Z3E=",
          "dtype": "i1"
         },
         "y0": " ",
         "yaxis": "y"
        }
       ],
       "layout": {
        "boxmode": "group",
        "legend": {
         "tracegroupgap": 0
        },
        "template": {
         "data": {
          "bar": [
           {
            "error_x": {
             "color": "#f2f5fa"
            },
            "error_y": {
             "color": "#f2f5fa"
            },
            "marker": {
             "line": {
              "color": "rgb(17,17,17)",
              "width": 0.5
             },
             "pattern": {
              "fillmode": "overlay",
              "size": 10,
              "solidity": 0.2
             }
            },
            "type": "bar"
           }
          ],
          "barpolar": [
           {
            "marker": {
             "line": {
              "color": "rgb(17,17,17)",
              "width": 0.5
             },
             "pattern": {
              "fillmode": "overlay",
              "size": 10,
              "solidity": 0.2
             }
            },
            "type": "barpolar"
           }
          ],
          "carpet": [
           {
            "aaxis": {
             "endlinecolor": "#A2B1C6",
             "gridcolor": "#506784",
             "linecolor": "#506784",
             "minorgridcolor": "#506784",
             "startlinecolor": "#A2B1C6"
            },
            "baxis": {
             "endlinecolor": "#A2B1C6",
             "gridcolor": "#506784",
             "linecolor": "#506784",
             "minorgridcolor": "#506784",
             "startlinecolor": "#A2B1C6"
            },
            "type": "carpet"
           }
          ],
          "choropleth": [
           {
            "colorbar": {
             "outlinewidth": 0,
             "ticks": ""
            },
            "type": "choropleth"
           }
          ],
          "contour": [
           {
            "colorbar": {
             "outlinewidth": 0,
             "ticks": ""
            },
            "colorscale": [
             [
              0,
              "#0d0887"
             ],
             [
              0.1111111111111111,
              "#46039f"
             ],
             [
              0.2222222222222222,
              "#7201a8"
             ],
             [
              0.3333333333333333,
              "#9c179e"
             ],
             [
              0.4444444444444444,
              "#bd3786"
             ],
             [
              0.5555555555555556,
              "#d8576b"
             ],
             [
              0.6666666666666666,
              "#ed7953"
             ],
             [
              0.7777777777777778,
              "#fb9f3a"
             ],
             [
              0.8888888888888888,
              "#fdca26"
             ],
             [
              1,
              "#f0f921"
             ]
            ],
            "type": "contour"
           }
          ],
          "contourcarpet": [
           {
            "colorbar": {
             "outlinewidth": 0,
             "ticks": ""
            },
            "type": "contourcarpet"
           }
          ],
          "heatmap": [
           {
            "colorbar": {
             "outlinewidth": 0,
             "ticks": ""
            },
            "colorscale": [
             [
              0,
              "#0d0887"
             ],
             [
              0.1111111111111111,
              "#46039f"
             ],
             [
              0.2222222222222222,
              "#7201a8"
             ],
             [
              0.3333333333333333,
              "#9c179e"
             ],
             [
              0.4444444444444444,
              "#bd3786"
             ],
             [
              0.5555555555555556,
              "#d8576b"
             ],
             [
              0.6666666666666666,
              "#ed7953"
             ],
             [
              0.7777777777777778,
              "#fb9f3a"
             ],
             [
              0.8888888888888888,
              "#fdca26"
             ],
             [
              1,
              "#f0f921"
             ]
            ],
            "type": "heatmap"
           }
          ],
          "histogram": [
           {
            "marker": {
             "pattern": {
              "fillmode": "overlay",
              "size": 10,
              "solidity": 0.2
             }
            },
            "type": "histogram"
           }
          ],
          "histogram2d": [
           {
            "colorbar": {
             "outlinewidth": 0,
             "ticks": ""
            },
            "colorscale": [
             [
              0,
              "#0d0887"
             ],
             [
              0.1111111111111111,
              "#46039f"
             ],
             [
              0.2222222222222222,
              "#7201a8"
             ],
             [
              0.3333333333333333,
              "#9c179e"
             ],
             [
              0.4444444444444444,
              "#bd3786"
             ],
             [
              0.5555555555555556,
              "#d8576b"
             ],
             [
              0.6666666666666666,
              "#ed7953"
             ],
             [
              0.7777777777777778,
              "#fb9f3a"
             ],
             [
              0.8888888888888888,
              "#fdca26"
             ],
             [
              1,
              "#f0f921"
             ]
            ],
            "type": "histogram2d"
           }
          ],
          "histogram2dcontour": [
           {
            "colorbar": {
             "outlinewidth": 0,
             "ticks": ""
            },
            "colorscale": [
             [
              0,
              "#0d0887"
             ],
             [
              0.1111111111111111,
              "#46039f"
             ],
             [
              0.2222222222222222,
              "#7201a8"
             ],
             [
              0.3333333333333333,
              "#9c179e"
             ],
             [
              0.4444444444444444,
              "#bd3786"
             ],
             [
              0.5555555555555556,
              "#d8576b"
             ],
             [
              0.6666666666666666,
              "#ed7953"
             ],
             [
              0.7777777777777778,
              "#fb9f3a"
             ],
             [
              0.8888888888888888,
              "#fdca26"
             ],
             [
              1,
              "#f0f921"
             ]
            ],
            "type": "histogram2dcontour"
           }
          ],
          "mesh3d": [
           {
            "colorbar": {
             "outlinewidth": 0,
             "ticks": ""
            },
            "type": "mesh3d"
           }
          ],
          "parcoords": [
           {
            "line": {
             "colorbar": {
              "outlinewidth": 0,
              "ticks": ""
             }
            },
            "type": "parcoords"
           }
          ],
          "pie": [
           {
            "automargin": true,
            "type": "pie"
           }
          ],
          "scatter": [
           {
            "marker": {
             "line": {
              "color": "#283442"
             }
            },
            "type": "scatter"
           }
          ],
          "scatter3d": [
           {
            "line": {
             "colorbar": {
              "outlinewidth": 0,
              "ticks": ""
             }
            },
            "marker": {
             "colorbar": {
              "outlinewidth": 0,
              "ticks": ""
             }
            },
            "type": "scatter3d"
           }
          ],
          "scattercarpet": [
           {
            "marker": {
             "colorbar": {
              "outlinewidth": 0,
              "ticks": ""
             }
            },
            "type": "scattercarpet"
           }
          ],
          "scattergeo": [
           {
            "marker": {
             "colorbar": {
              "outlinewidth": 0,
              "ticks": ""
             }
            },
            "type": "scattergeo"
           }
          ],
          "scattergl": [
           {
            "marker": {
             "line": {
              "color": "#283442"
             }
            },
            "type": "scattergl"
           }
          ],
          "scattermap": [
           {
            "marker": {
             "colorbar": {
              "outlinewidth": 0,
              "ticks": ""
             }
            },
            "type": "scattermap"
           }
          ],
          "scattermapbox": [
           {
            "marker": {
             "colorbar": {
              "outlinewidth": 0,
              "ticks": ""
             }
            },
            "type": "scattermapbox"
           }
          ],
          "scatterpolar": [
           {
            "marker": {
             "colorbar": {
              "outlinewidth": 0,
              "ticks": ""
             }
            },
            "type": "scatterpolar"
           }
          ],
          "scatterpolargl": [
           {
            "marker": {
             "colorbar": {
              "outlinewidth": 0,
              "ticks": ""
             }
            },
            "type": "scatterpolargl"
           }
          ],
          "scatterternary": [
           {
            "marker": {
             "colorbar": {
              "outlinewidth": 0,
              "ticks": ""
             }
            },
            "type": "scatterternary"
           }
          ],
          "surface": [
           {
            "colorbar": {
             "outlinewidth": 0,
             "ticks": ""
            },
            "colorscale": [
             [
              0,
              "#0d0887"
             ],
             [
              0.1111111111111111,
              "#46039f"
             ],
             [
              0.2222222222222222,
              "#7201a8"
             ],
             [
              0.3333333333333333,
              "#9c179e"
             ],
             [
              0.4444444444444444,
              "#bd3786"
             ],
             [
              0.5555555555555556,
              "#d8576b"
             ],
             [
              0.6666666666666666,
              "#ed7953"
             ],
             [
              0.7777777777777778,
              "#fb9f3a"
             ],
             [
              0.8888888888888888,
              "#fdca26"
             ],
             [
              1,
              "#f0f921"
             ]
            ],
            "type": "surface"
           }
          ],
          "table": [
           {
            "cells": {
             "fill": {
              "color": "#506784"
             },
             "line": {
              "color": "rgb(17,17,17)"
             }
            },
            "header": {
             "fill": {
              "color": "#2a3f5f"
             },
             "line": {
              "color": "rgb(17,17,17)"
             }
            },
            "type": "table"
           }
          ]
         },
         "layout": {
          "annotationdefaults": {
           "arrowcolor": "#f2f5fa",
           "arrowhead": 0,
           "arrowwidth": 1
          },
          "autotypenumbers": "strict",
          "coloraxis": {
           "colorbar": {
            "outlinewidth": 0,
            "ticks": ""
           }
          },
          "colorscale": {
           "diverging": [
            [
             0,
             "#8e0152"
            ],
            [
             0.1,
             "#c51b7d"
            ],
            [
             0.2,
             "#de77ae"
            ],
            [
             0.3,
             "#f1b6da"
            ],
            [
             0.4,
             "#fde0ef"
            ],
            [
             0.5,
             "#f7f7f7"
            ],
            [
             0.6,
             "#e6f5d0"
            ],
            [
             0.7,
             "#b8e186"
            ],
            [
             0.8,
             "#7fbc41"
            ],
            [
             0.9,
             "#4d9221"
            ],
            [
             1,
             "#276419"
            ]
           ],
           "sequential": [
            [
             0,
             "#0d0887"
            ],
            [
             0.1111111111111111,
             "#46039f"
            ],
            [
             0.2222222222222222,
             "#7201a8"
            ],
            [
             0.3333333333333333,
             "#9c179e"
            ],
            [
             0.4444444444444444,
             "#bd3786"
            ],
            [
             0.5555555555555556,
             "#d8576b"
            ],
            [
             0.6666666666666666,
             "#ed7953"
            ],
            [
             0.7777777777777778,
             "#fb9f3a"
            ],
            [
             0.8888888888888888,
             "#fdca26"
            ],
            [
             1,
             "#f0f921"
            ]
           ],
           "sequentialminus": [
            [
             0,
             "#0d0887"
            ],
            [
             0.1111111111111111,
             "#46039f"
            ],
            [
             0.2222222222222222,
             "#7201a8"
            ],
            [
             0.3333333333333333,
             "#9c179e"
            ],
            [
             0.4444444444444444,
             "#bd3786"
            ],
            [
             0.5555555555555556,
             "#d8576b"
            ],
            [
             0.6666666666666666,
             "#ed7953"
            ],
            [
             0.7777777777777778,
             "#fb9f3a"
            ],
            [
             0.8888888888888888,
             "#fdca26"
            ],
            [
             1,
             "#f0f921"
            ]
           ]
          },
          "colorway": [
           "#636efa",
           "#EF553B",
           "#00cc96",
           "#ab63fa",
           "#FFA15A",
           "#19d3f3",
           "#FF6692",
           "#B6E880",
           "#FF97FF",
           "#FECB52"
          ],
          "font": {
           "color": "#f2f5fa"
          },
          "geo": {
           "bgcolor": "rgb(17,17,17)",
           "lakecolor": "rgb(17,17,17)",
           "landcolor": "rgb(17,17,17)",
           "showlakes": true,
           "showland": true,
           "subunitcolor": "#506784"
          },
          "hoverlabel": {
           "align": "left"
          },
          "hovermode": "closest",
          "mapbox": {
           "style": "dark"
          },
          "paper_bgcolor": "rgb(17,17,17)",
          "plot_bgcolor": "rgb(17,17,17)",
          "polar": {
           "angularaxis": {
            "gridcolor": "#506784",
            "linecolor": "#506784",
            "ticks": ""
           },
           "bgcolor": "rgb(17,17,17)",
           "radialaxis": {
            "gridcolor": "#506784",
            "linecolor": "#506784",
            "ticks": ""
           }
          },
          "scene": {
           "xaxis": {
            "backgroundcolor": "rgb(17,17,17)",
            "gridcolor": "#506784",
            "gridwidth": 2,
            "linecolor": "#506784",
            "showbackground": true,
            "ticks": "",
            "zerolinecolor": "#C8D4E3"
           },
           "yaxis": {
            "backgroundcolor": "rgb(17,17,17)",
            "gridcolor": "#506784",
            "gridwidth": 2,
            "linecolor": "#506784",
            "showbackground": true,
            "ticks": "",
            "zerolinecolor": "#C8D4E3"
           },
           "zaxis": {
            "backgroundcolor": "rgb(17,17,17)",
            "gridcolor": "#506784",
            "gridwidth": 2,
            "linecolor": "#506784",
            "showbackground": true,
            "ticks": "",
            "zerolinecolor": "#C8D4E3"
           }
          },
          "shapedefaults": {
           "line": {
            "color": "#f2f5fa"
           }
          },
          "sliderdefaults": {
           "bgcolor": "#C8D4E3",
           "bordercolor": "rgb(17,17,17)",
           "borderwidth": 1,
           "tickwidth": 0
          },
          "ternary": {
           "aaxis": {
            "gridcolor": "#506784",
            "linecolor": "#506784",
            "ticks": ""
           },
           "baxis": {
            "gridcolor": "#506784",
            "linecolor": "#506784",
            "ticks": ""
           },
           "bgcolor": "rgb(17,17,17)",
           "caxis": {
            "gridcolor": "#506784",
            "linecolor": "#506784",
            "ticks": ""
           }
          },
          "title": {
           "x": 0.05
          },
          "updatemenudefaults": {
           "bgcolor": "#506784",
           "borderwidth": 0
          },
          "xaxis": {
           "automargin": true,
           "gridcolor": "#283442",
           "linecolor": "#506784",
           "ticks": "",
           "title": {
            "standoff": 15
           },
           "zerolinecolor": "#283442",
           "zerolinewidth": 2
          },
          "yaxis": {
           "automargin": true,
           "gridcolor": "#283442",
           "linecolor": "#506784",
           "ticks": "",
           "title": {
            "standoff": 15
           },
           "zerolinecolor": "#283442",
           "zerolinewidth": 2
          }
         }
        },
        "title": {
         "text": "Box Plot for TOEFL Scores"
        },
        "xaxis": {
         "anchor": "y",
         "domain": [
          0,
          1
         ]
        },
        "yaxis": {
         "anchor": "x",
         "domain": [
          0,
          1
         ],
         "title": {
          "text": "TOEFL"
         }
        }
       }
      }
     },
     "metadata": {},
     "output_type": "display_data"
    }
   ],
   "source": [
    "fig = px.box(adm_data, y=\"TOEFL\", title=\"Box Plot for TOEFL Scores\")\n",
    "\n",
    "fig.update_layout(template='plotly_dark')\n",
    "fig.show(renderer='vscode')"
   ]
  },
  {
   "cell_type": "code",
   "execution_count": 22,
   "id": "d651fe3c",
   "metadata": {},
   "outputs": [
    {
     "data": {
      "application/vnd.microsoft.datawrangler.viewer.v0+json": {
       "columns": [
        {
         "name": "index",
         "rawType": "int64",
         "type": "integer"
        },
        {
         "name": "University_Rating",
         "rawType": "int64",
         "type": "integer"
        },
        {
         "name": "count",
         "rawType": "int64",
         "type": "integer"
        }
       ],
       "ref": "1fa5d97c-bd60-48f7-bcff-398635bac5fa",
       "rows": [
        [
         "0",
         "1",
         "34"
        ],
        [
         "1",
         "2",
         "126"
        ],
        [
         "2",
         "3",
         "162"
        ],
        [
         "3",
         "4",
         "105"
        ],
        [
         "4",
         "5",
         "73"
        ]
       ],
       "shape": {
        "columns": 2,
        "rows": 5
       }
      },
      "text/html": [
       "<div>\n",
       "<style scoped>\n",
       "    .dataframe tbody tr th:only-of-type {\n",
       "        vertical-align: middle;\n",
       "    }\n",
       "\n",
       "    .dataframe tbody tr th {\n",
       "        vertical-align: top;\n",
       "    }\n",
       "\n",
       "    .dataframe thead th {\n",
       "        text-align: right;\n",
       "    }\n",
       "</style>\n",
       "<table border=\"1\" class=\"dataframe\">\n",
       "  <thead>\n",
       "    <tr style=\"text-align: right;\">\n",
       "      <th></th>\n",
       "      <th>University_Rating</th>\n",
       "      <th>count</th>\n",
       "    </tr>\n",
       "  </thead>\n",
       "  <tbody>\n",
       "    <tr>\n",
       "      <th>0</th>\n",
       "      <td>1</td>\n",
       "      <td>34</td>\n",
       "    </tr>\n",
       "    <tr>\n",
       "      <th>1</th>\n",
       "      <td>2</td>\n",
       "      <td>126</td>\n",
       "    </tr>\n",
       "    <tr>\n",
       "      <th>2</th>\n",
       "      <td>3</td>\n",
       "      <td>162</td>\n",
       "    </tr>\n",
       "    <tr>\n",
       "      <th>3</th>\n",
       "      <td>4</td>\n",
       "      <td>105</td>\n",
       "    </tr>\n",
       "    <tr>\n",
       "      <th>4</th>\n",
       "      <td>5</td>\n",
       "      <td>73</td>\n",
       "    </tr>\n",
       "  </tbody>\n",
       "</table>\n",
       "</div>"
      ],
      "text/plain": [
       "   University_Rating  count\n",
       "0                  1     34\n",
       "1                  2    126\n",
       "2                  3    162\n",
       "3                  4    105\n",
       "4                  5     73"
      ]
     },
     "execution_count": 22,
     "metadata": {},
     "output_type": "execute_result"
    }
   ],
   "source": [
    "Rating_matrix=adm_data['University_Rating'].value_counts().sort_index().reset_index()\n",
    "Rating_matrix"
   ]
  },
  {
   "cell_type": "code",
   "execution_count": 23,
   "id": "8d59c411",
   "metadata": {},
   "outputs": [
    {
     "data": {
      "application/vnd.plotly.v1+json": {
       "config": {
        "plotlyServerURL": "https://plot.ly"
       },
       "data": [
        {
         "hovertemplate": "University_Rating=%{x}<br>count=%{y}<extra></extra>",
         "legendgroup": "",
         "marker": {
          "color": "#636efa",
          "pattern": {
           "shape": ""
          }
         },
         "name": "",
         "orientation": "v",
         "showlegend": false,
         "textposition": "auto",
         "type": "bar",
         "x": {
          "bdata": "AQIDBAU=",
          "dtype": "i1"
         },
         "xaxis": "x",
         "y": {
          "bdata": "IgB+AKIAaQBJAA==",
          "dtype": "i2"
         },
         "yaxis": "y"
        }
       ],
       "layout": {
        "barmode": "relative",
        "legend": {
         "tracegroupgap": 0
        },
        "template": {
         "data": {
          "bar": [
           {
            "error_x": {
             "color": "#f2f5fa"
            },
            "error_y": {
             "color": "#f2f5fa"
            },
            "marker": {
             "line": {
              "color": "rgb(17,17,17)",
              "width": 0.5
             },
             "pattern": {
              "fillmode": "overlay",
              "size": 10,
              "solidity": 0.2
             }
            },
            "type": "bar"
           }
          ],
          "barpolar": [
           {
            "marker": {
             "line": {
              "color": "rgb(17,17,17)",
              "width": 0.5
             },
             "pattern": {
              "fillmode": "overlay",
              "size": 10,
              "solidity": 0.2
             }
            },
            "type": "barpolar"
           }
          ],
          "carpet": [
           {
            "aaxis": {
             "endlinecolor": "#A2B1C6",
             "gridcolor": "#506784",
             "linecolor": "#506784",
             "minorgridcolor": "#506784",
             "startlinecolor": "#A2B1C6"
            },
            "baxis": {
             "endlinecolor": "#A2B1C6",
             "gridcolor": "#506784",
             "linecolor": "#506784",
             "minorgridcolor": "#506784",
             "startlinecolor": "#A2B1C6"
            },
            "type": "carpet"
           }
          ],
          "choropleth": [
           {
            "colorbar": {
             "outlinewidth": 0,
             "ticks": ""
            },
            "type": "choropleth"
           }
          ],
          "contour": [
           {
            "colorbar": {
             "outlinewidth": 0,
             "ticks": ""
            },
            "colorscale": [
             [
              0,
              "#0d0887"
             ],
             [
              0.1111111111111111,
              "#46039f"
             ],
             [
              0.2222222222222222,
              "#7201a8"
             ],
             [
              0.3333333333333333,
              "#9c179e"
             ],
             [
              0.4444444444444444,
              "#bd3786"
             ],
             [
              0.5555555555555556,
              "#d8576b"
             ],
             [
              0.6666666666666666,
              "#ed7953"
             ],
             [
              0.7777777777777778,
              "#fb9f3a"
             ],
             [
              0.8888888888888888,
              "#fdca26"
             ],
             [
              1,
              "#f0f921"
             ]
            ],
            "type": "contour"
           }
          ],
          "contourcarpet": [
           {
            "colorbar": {
             "outlinewidth": 0,
             "ticks": ""
            },
            "type": "contourcarpet"
           }
          ],
          "heatmap": [
           {
            "colorbar": {
             "outlinewidth": 0,
             "ticks": ""
            },
            "colorscale": [
             [
              0,
              "#0d0887"
             ],
             [
              0.1111111111111111,
              "#46039f"
             ],
             [
              0.2222222222222222,
              "#7201a8"
             ],
             [
              0.3333333333333333,
              "#9c179e"
             ],
             [
              0.4444444444444444,
              "#bd3786"
             ],
             [
              0.5555555555555556,
              "#d8576b"
             ],
             [
              0.6666666666666666,
              "#ed7953"
             ],
             [
              0.7777777777777778,
              "#fb9f3a"
             ],
             [
              0.8888888888888888,
              "#fdca26"
             ],
             [
              1,
              "#f0f921"
             ]
            ],
            "type": "heatmap"
           }
          ],
          "histogram": [
           {
            "marker": {
             "pattern": {
              "fillmode": "overlay",
              "size": 10,
              "solidity": 0.2
             }
            },
            "type": "histogram"
           }
          ],
          "histogram2d": [
           {
            "colorbar": {
             "outlinewidth": 0,
             "ticks": ""
            },
            "colorscale": [
             [
              0,
              "#0d0887"
             ],
             [
              0.1111111111111111,
              "#46039f"
             ],
             [
              0.2222222222222222,
              "#7201a8"
             ],
             [
              0.3333333333333333,
              "#9c179e"
             ],
             [
              0.4444444444444444,
              "#bd3786"
             ],
             [
              0.5555555555555556,
              "#d8576b"
             ],
             [
              0.6666666666666666,
              "#ed7953"
             ],
             [
              0.7777777777777778,
              "#fb9f3a"
             ],
             [
              0.8888888888888888,
              "#fdca26"
             ],
             [
              1,
              "#f0f921"
             ]
            ],
            "type": "histogram2d"
           }
          ],
          "histogram2dcontour": [
           {
            "colorbar": {
             "outlinewidth": 0,
             "ticks": ""
            },
            "colorscale": [
             [
              0,
              "#0d0887"
             ],
             [
              0.1111111111111111,
              "#46039f"
             ],
             [
              0.2222222222222222,
              "#7201a8"
             ],
             [
              0.3333333333333333,
              "#9c179e"
             ],
             [
              0.4444444444444444,
              "#bd3786"
             ],
             [
              0.5555555555555556,
              "#d8576b"
             ],
             [
              0.6666666666666666,
              "#ed7953"
             ],
             [
              0.7777777777777778,
              "#fb9f3a"
             ],
             [
              0.8888888888888888,
              "#fdca26"
             ],
             [
              1,
              "#f0f921"
             ]
            ],
            "type": "histogram2dcontour"
           }
          ],
          "mesh3d": [
           {
            "colorbar": {
             "outlinewidth": 0,
             "ticks": ""
            },
            "type": "mesh3d"
           }
          ],
          "parcoords": [
           {
            "line": {
             "colorbar": {
              "outlinewidth": 0,
              "ticks": ""
             }
            },
            "type": "parcoords"
           }
          ],
          "pie": [
           {
            "automargin": true,
            "type": "pie"
           }
          ],
          "scatter": [
           {
            "marker": {
             "line": {
              "color": "#283442"
             }
            },
            "type": "scatter"
           }
          ],
          "scatter3d": [
           {
            "line": {
             "colorbar": {
              "outlinewidth": 0,
              "ticks": ""
             }
            },
            "marker": {
             "colorbar": {
              "outlinewidth": 0,
              "ticks": ""
             }
            },
            "type": "scatter3d"
           }
          ],
          "scattercarpet": [
           {
            "marker": {
             "colorbar": {
              "outlinewidth": 0,
              "ticks": ""
             }
            },
            "type": "scattercarpet"
           }
          ],
          "scattergeo": [
           {
            "marker": {
             "colorbar": {
              "outlinewidth": 0,
              "ticks": ""
             }
            },
            "type": "scattergeo"
           }
          ],
          "scattergl": [
           {
            "marker": {
             "line": {
              "color": "#283442"
             }
            },
            "type": "scattergl"
           }
          ],
          "scattermap": [
           {
            "marker": {
             "colorbar": {
              "outlinewidth": 0,
              "ticks": ""
             }
            },
            "type": "scattermap"
           }
          ],
          "scattermapbox": [
           {
            "marker": {
             "colorbar": {
              "outlinewidth": 0,
              "ticks": ""
             }
            },
            "type": "scattermapbox"
           }
          ],
          "scatterpolar": [
           {
            "marker": {
             "colorbar": {
              "outlinewidth": 0,
              "ticks": ""
             }
            },
            "type": "scatterpolar"
           }
          ],
          "scatterpolargl": [
           {
            "marker": {
             "colorbar": {
              "outlinewidth": 0,
              "ticks": ""
             }
            },
            "type": "scatterpolargl"
           }
          ],
          "scatterternary": [
           {
            "marker": {
             "colorbar": {
              "outlinewidth": 0,
              "ticks": ""
             }
            },
            "type": "scatterternary"
           }
          ],
          "surface": [
           {
            "colorbar": {
             "outlinewidth": 0,
             "ticks": ""
            },
            "colorscale": [
             [
              0,
              "#0d0887"
             ],
             [
              0.1111111111111111,
              "#46039f"
             ],
             [
              0.2222222222222222,
              "#7201a8"
             ],
             [
              0.3333333333333333,
              "#9c179e"
             ],
             [
              0.4444444444444444,
              "#bd3786"
             ],
             [
              0.5555555555555556,
              "#d8576b"
             ],
             [
              0.6666666666666666,
              "#ed7953"
             ],
             [
              0.7777777777777778,
              "#fb9f3a"
             ],
             [
              0.8888888888888888,
              "#fdca26"
             ],
             [
              1,
              "#f0f921"
             ]
            ],
            "type": "surface"
           }
          ],
          "table": [
           {
            "cells": {
             "fill": {
              "color": "#506784"
             },
             "line": {
              "color": "rgb(17,17,17)"
             }
            },
            "header": {
             "fill": {
              "color": "#2a3f5f"
             },
             "line": {
              "color": "rgb(17,17,17)"
             }
            },
            "type": "table"
           }
          ]
         },
         "layout": {
          "annotationdefaults": {
           "arrowcolor": "#f2f5fa",
           "arrowhead": 0,
           "arrowwidth": 1
          },
          "autotypenumbers": "strict",
          "coloraxis": {
           "colorbar": {
            "outlinewidth": 0,
            "ticks": ""
           }
          },
          "colorscale": {
           "diverging": [
            [
             0,
             "#8e0152"
            ],
            [
             0.1,
             "#c51b7d"
            ],
            [
             0.2,
             "#de77ae"
            ],
            [
             0.3,
             "#f1b6da"
            ],
            [
             0.4,
             "#fde0ef"
            ],
            [
             0.5,
             "#f7f7f7"
            ],
            [
             0.6,
             "#e6f5d0"
            ],
            [
             0.7,
             "#b8e186"
            ],
            [
             0.8,
             "#7fbc41"
            ],
            [
             0.9,
             "#4d9221"
            ],
            [
             1,
             "#276419"
            ]
           ],
           "sequential": [
            [
             0,
             "#0d0887"
            ],
            [
             0.1111111111111111,
             "#46039f"
            ],
            [
             0.2222222222222222,
             "#7201a8"
            ],
            [
             0.3333333333333333,
             "#9c179e"
            ],
            [
             0.4444444444444444,
             "#bd3786"
            ],
            [
             0.5555555555555556,
             "#d8576b"
            ],
            [
             0.6666666666666666,
             "#ed7953"
            ],
            [
             0.7777777777777778,
             "#fb9f3a"
            ],
            [
             0.8888888888888888,
             "#fdca26"
            ],
            [
             1,
             "#f0f921"
            ]
           ],
           "sequentialminus": [
            [
             0,
             "#0d0887"
            ],
            [
             0.1111111111111111,
             "#46039f"
            ],
            [
             0.2222222222222222,
             "#7201a8"
            ],
            [
             0.3333333333333333,
             "#9c179e"
            ],
            [
             0.4444444444444444,
             "#bd3786"
            ],
            [
             0.5555555555555556,
             "#d8576b"
            ],
            [
             0.6666666666666666,
             "#ed7953"
            ],
            [
             0.7777777777777778,
             "#fb9f3a"
            ],
            [
             0.8888888888888888,
             "#fdca26"
            ],
            [
             1,
             "#f0f921"
            ]
           ]
          },
          "colorway": [
           "#636efa",
           "#EF553B",
           "#00cc96",
           "#ab63fa",
           "#FFA15A",
           "#19d3f3",
           "#FF6692",
           "#B6E880",
           "#FF97FF",
           "#FECB52"
          ],
          "font": {
           "color": "#f2f5fa"
          },
          "geo": {
           "bgcolor": "rgb(17,17,17)",
           "lakecolor": "rgb(17,17,17)",
           "landcolor": "rgb(17,17,17)",
           "showlakes": true,
           "showland": true,
           "subunitcolor": "#506784"
          },
          "hoverlabel": {
           "align": "left"
          },
          "hovermode": "closest",
          "mapbox": {
           "style": "dark"
          },
          "paper_bgcolor": "rgb(17,17,17)",
          "plot_bgcolor": "rgb(17,17,17)",
          "polar": {
           "angularaxis": {
            "gridcolor": "#506784",
            "linecolor": "#506784",
            "ticks": ""
           },
           "bgcolor": "rgb(17,17,17)",
           "radialaxis": {
            "gridcolor": "#506784",
            "linecolor": "#506784",
            "ticks": ""
           }
          },
          "scene": {
           "xaxis": {
            "backgroundcolor": "rgb(17,17,17)",
            "gridcolor": "#506784",
            "gridwidth": 2,
            "linecolor": "#506784",
            "showbackground": true,
            "ticks": "",
            "zerolinecolor": "#C8D4E3"
           },
           "yaxis": {
            "backgroundcolor": "rgb(17,17,17)",
            "gridcolor": "#506784",
            "gridwidth": 2,
            "linecolor": "#506784",
            "showbackground": true,
            "ticks": "",
            "zerolinecolor": "#C8D4E3"
           },
           "zaxis": {
            "backgroundcolor": "rgb(17,17,17)",
            "gridcolor": "#506784",
            "gridwidth": 2,
            "linecolor": "#506784",
            "showbackground": true,
            "ticks": "",
            "zerolinecolor": "#C8D4E3"
           }
          },
          "shapedefaults": {
           "line": {
            "color": "#f2f5fa"
           }
          },
          "sliderdefaults": {
           "bgcolor": "#C8D4E3",
           "bordercolor": "rgb(17,17,17)",
           "borderwidth": 1,
           "tickwidth": 0
          },
          "ternary": {
           "aaxis": {
            "gridcolor": "#506784",
            "linecolor": "#506784",
            "ticks": ""
           },
           "baxis": {
            "gridcolor": "#506784",
            "linecolor": "#506784",
            "ticks": ""
           },
           "bgcolor": "rgb(17,17,17)",
           "caxis": {
            "gridcolor": "#506784",
            "linecolor": "#506784",
            "ticks": ""
           }
          },
          "title": {
           "x": 0.05
          },
          "updatemenudefaults": {
           "bgcolor": "#506784",
           "borderwidth": 0
          },
          "xaxis": {
           "automargin": true,
           "gridcolor": "#283442",
           "linecolor": "#506784",
           "ticks": "",
           "title": {
            "standoff": 15
           },
           "zerolinecolor": "#283442",
           "zerolinewidth": 2
          },
          "yaxis": {
           "automargin": true,
           "gridcolor": "#283442",
           "linecolor": "#506784",
           "ticks": "",
           "title": {
            "standoff": 15
           },
           "zerolinecolor": "#283442",
           "zerolinewidth": 2
          }
         }
        },
        "title": {
         "text": "University Rating Distribution"
        },
        "xaxis": {
         "anchor": "y",
         "domain": [
          0,
          1
         ],
         "title": {
          "text": "University_Rating"
         }
        },
        "yaxis": {
         "anchor": "x",
         "domain": [
          0,
          1
         ],
         "title": {
          "text": "Number of applicants"
         }
        }
       }
      }
     },
     "metadata": {},
     "output_type": "display_data"
    }
   ],
   "source": [
    "fig = px.bar(Rating_matrix,y='count', x='University_Rating', title='University Rating Distribution')\n",
    "fig.update_layout(template='plotly_dark',yaxis_title='Number of applicants')\n",
    "fig.show(renderer='vscode')"
   ]
  },
  {
   "cell_type": "code",
   "execution_count": 24,
   "id": "60615bdd",
   "metadata": {},
   "outputs": [
    {
     "data": {
      "application/vnd.plotly.v1+json": {
       "config": {
        "plotlyServerURL": "https://plot.ly"
       },
       "data": [
        {
         "hovertemplate": "GRE=%{x}<br>Chance_of_Admit=%{y}<br>University_Rating=%{marker.color}<extra></extra>",
         "legendgroup": "",
         "marker": {
          "color": {
           "bdata": "BAQDAwIFAwIBAwMEBAMDAwMDAwMDBAUFBQUFAgECAgMEBQUFAgEBAgMCAgQFBQUFAwQDAgQEAwMDAgECAgMCAgMEAwIDBAUFBQQDAgMCAgEDBAUFBQQDAgMEAgMCAgMEAgMEAwMCAgIDAwQEBQUFBAMCAwQDBAIFBQUEAwQDAwMDBQUFBQUFBAMCAgECAgUEAgIDAwQCBAUFAwMDAwICAQEBAwMEBQMDAgICBQQEBAQEAwMDAwICAwIEAwUFBQUFBQUDAgICAwMDAgUFAwICAwIDBAQEBQQFBAQEAwMDBAICAgICAwQDAwICBQUEBQMBAQIDAwIEAwIDAwMCAgQEBAMDBAQFAwIDAgMCAwQEAgIBAQEDBQICAgMDAwMEBQUFBAMCAgIBAgIDAwMDAgICAwIDAwQDBAMEBAMCAgIBAwQDAwICAwMDAgQCAwIDAwQEAwUFBQMDAwICAQIBAQMDBAIDAgIDAgICAwQFAgMEAwEBAQIDBAMCAgIBAQEDAwQDBAUCAgIDAgMEAgQDAwQDBAICAwQDAwQDAwEBAgQDBAQDAwICAwMEBQUFAwMCBQMCBAQDAgEBAQICAQQFBQUEAwIDBAQEAwICAgEBBAQDBAMCBAQFBAQFAwQCBAMDBAMEAwQEBQMCAwQDAwIEBAIDBQUFBAQ=",
           "dtype": "i1"
          },
          "coloraxis": "coloraxis",
          "symbol": "circle"
         },
         "mode": "markers",
         "name": "",
         "orientation": "v",
         "showlegend": false,
         "type": "scatter",
         "x": {
          "bdata": "UQFEATwBQgE6AUoBQQE0AS4BQwFFAUcBSAEzATcBOgE9AT8BPgEvATgBRQFIAU4BUAFUAUIBKgEnATYBLAFHAVIBVAFLAUABKwEsATABMwE0ATwBOQFMAUYBQgFJAVMBQQFHATkBOAFOAUQBQgFAATwBKgEsATcBNQEzATABOwFFAUUBRwE8AT4BSAFMAVABQQE6AToBSQFHAS0BKAEmATgBVAFAAUIBVAE/ATsBPQE6ATwBPgErASoBLQEvATABMgFLAUwBQwFCATgBOgE9AUYBPAFJAVIBSwEwATEBQQEtAUABNwE2ASsBIgEoAUcBTwFOATYBNAEtASwBQwE/AUYBTQFTAS8BNQFDAU0BOgE4ATwBRgE+AUkBTAFLAVQBRQFAATsBRgFTATcBTgFMAUEBRAFGATgBOwE1ATIBKQE7ASoBPgE9AUkBQgEuATkBJQE3ATgBTgFCAUMBQQFAAUkBPwE1ATMBLAExASsBOgE8AUcBPQFPAUsBRAFEAUMBQgFQATwBMwEyATYBNwE5AT0BOwFUAU4BKgEnATsBNgExAS0BRQFIAVIBTQFLAUoBQgFBAUQBOAE5ATwBRAE0ATEBKAEyATgBPgFEATkBPwE4ATABSgFGAUUBSQE2ASsBKAE9AUQBRQE6AUgBPAE3AUQBQQFAATwBPgFPAUEBMwE1AUQBRgFLAUcBOAE0AUQBRQE5ATgBOgFHATQBMgErASYBOAE7AUIBSQFAATQBMAE3AT0BOAFBAVQBSwFQAUQBOgE5ATMBLAEuATgBPAE9ATYBQAFKATEBNQE/AUIBQwE5AUEBQwFFATgBNAFAAUgBNwEtATEBNAEqASwBRAFHAT0BQwE6ATEBOwFGASsBJwFEASkBRwE3ATQBPwE4AUUBPwFMAUMBRAE4AUYBNAExAScBPAEwASsBLgE5AT4BRQEvASwBKQE9AUcBLQE6AUEBQgFOAVIBMgE5AUoBQAE3ASoBLQE2AUQBUAFBATsBMAEpASIBLwE3AUIBPwFEASwBVAFPAS4BMwEoAUABOgE+AUYBPQFJAUQBRQFKATgBTQEwATsBRAFKATcBLgFCASoBKQEsAS0BOQE6AT0BQQFHATsBPAE1ATQBKwFBAUIBTgFFAUMBOAE2ATwBVAE3AUABRAE8ATIBNQE2AT0BPgE4ATEBTAFLAUEBRAFIAUcBQAE4ATsBQAFEAUgBPwE2ATEBKwEnATgBSQE/AS0BMwEwASoBMQE6AT4BQwFGAUABNwFHATwBNAEsATABNQE+AUUBQQFDAUgBMAE9ATcBPwFHAUIBLgEzASkBKgEsAS0BTAFRAUoBOAFHAQ==",
          "dtype": "i2"
         },
         "xaxis": "x",
         "y": {
          "bdata": "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",
          "dtype": "f8"
         },
         "yaxis": "y"
        },
        {
         "hovertemplate": "<b>OLS trendline</b><br>Chance_of_Admit = 0.0101259 * GRE + -2.48281<br>R<sup>2</sup>=0.656668<br><br>GRE=%{x}<br>Chance_of_Admit=%{y} <b>(trend)</b><extra></extra>",
         "legendgroup": "",
         "marker": {
          "symbol": "circle"
         },
         "mode": "lines",
         "name": "",
         "showlegend": false,
         "type": "scatter",
         "x": {
          "bdata": "IgEiASUBJgEmAScBJwEnAScBJwEoASgBKAEoASgBKQEpASkBKQEpASkBKgEqASoBKgEqASoBKgEqASoBKgErASsBKwErASsBKwErASsBKwErASwBLAEsASwBLAEsASwBLAEsASwBLAEsAS0BLQEtAS0BLQEtAS0BLQEtAS0BLQEuAS4BLgEuAS4BLgEuAS8BLwEvAS8BLwEwATABMAEwATABMAEwATABMAEwATABMAExATEBMQExATEBMQExATEBMQExATEBMgEyATIBMgEyATIBMgEzATMBMwEzATMBMwEzATMBMwEzATQBNAE0ATQBNAE0ATQBNAE0ATQBNAE0ATQBNQE1ATUBNQE1ATUBNQE1ATUBNgE2ATYBNgE2ATYBNgE2ATYBNgE2ATcBNwE3ATcBNwE3ATcBNwE3ATcBNwE3ATcBNwE3ATcBOAE4ATgBOAE4ATgBOAE4ATgBOAE4ATgBOAE4ATgBOAE4ATgBOAE4ATgBOAE4ATgBOQE5ATkBOQE5ATkBOQE5ATkBOQE5ATkBOgE6AToBOgE6AToBOgE6AToBOgE6AToBOgE6AToBOgE7ATsBOwE7ATsBOwE7ATsBOwE7ATsBOwE7ATwBPAE8ATwBPAE8ATwBPAE8ATwBPAE8ATwBPAE8ATwBPAE8AT0BPQE9AT0BPQE9AT0BPQE9AT0BPQE9AT0BPQE9AT4BPgE+AT4BPgE+AT4BPgE+AT4BPgE+AT8BPwE/AT8BPwE/AT8BPwE/AT8BPwE/AUABQAFAAUABQAFAAUABQAFAAUABQAFAAUABQAFAAUABQQFBAUEBQQFBAUEBQQFBAUEBQQFBAUEBQQFBAUEBQQFBAUIBQgFCAUIBQgFCAUIBQgFCAUIBQgFCAUIBQgFCAUIBQgFDAUMBQwFDAUMBQwFDAUMBQwFDAUMBQwFDAUQBRAFEAUQBRAFEAUQBRAFEAUQBRAFEAUQBRAFEAUQBRAFEAUQBRAFEAUQBRAFFAUUBRQFFAUUBRQFFAUUBRQFFAUUBRQFFAUUBRQFGAUYBRgFGAUYBRgFGAUYBRgFGAUYBRgFHAUcBRwFHAUcBRwFHAUcBRwFHAUcBRwFHAUcBRwFHAUcBSAFIAUgBSAFIAUgBSAFIAUgBSQFJAUkBSQFJAUkBSQFJAUkBSQFKAUoBSgFKAUoBSgFKAUoBSwFLAUsBSwFLAUsBSwFLAUsBTAFMAUwBTAFMAUwBTAFMAU0BTQFNAU0BTgFOAU4BTgFOAU4BTgFOAU8BTwFPAU8BUAFQAVABUAFQAVEBUQFSAVIBUgFSAVMBUwFTAVQBVAFUAVQBVAFUAVQBVAFUAQ==",
          "dtype": "i2"
         },
         "xaxis": "x",
         "y": {
          "bdata": "8J+YJTkJ3T/wn5glOQndP9AgYhfu+t4/wEulEtWg3z/AS6US1aDfP1w79AZeI+A/XDv0Bl4j4D9cO/QGXiPgP1w79AZeI+A/XDv0Bl4j4D/U0JWEUXbgP9TQlYRRduA/1NCVhFF24D/U0JWEUXbgP9TQlYRRduA/UGY3AkXJ4D9QZjcCRcngP1BmNwJFyeA/UGY3AkXJ4D9QZjcCRcngP1BmNwJFyeA/yPvYfzgc4T/I+9h/OBzhP8j72H84HOE/yPvYfzgc4T/I+9h/OBzhP8j72H84HOE/yPvYfzgc4T/I+9h/OBzhP8j72H84HOE/yPvYfzgc4T9EkXr9K2/hP0SRev0rb+E/RJF6/Stv4T9EkXr9K2/hP0SRev0rb+E/RJF6/Stv4T9EkXr9K2/hP0SRev0rb+E/RJF6/Stv4T9EkXr9K2/hP8AmHHsfwuE/wCYcex/C4T/AJhx7H8LhP8AmHHsfwuE/wCYcex/C4T/AJhx7H8LhP8AmHHsfwuE/wCYcex/C4T/AJhx7H8LhP8AmHHsfwuE/wCYcex/C4T/AJhx7H8LhPzi8vfgSFeI/OLy9+BIV4j84vL34EhXiPzi8vfgSFeI/OLy9+BIV4j84vL34EhXiPzi8vfgSFeI/OLy9+BIV4j84vL34EhXiPzi8vfgSFeI/OLy9+BIV4j+0UV92BmjiP7RRX3YGaOI/tFFfdgZo4j+0UV92BmjiP7RRX3YGaOI/tFFfdgZo4j+0UV92BmjiPyznAPT5uuI/LOcA9Pm64j8s5wD0+briPyznAPT5uuI/LOcA9Pm64j+ofKJx7Q3jP6h8onHtDeM/qHyice0N4z+ofKJx7Q3jP6h8onHtDeM/qHyice0N4z+ofKJx7Q3jP6h8onHtDeM/qHyice0N4z+ofKJx7Q3jP6h8onHtDeM/qHyice0N4z8gEkTv4GDjPyASRO/gYOM/IBJE7+Bg4z8gEkTv4GDjPyASRO/gYOM/IBJE7+Bg4z8gEkTv4GDjPyASRO/gYOM/IBJE7+Bg4z8gEkTv4GDjPyASRO/gYOM/nKflbNSz4z+cp+Vs1LPjP5yn5WzUs+M/nKflbNSz4z+cp+Vs1LPjP5yn5WzUs+M/nKflbNSz4z8UPYfqxwbkPxQ9h+rHBuQ/FD2H6scG5D8UPYfqxwbkPxQ9h+rHBuQ/FD2H6scG5D8UPYfqxwbkPxQ9h+rHBuQ/FD2H6scG5D8UPYfqxwbkP5DSKGi7WeQ/kNIoaLtZ5D+Q0ihou1nkP5DSKGi7WeQ/kNIoaLtZ5D+Q0ihou1nkP5DSKGi7WeQ/kNIoaLtZ5D+Q0ihou1nkP5DSKGi7WeQ/kNIoaLtZ5D+Q0ihou1nkP5DSKGi7WeQ/CGjK5a6s5D8IaMrlrqzkPwhoyuWurOQ/CGjK5a6s5D8IaMrlrqzkPwhoyuWurOQ/CGjK5a6s5D8IaMrlrqzkPwhoyuWurOQ/hP1rY6L/5D+E/Wtjov/kP4T9a2Oi/+Q/hP1rY6L/5D+E/Wtjov/kP4T9a2Oi/+Q/hP1rY6L/5D+E/Wtjov/kP4T9a2Oi/+Q/hP1rY6L/5D+E/Wtjov/kP/ySDeGVUuU//JIN4ZVS5T/8kg3hlVLlP/ySDeGVUuU//JIN4ZVS5T/8kg3hlVLlP/ySDeGVUuU//JIN4ZVS5T/8kg3hlVLlP/ySDeGVUuU//JIN4ZVS5T/8kg3hlVLlP/ySDeGVUuU//JIN4ZVS5T/8kg3hlVLlP/ySDeGVUuU/eCivXoml5T94KK9eiaXlP3gor16JpeU/eCivXoml5T94KK9eiaXlP3gor16JpeU/eCivXoml5T94KK9eiaXlP3gor16JpeU/eCivXoml5T94KK9eiaXlP3gor16JpeU/eCivXoml5T94KK9eiaXlP3gor16JpeU/eCivXoml5T94KK9eiaXlP3gor16JpeU/eCivXoml5T94KK9eiaXlP3gor16JpeU/eCivXoml5T94KK9eiaXlP3gor16JpeU/9L1Q3Hz45T/0vVDcfPjlP/S9UNx8+OU/9L1Q3Hz45T/0vVDcfPjlP/S9UNx8+OU/9L1Q3Hz45T/0vVDcfPjlP/S9UNx8+OU/9L1Q3Hz45T/0vVDcfPjlP/S9UNx8+OU/bFPyWXBL5j9sU/JZcEvmP2xT8llwS+Y/bFPyWXBL5j9sU/JZcEvmP2xT8llwS+Y/bFPyWXBL5j9sU/JZcEvmP2xT8llwS+Y/bFPyWXBL5j9sU/JZcEvmP2xT8llwS+Y/bFPyWXBL5j9sU/JZcEvmP2xT8llwS+Y/bFPyWXBL5j/o6JPXY57mP+jok9djnuY/6OiT12Oe5j/o6JPXY57mP+jok9djnuY/6OiT12Oe5j/o6JPXY57mP+jok9djnuY/6OiT12Oe5j/o6JPXY57mP+jok9djnuY/6OiT12Oe5j/o6JPXY57mP2B+NVVX8eY/YH41VVfx5j9gfjVVV/HmP2B+NVVX8eY/YH41VVfx5j9gfjVVV/HmP2B+NVVX8eY/YH41VVfx5j9gfjVVV/HmP2B+NVVX8eY/YH41VVfx5j9gfjVVV/HmP2B+NVVX8eY/YH41VVfx5j9gfjVVV/HmP2B+NVVX8eY/YH41VVfx5j9gfjVVV/HmP9wT19JKROc/3BPX0kpE5z/cE9fSSkTnP9wT19JKROc/3BPX0kpE5z/cE9fSSkTnP9wT19JKROc/3BPX0kpE5z/cE9fSSkTnP9wT19JKROc/3BPX0kpE5z/cE9fSSkTnP9wT19JKROc/3BPX0kpE5z/cE9fSSkTnP1SpeFA+l+c/VKl4UD6X5z9UqXhQPpfnP1SpeFA+l+c/VKl4UD6X5z9UqXhQPpfnP1SpeFA+l+c/VKl4UD6X5z9UqXhQPpfnP1SpeFA+l+c/VKl4UD6X5z9UqXhQPpfnP9A+Gs4x6uc/0D4azjHq5z/QPhrOMernP9A+Gs4x6uc/0D4azjHq5z/QPhrOMernP9A+Gs4x6uc/0D4azjHq5z/QPhrOMernP9A+Gs4x6uc/0D4azjHq5z/QPhrOMernP0jUu0slPeg/SNS7SyU96D9I1LtLJT3oP0jUu0slPeg/SNS7SyU96D9I1LtLJT3oP0jUu0slPeg/SNS7SyU96D9I1LtLJT3oP0jUu0slPeg/SNS7SyU96D9I1LtLJT3oP0jUu0slPeg/SNS7SyU96D9I1LtLJT3oP0jUu0slPeg/xGldyRiQ6D/EaV3JGJDoP8RpXckYkOg/xGldyRiQ6D/EaV3JGJDoP8RpXckYkOg/xGldyRiQ6D/EaV3JGJDoP8RpXckYkOg/xGldyRiQ6D/EaV3JGJDoP8RpXckYkOg/xGldyRiQ6D/EaV3JGJDoP8RpXckYkOg/xGldyRiQ6D/EaV3JGJDoPzz//kYM4+g/PP/+Rgzj6D88//5GDOPoPzz//kYM4+g/PP/+Rgzj6D88//5GDOPoPzz//kYM4+g/PP/+Rgzj6D88//5GDOPoPzz//kYM4+g/PP/+Rgzj6D88//5GDOPoPzz//kYM4+g/PP/+Rgzj6D88//5GDOPoPzz//kYM4+g/PP/+Rgzj6D+4lKDE/zXpP7iUoMT/Nek/uJSgxP816T+4lKDE/zXpP7iUoMT/Nek/uJSgxP816T+4lKDE/zXpP7iUoMT/Nek/uJSgxP816T+4lKDE/zXpP7iUoMT/Nek/uJSgxP816T+4lKDE/zXpPzAqQkLziOk/MCpCQvOI6T8wKkJC84jpPzAqQkLziOk/MCpCQvOI6T8wKkJC84jpPzAqQkLziOk/MCpCQvOI6T8wKkJC84jpPzAqQkLziOk/MCpCQvOI6T8wKkJC84jpPzAqQkLziOk/MCpCQvOI6T8wKkJC84jpPzAqQkLziOk/MCpCQvOI6T8wKkJC84jpPzAqQkLziOk/MCpCQvOI6T8wKkJC84jpPzAqQkLziOk/MCpCQvOI6T+sv+O/5tvpP6y/47/m2+k/rL/jv+bb6T+sv+O/5tvpP6y/47/m2+k/rL/jv+bb6T+sv+O/5tvpP6y/47/m2+k/rL/jv+bb6T+sv+O/5tvpP6y/47/m2+k/rL/jv+bb6T+sv+O/5tvpP6y/47/m2+k/rL/jv+bb6T8kVYU92i7qPyRVhT3aLuo/JFWFPdou6j8kVYU92i7qPyRVhT3aLuo/JFWFPdou6j8kVYU92i7qPyRVhT3aLuo/JFWFPdou6j8kVYU92i7qPyRVhT3aLuo/JFWFPdou6j+g6ia7zYHqP6DqJrvNgeo/oOomu82B6j+g6ia7zYHqP6DqJrvNgeo/oOomu82B6j+g6ia7zYHqP6DqJrvNgeo/oOomu82B6j+g6ia7zYHqP6DqJrvNgeo/oOomu82B6j+g6ia7zYHqP6DqJrvNgeo/oOomu82B6j+g6ia7zYHqP6DqJrvNgeo/HIDIOMHU6j8cgMg4wdTqPxyAyDjB1Oo/HIDIOMHU6j8cgMg4wdTqPxyAyDjB1Oo/HIDIOMHU6j8cgMg4wdTqPxyAyDjB1Oo/lBVqtrQn6z+UFWq2tCfrP5QVara0J+s/lBVqtrQn6z+UFWq2tCfrP5QVara0J+s/lBVqtrQn6z+UFWq2tCfrP5QVara0J+s/lBVqtrQn6z8Qqws0qHrrPxCrCzSoeus/EKsLNKh66z8Qqws0qHrrPxCrCzSoeus/EKsLNKh66z8Qqws0qHrrPxCrCzSoeus/iECtsZvN6z+IQK2xm83rP4hArbGbzes/iECtsZvN6z+IQK2xm83rP4hArbGbzes/iECtsZvN6z+IQK2xm83rP4hArbGbzes/BNZOL48g7D8E1k4vjyDsPwTWTi+PIOw/BNZOL48g7D8E1k4vjyDsPwTWTi+PIOw/BNZOL48g7D8E1k4vjyDsP3xr8KyCc+w/fGvwrIJz7D98a/CsgnPsP3xr8KyCc+w/+ACSKnbG7D/4AJIqdsbsP/gAkip2xuw/+ACSKnbG7D/4AJIqdsbsP/gAkip2xuw/+ACSKnbG7D/4AJIqdsbsP3CWM6hpGe0/cJYzqGkZ7T9wljOoaRntP3CWM6hpGe0/7CvVJV1s7T/sK9UlXWztP+wr1SVdbO0/7CvVJV1s7T/sK9UlXWztP2TBdqNQv+0/ZMF2o1C/7T/gVhghRBLuP+BWGCFEEu4/4FYYIUQS7j/gVhghRBLuP1jsuZ43Ze4/WOy5njdl7j9Y7LmeN2XuP9SBWxwruO4/1IFbHCu47j/UgVscK7juP9SBWxwruO4/1IFbHCu47j/UgVscK7juP9SBWxwruO4/1IFbHCu47j/UgVscK7juPw==",
          "dtype": "f8"
         },
         "yaxis": "y"
        }
       ],
       "layout": {
        "coloraxis": {
         "colorbar": {
          "title": {
           "text": "University_Rating"
          }
         },
         "colorscale": [
          [
           0,
           "#0d0887"
          ],
          [
           0.1111111111111111,
           "#46039f"
          ],
          [
           0.2222222222222222,
           "#7201a8"
          ],
          [
           0.3333333333333333,
           "#9c179e"
          ],
          [
           0.4444444444444444,
           "#bd3786"
          ],
          [
           0.5555555555555556,
           "#d8576b"
          ],
          [
           0.6666666666666666,
           "#ed7953"
          ],
          [
           0.7777777777777778,
           "#fb9f3a"
          ],
          [
           0.8888888888888888,
           "#fdca26"
          ],
          [
           1,
           "#f0f921"
          ]
         ]
        },
        "legend": {
         "tracegroupgap": 0
        },
        "template": {
         "data": {
          "bar": [
           {
            "error_x": {
             "color": "#f2f5fa"
            },
            "error_y": {
             "color": "#f2f5fa"
            },
            "marker": {
             "line": {
              "color": "rgb(17,17,17)",
              "width": 0.5
             },
             "pattern": {
              "fillmode": "overlay",
              "size": 10,
              "solidity": 0.2
             }
            },
            "type": "bar"
           }
          ],
          "barpolar": [
           {
            "marker": {
             "line": {
              "color": "rgb(17,17,17)",
              "width": 0.5
             },
             "pattern": {
              "fillmode": "overlay",
              "size": 10,
              "solidity": 0.2
             }
            },
            "type": "barpolar"
           }
          ],
          "carpet": [
           {
            "aaxis": {
             "endlinecolor": "#A2B1C6",
             "gridcolor": "#506784",
             "linecolor": "#506784",
             "minorgridcolor": "#506784",
             "startlinecolor": "#A2B1C6"
            },
            "baxis": {
             "endlinecolor": "#A2B1C6",
             "gridcolor": "#506784",
             "linecolor": "#506784",
             "minorgridcolor": "#506784",
             "startlinecolor": "#A2B1C6"
            },
            "type": "carpet"
           }
          ],
          "choropleth": [
           {
            "colorbar": {
             "outlinewidth": 0,
             "ticks": ""
            },
            "type": "choropleth"
           }
          ],
          "contour": [
           {
            "colorbar": {
             "outlinewidth": 0,
             "ticks": ""
            },
            "colorscale": [
             [
              0,
              "#0d0887"
             ],
             [
              0.1111111111111111,
              "#46039f"
             ],
             [
              0.2222222222222222,
              "#7201a8"
             ],
             [
              0.3333333333333333,
              "#9c179e"
             ],
             [
              0.4444444444444444,
              "#bd3786"
             ],
             [
              0.5555555555555556,
              "#d8576b"
             ],
             [
              0.6666666666666666,
              "#ed7953"
             ],
             [
              0.7777777777777778,
              "#fb9f3a"
             ],
             [
              0.8888888888888888,
              "#fdca26"
             ],
             [
              1,
              "#f0f921"
             ]
            ],
            "type": "contour"
           }
          ],
          "contourcarpet": [
           {
            "colorbar": {
             "outlinewidth": 0,
             "ticks": ""
            },
            "type": "contourcarpet"
           }
          ],
          "heatmap": [
           {
            "colorbar": {
             "outlinewidth": 0,
             "ticks": ""
            },
            "colorscale": [
             [
              0,
              "#0d0887"
             ],
             [
              0.1111111111111111,
              "#46039f"
             ],
             [
              0.2222222222222222,
              "#7201a8"
             ],
             [
              0.3333333333333333,
              "#9c179e"
             ],
             [
              0.4444444444444444,
              "#bd3786"
             ],
             [
              0.5555555555555556,
              "#d8576b"
             ],
             [
              0.6666666666666666,
              "#ed7953"
             ],
             [
              0.7777777777777778,
              "#fb9f3a"
             ],
             [
              0.8888888888888888,
              "#fdca26"
             ],
             [
              1,
              "#f0f921"
             ]
            ],
            "type": "heatmap"
           }
          ],
          "histogram": [
           {
            "marker": {
             "pattern": {
              "fillmode": "overlay",
              "size": 10,
              "solidity": 0.2
             }
            },
            "type": "histogram"
           }
          ],
          "histogram2d": [
           {
            "colorbar": {
             "outlinewidth": 0,
             "ticks": ""
            },
            "colorscale": [
             [
              0,
              "#0d0887"
             ],
             [
              0.1111111111111111,
              "#46039f"
             ],
             [
              0.2222222222222222,
              "#7201a8"
             ],
             [
              0.3333333333333333,
              "#9c179e"
             ],
             [
              0.4444444444444444,
              "#bd3786"
             ],
             [
              0.5555555555555556,
              "#d8576b"
             ],
             [
              0.6666666666666666,
              "#ed7953"
             ],
             [
              0.7777777777777778,
              "#fb9f3a"
             ],
             [
              0.8888888888888888,
              "#fdca26"
             ],
             [
              1,
              "#f0f921"
             ]
            ],
            "type": "histogram2d"
           }
          ],
          "histogram2dcontour": [
           {
            "colorbar": {
             "outlinewidth": 0,
             "ticks": ""
            },
            "colorscale": [
             [
              0,
              "#0d0887"
             ],
             [
              0.1111111111111111,
              "#46039f"
             ],
             [
              0.2222222222222222,
              "#7201a8"
             ],
             [
              0.3333333333333333,
              "#9c179e"
             ],
             [
              0.4444444444444444,
              "#bd3786"
             ],
             [
              0.5555555555555556,
              "#d8576b"
             ],
             [
              0.6666666666666666,
              "#ed7953"
             ],
             [
              0.7777777777777778,
              "#fb9f3a"
             ],
             [
              0.8888888888888888,
              "#fdca26"
             ],
             [
              1,
              "#f0f921"
             ]
            ],
            "type": "histogram2dcontour"
           }
          ],
          "mesh3d": [
           {
            "colorbar": {
             "outlinewidth": 0,
             "ticks": ""
            },
            "type": "mesh3d"
           }
          ],
          "parcoords": [
           {
            "line": {
             "colorbar": {
              "outlinewidth": 0,
              "ticks": ""
             }
            },
            "type": "parcoords"
           }
          ],
          "pie": [
           {
            "automargin": true,
            "type": "pie"
           }
          ],
          "scatter": [
           {
            "marker": {
             "line": {
              "color": "#283442"
             }
            },
            "type": "scatter"
           }
          ],
          "scatter3d": [
           {
            "line": {
             "colorbar": {
              "outlinewidth": 0,
              "ticks": ""
             }
            },
            "marker": {
             "colorbar": {
              "outlinewidth": 0,
              "ticks": ""
             }
            },
            "type": "scatter3d"
           }
          ],
          "scattercarpet": [
           {
            "marker": {
             "colorbar": {
              "outlinewidth": 0,
              "ticks": ""
             }
            },
            "type": "scattercarpet"
           }
          ],
          "scattergeo": [
           {
            "marker": {
             "colorbar": {
              "outlinewidth": 0,
              "ticks": ""
             }
            },
            "type": "scattergeo"
           }
          ],
          "scattergl": [
           {
            "marker": {
             "line": {
              "color": "#283442"
             }
            },
            "type": "scattergl"
           }
          ],
          "scattermap": [
           {
            "marker": {
             "colorbar": {
              "outlinewidth": 0,
              "ticks": ""
             }
            },
            "type": "scattermap"
           }
          ],
          "scattermapbox": [
           {
            "marker": {
             "colorbar": {
              "outlinewidth": 0,
              "ticks": ""
             }
            },
            "type": "scattermapbox"
           }
          ],
          "scatterpolar": [
           {
            "marker": {
             "colorbar": {
              "outlinewidth": 0,
              "ticks": ""
             }
            },
            "type": "scatterpolar"
           }
          ],
          "scatterpolargl": [
           {
            "marker": {
             "colorbar": {
              "outlinewidth": 0,
              "ticks": ""
             }
            },
            "type": "scatterpolargl"
           }
          ],
          "scatterternary": [
           {
            "marker": {
             "colorbar": {
              "outlinewidth": 0,
              "ticks": ""
             }
            },
            "type": "scatterternary"
           }
          ],
          "surface": [
           {
            "colorbar": {
             "outlinewidth": 0,
             "ticks": ""
            },
            "colorscale": [
             [
              0,
              "#0d0887"
             ],
             [
              0.1111111111111111,
              "#46039f"
             ],
             [
              0.2222222222222222,
              "#7201a8"
             ],
             [
              0.3333333333333333,
              "#9c179e"
             ],
             [
              0.4444444444444444,
              "#bd3786"
             ],
             [
              0.5555555555555556,
              "#d8576b"
             ],
             [
              0.6666666666666666,
              "#ed7953"
             ],
             [
              0.7777777777777778,
              "#fb9f3a"
             ],
             [
              0.8888888888888888,
              "#fdca26"
             ],
             [
              1,
              "#f0f921"
             ]
            ],
            "type": "surface"
           }
          ],
          "table": [
           {
            "cells": {
             "fill": {
              "color": "#506784"
             },
             "line": {
              "color": "rgb(17,17,17)"
             }
            },
            "header": {
             "fill": {
              "color": "#2a3f5f"
             },
             "line": {
              "color": "rgb(17,17,17)"
             }
            },
            "type": "table"
           }
          ]
         },
         "layout": {
          "annotationdefaults": {
           "arrowcolor": "#f2f5fa",
           "arrowhead": 0,
           "arrowwidth": 1
          },
          "autotypenumbers": "strict",
          "coloraxis": {
           "colorbar": {
            "outlinewidth": 0,
            "ticks": ""
           }
          },
          "colorscale": {
           "diverging": [
            [
             0,
             "#8e0152"
            ],
            [
             0.1,
             "#c51b7d"
            ],
            [
             0.2,
             "#de77ae"
            ],
            [
             0.3,
             "#f1b6da"
            ],
            [
             0.4,
             "#fde0ef"
            ],
            [
             0.5,
             "#f7f7f7"
            ],
            [
             0.6,
             "#e6f5d0"
            ],
            [
             0.7,
             "#b8e186"
            ],
            [
             0.8,
             "#7fbc41"
            ],
            [
             0.9,
             "#4d9221"
            ],
            [
             1,
             "#276419"
            ]
           ],
           "sequential": [
            [
             0,
             "#0d0887"
            ],
            [
             0.1111111111111111,
             "#46039f"
            ],
            [
             0.2222222222222222,
             "#7201a8"
            ],
            [
             0.3333333333333333,
             "#9c179e"
            ],
            [
             0.4444444444444444,
             "#bd3786"
            ],
            [
             0.5555555555555556,
             "#d8576b"
            ],
            [
             0.6666666666666666,
             "#ed7953"
            ],
            [
             0.7777777777777778,
             "#fb9f3a"
            ],
            [
             0.8888888888888888,
             "#fdca26"
            ],
            [
             1,
             "#f0f921"
            ]
           ],
           "sequentialminus": [
            [
             0,
             "#0d0887"
            ],
            [
             0.1111111111111111,
             "#46039f"
            ],
            [
             0.2222222222222222,
             "#7201a8"
            ],
            [
             0.3333333333333333,
             "#9c179e"
            ],
            [
             0.4444444444444444,
             "#bd3786"
            ],
            [
             0.5555555555555556,
             "#d8576b"
            ],
            [
             0.6666666666666666,
             "#ed7953"
            ],
            [
             0.7777777777777778,
             "#fb9f3a"
            ],
            [
             0.8888888888888888,
             "#fdca26"
            ],
            [
             1,
             "#f0f921"
            ]
           ]
          },
          "colorway": [
           "#636efa",
           "#EF553B",
           "#00cc96",
           "#ab63fa",
           "#FFA15A",
           "#19d3f3",
           "#FF6692",
           "#B6E880",
           "#FF97FF",
           "#FECB52"
          ],
          "font": {
           "color": "#f2f5fa"
          },
          "geo": {
           "bgcolor": "rgb(17,17,17)",
           "lakecolor": "rgb(17,17,17)",
           "landcolor": "rgb(17,17,17)",
           "showlakes": true,
           "showland": true,
           "subunitcolor": "#506784"
          },
          "hoverlabel": {
           "align": "left"
          },
          "hovermode": "closest",
          "mapbox": {
           "style": "dark"
          },
          "paper_bgcolor": "rgb(17,17,17)",
          "plot_bgcolor": "rgb(17,17,17)",
          "polar": {
           "angularaxis": {
            "gridcolor": "#506784",
            "linecolor": "#506784",
            "ticks": ""
           },
           "bgcolor": "rgb(17,17,17)",
           "radialaxis": {
            "gridcolor": "#506784",
            "linecolor": "#506784",
            "ticks": ""
           }
          },
          "scene": {
           "xaxis": {
            "backgroundcolor": "rgb(17,17,17)",
            "gridcolor": "#506784",
            "gridwidth": 2,
            "linecolor": "#506784",
            "showbackground": true,
            "ticks": "",
            "zerolinecolor": "#C8D4E3"
           },
           "yaxis": {
            "backgroundcolor": "rgb(17,17,17)",
            "gridcolor": "#506784",
            "gridwidth": 2,
            "linecolor": "#506784",
            "showbackground": true,
            "ticks": "",
            "zerolinecolor": "#C8D4E3"
           },
           "zaxis": {
            "backgroundcolor": "rgb(17,17,17)",
            "gridcolor": "#506784",
            "gridwidth": 2,
            "linecolor": "#506784",
            "showbackground": true,
            "ticks": "",
            "zerolinecolor": "#C8D4E3"
           }
          },
          "shapedefaults": {
           "line": {
            "color": "#f2f5fa"
           }
          },
          "sliderdefaults": {
           "bgcolor": "#C8D4E3",
           "bordercolor": "rgb(17,17,17)",
           "borderwidth": 1,
           "tickwidth": 0
          },
          "ternary": {
           "aaxis": {
            "gridcolor": "#506784",
            "linecolor": "#506784",
            "ticks": ""
           },
           "baxis": {
            "gridcolor": "#506784",
            "linecolor": "#506784",
            "ticks": ""
           },
           "bgcolor": "rgb(17,17,17)",
           "caxis": {
            "gridcolor": "#506784",
            "linecolor": "#506784",
            "ticks": ""
           }
          },
          "title": {
           "x": 0.05
          },
          "updatemenudefaults": {
           "bgcolor": "#506784",
           "borderwidth": 0
          },
          "xaxis": {
           "automargin": true,
           "gridcolor": "#283442",
           "linecolor": "#506784",
           "ticks": "",
           "title": {
            "standoff": 15
           },
           "zerolinecolor": "#283442",
           "zerolinewidth": 2
          },
          "yaxis": {
           "automargin": true,
           "gridcolor": "#283442",
           "linecolor": "#506784",
           "ticks": "",
           "title": {
            "standoff": 15
           },
           "zerolinecolor": "#283442",
           "zerolinewidth": 2
          }
         }
        },
        "title": {
         "text": "GRE vs Chance of Admit (Colored by University Rating)"
        },
        "xaxis": {
         "anchor": "y",
         "domain": [
          0,
          1
         ],
         "title": {
          "text": "GRE"
         }
        },
        "yaxis": {
         "anchor": "x",
         "domain": [
          0,
          1
         ],
         "title": {
          "text": "Chance_of_Admit"
         }
        }
       }
      }
     },
     "metadata": {},
     "output_type": "display_data"
    }
   ],
   "source": [
    "fig = px.scatter(adm_data, x='GRE', y='Chance_of_Admit', color='University_Rating',\n",
    "                 trendline='ols', title='GRE vs Chance of Admit (Colored by University Rating)')\n",
    "fig.update_layout(template='plotly_dark')\n",
    "fig.show(renderer='vscode')"
   ]
  },
  {
   "cell_type": "code",
   "execution_count": 25,
   "id": "63bde570",
   "metadata": {},
   "outputs": [
    {
     "data": {
      "application/vnd.plotly.v1+json": {
       "config": {
        "plotlyServerURL": "https://plot.ly"
       },
       "data": [
        {
         "hovertemplate": "CGPA=%{x}<br>Chance_of_Admit=%{y}<br>Research=%{marker.color}<extra></extra>",
         "legendgroup": "",
         "marker": {
          "color": {
           "bdata": "AQEBAQABAQAAAAEBAQEBAAABAAABAAEBAQEAAQAAAQEBAQEBAAAAAAEBAQABAQEAAQEBAQEBAAAAAAEAAAABAQAAAAEBAQEBAQEAAQEAAQABAQEBAQAAAAABAQAAAQAAAAEBAQEAAAABAQEBAQAAAQEAAQEAAAABAQEAAAABAQEBAQEAAAABAQABAQABAQEBAQEAAQEBAQEBAAAAAAAAAAAAAAABAAAAAQABAQEBAQEBAAAAAAAAAAABAQEBAQEBAQEAAQAAAAABAQEBAAAAAQABAQEBAQEBAQEBAAAAAAAAAAAAAAEAAQAAAQEBAQAAAAABAQABAAABAQEAAQEAAAABAQEBAAEBAQAAAQAAAQAAAQABAQAAAAEBAQEBAQEBAAAAAAABAQAAAAEAAAABAQABAQEAAAEBAQAAAAAAAQEBAQAAAAEAAAEAAQEBAQEBAAEBAQEBAAAAAAAAAAABAQEAAAABAQAAAQEBAAEBAQAAAQABAQEAAAAAAAEBAQEAAQEAAAABAAABAAEBAQEAAQAAAQEBAAEBAQAAAAEBAQEAAAABAAEBAQEBAAEAAQEBAQAAAAEBAQAAAQEBAQEBAQAAAQEBAQAAAAABAQEBAAAAAAEBAQEBAAEAAQAAAAEBAQEBAAEBAAABAAEAAQEBAQEBAAA=",
           "dtype": "i1"
          },
          "coloraxis": "coloraxis",
          "symbol": "circle"
         },
         "mode": "markers",
         "name": "",
         "orientation": "v",
         "showlegend": false,
         "type": "scatter",
         "x": {
          "bdata": "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",
          "dtype": "f8"
         },
         "xaxis": "x",
         "y": {
          "bdata": "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",
          "dtype": "f8"
         },
         "yaxis": "y"
        },
        {
         "hovertemplate": "<b>OLS trendline</b><br>Chance_of_Admit = 0.205922 * CGPA + -1.04433<br>R<sup>2</sup>=0.778652<br><br>CGPA=%{x}<br>Chance_of_Admit=%{y} <b>(trend)</b><extra></extra>",
         "legendgroup": "",
         "marker": {
          "symbol": "circle"
         },
         "mode": "lines",
         "name": "",
         "showlegend": false,
         "type": "scatter",
         "x": {
          "bdata": "MzMzMzMzG0DNzMzMzMwcQNejcD0K1xxA7FG4HoXrHEAAAAAAAAAdQB+F61G4Hh1AMzMzMzMzHUBcj8L1KFwdQFyPwvUoXB1AcT0K16NwHUCamZmZmZkdQK5H4XoUrh1AuB6F61G4HUC4HoXrUbgdQM3MzMzMzB1A16NwPQrXHUDXo3A9CtcdQNejcD0K1x1AAAAAAAAAHkAAAAAAAAAeQClcj8L1KB5APQrXo3A9HkA9CtejcD0eQEjhehSuRx5AZmZmZmZmHkCPwvUoXI8eQI/C9Shcjx5Aj8L1KFyPHkCPwvUoXI8eQI/C9Shcjx5AmpmZmZmZHkCamZmZmZkeQJqZmZmZmR5AmpmZmZmZHkCamZmZmZkeQKRwPQrXox5ApHA9CtejHkCkcD0K16MeQK5H4XoUrh5ArkfhehSuHkC4HoXrUbgeQLgehetRuB5AuB6F61G4HkDD9Shcj8IeQM3MzMzMzB5AzczMzMzMHkApXI/C9SgfQDMzMzMzMx9AMzMzMzMzH0AzMzMzMzMfQD0K16NwPR9AXI/C9ShcH0BxPQrXo3AfQHE9CtejcB9AcT0K16NwH0BxPQrXo3AfQHE9CtejcB9AexSuR+F6H0CF61G4HoUfQIXrUbgehR9AhetRuB6FH0CF61G4HoUfQIXrUbgehR9AhetRuB6FH0CPwvUoXI8fQI/C9Shcjx9Aj8L1KFyPH0CPwvUoXI8fQI/C9Shcjx9AmpmZmZmZH0CamZmZmZkfQJqZmZmZmR9AmpmZmZmZH0CuR+F6FK4fQK5H4XoUrh9Aw/UoXI/CH0DD9Shcj8IfQM3MzMzMzB9AzczMzMzMH0DNzMzMzMwfQNejcD0K1x9A4XoUrkfhH0DsUbgehesfQOxRuB6F6x9AAAAAAAAAIEAAAAAAAAAgQAAAAAAAACBAAAAAAAAAIEAAAAAAAAAgQAAAAAAAACBAAAAAAAAAIEAAAAAAAAAgQAAAAAAAACBAhetRuB4FIECF61G4HgUgQIXrUbgeBSBACtejcD0KIEAK16NwPQogQArXo3A9CiBACtejcD0KIEAK16NwPQogQI/C9ShcDyBAj8L1KFwPIECPwvUoXA8gQI/C9ShcDyBAFK5H4XoUIEAUrkfhehQgQBSuR+F6FCBAH4XrUbgeIECkcD0K1yMgQKRwPQrXIyBArkfhehQuIECuR+F6FC4gQDMzMzMzMyBAMzMzMzMzIEAzMzMzMzMgQDMzMzMzMyBAMzMzMzMzIEA9CtejcD0gQD0K16NwPSBAPQrXo3A9IEA9CtejcD0gQD0K16NwPSBAPQrXo3A9IEA9CtejcD0gQMP1KFyPQiBAw/UoXI9CIEDD9Shcj0IgQMP1KFyPQiBAw/UoXI9CIEBI4XoUrkcgQEjhehSuRyBAzczMzMxMIEDNzMzMzEwgQFK4HoXrUSBAUrgehetRIEBSuB6F61EgQNejcD0KVyBA16NwPQpXIEBcj8L1KFwgQFyPwvUoXCBAXI/C9ShcIEBmZmZmZmYgQGZmZmZmZiBAZmZmZmZmIEBmZmZmZmYgQGZmZmZmZiBA7FG4HoVrIEDsUbgehWsgQOxRuB6FayBAcT0K16NwIEBxPQrXo3AgQHE9CtejcCBAcT0K16NwIEBxPQrXo3AgQPYoXI/CdSBAexSuR+F6IEB7FK5H4XogQHsUrkfheiBAAAAAAACAIECF61G4HoUgQIXrUbgehSBAhetRuB6FIECF61G4HoUgQIXrUbgehSBACtejcD2KIEAK16NwPYogQArXo3A9iiBACtejcD2KIEAK16NwPYogQI/C9ShcjyBAmpmZmZmZIECamZmZmZkgQJqZmZmZmSBAmpmZmZmZIECkcD0K16MgQKRwPQrXoyBAKVyPwvWoIEApXI/C9aggQClcj8L1qCBAKVyPwvWoIECuR+F6FK4gQK5H4XoUriBArkfhehSuIECuR+F6FK4gQK5H4XoUriBArkfhehSuIEAzMzMzM7MgQLgehetRuCBAuB6F61G4IEC4HoXrUbggQD0K16NwvSBAPQrXo3C9IEA9CtejcL0gQM3MzMzMzCBAzczMzMzMIEDNzMzMzMwgQM3MzMzMzCBA16NwPQrXIEDXo3A9CtcgQNejcD0K1yBAXI/C9SjcIEBcj8L1KNwgQFyPwvUo3CBAXI/C9SjcIEDhehSuR+EgQOF6FK5H4SBA4XoUrkfhIEBmZmZmZuYgQGZmZmZm5iBAZmZmZmbmIEBmZmZmZuYgQGZmZmZm5iBAZmZmZmbmIEBmZmZmZuYgQOxRuB6F6yBA7FG4HoXrIEDsUbgehesgQOxRuB6F6yBAcT0K16PwIEBxPQrXo/AgQPYoXI/C9SBA9ihcj8L1IED2KFyPwvUgQPYoXI/C9SBAexSuR+H6IEB7FK5H4fogQAAAAAAAACFAAAAAAAAAIUAAAAAAAAAhQAAAAAAAACFAAAAAAAAAIUAAAAAAAAAhQArXo3A9CiFAj8L1KFwPIUCPwvUoXA8hQI/C9ShcDyFAFK5H4XoUIUAUrkfhehQhQBSuR+F6FCFAFK5H4XoUIUAUrkfhehQhQBSuR+F6FCFAFK5H4XoUIUCamZmZmRkhQB+F61G4HiFAH4XrUbgeIUAfhetRuB4hQB+F61G4HiFAH4XrUbgeIUAfhetRuB4hQB+F61G4HiFApHA9CtcjIUCkcD0K1yMhQKRwPQrXIyFAMzMzMzMzIUAzMzMzMzMhQD0K16NwPSFAPQrXo3A9IUA9CtejcD0hQEjhehSuRyFASOF6FK5HIUBI4XoUrkchQEjhehSuRyFASOF6FK5HIUBI4XoUrkchQM3MzMzMTCFAzczMzMxMIUDNzMzMzEwhQM3MzMzMTCFAzczMzMxMIUDNzMzMzEwhQFK4HoXrUSFAUrgehetRIUBSuB6F61EhQFK4HoXrUSFAUrgehetRIUBSuB6F61EhQNejcD0KVyFA16NwPQpXIUDXo3A9ClchQNejcD0KVyFA16NwPQpXIUBcj8L1KFwhQFyPwvUoXCFAXI/C9ShcIUDhehSuR2EhQOF6FK5HYSFA4XoUrkdhIUBmZmZmZmYhQGZmZmZmZiFA7FG4HoVrIUBxPQrXo3AhQPYoXI/CdSFA9ihcj8J1IUD2KFyPwnUhQHsUrkfheiFAexSuR+F6IUB7FK5H4XohQAAAAAAAgCFAAAAAAACAIUAAAAAAAIAhQIXrUbgehSFAhetRuB6FIUCF61G4HoUhQIXrUbgehSFAhetRuB6FIUCF61G4HoUhQIXrUbgehSFAhetRuB6FIUCF61G4HoUhQArXo3A9iiFACtejcD2KIUAK16NwPYohQArXo3A9iiFAj8L1KFyPIUCPwvUoXI8hQI/C9ShcjyFAj8L1KFyPIUCPwvUoXI8hQBSuR+F6lCFAFK5H4XqUIUAUrkfhepQhQBSuR+F6lCFAmpmZmZmZIUCamZmZmZkhQJqZmZmZmSFAmpmZmZmZIUCamZmZmZkhQClcj8L1qCFArkfhehSuIUCuR+F6FK4hQDMzMzMzsyFAuB6F61G4IUA9CtejcL0hQD0K16NwvSFAPQrXo3C9IUDD9Shcj8IhQMP1KFyPwiFASOF6FK7HIUDNzMzMzMwhQM3MzMzMzCFAzczMzMzMIUDXo3A9CtchQOF6FK5H4SFA4XoUrkfhIUBmZmZmZuYhQOxRuB6F6yFA7FG4HoXrIUDsUbgeheshQOxRuB6F6yFAcT0K16PwIUBxPQrXo/AhQHE9Ctej8CFAcT0K16PwIUD2KFyPwvUhQAAAAAAAACJAAAAAAAAAIkAAAAAAAAAiQAAAAAAAACJAAAAAAAAAIkCF61G4HgUiQIXrUbgeBSJAhetRuB4FIkAK16NwPQoiQArXo3A9CiJACtejcD0KIkAK16NwPQoiQArXo3A9CiJACtejcD0KIkAUrkfhehQiQBSuR+F6FCJAFK5H4XoUIkAUrkfhehQiQBSuR+F6FCJAFK5H4XoUIkCamZmZmRkiQB+F61G4HiJAH4XrUbgeIkAfhetRuB4iQKRwPQrXIyJAKVyPwvUoIkApXI/C9SgiQClcj8L1KCJAKVyPwvUoIkAzMzMzMzMiQDMzMzMzMyJAMzMzMzMzIkAzMzMzMzMiQDMzMzMzMyJAuB6F61E4IkC4HoXrUTgiQLgehetROCJAuB6F61E4IkC4HoXrUTgiQLgehetROCJAPQrXo3A9IkA9CtejcD0iQD0K16NwPSJAw/UoXI9CIkDD9Shcj0IiQMP1KFyPQiJAw/UoXI9CIkBI4XoUrkciQEjhehSuRyJASOF6FK5HIkBI4XoUrkciQM3MzMzMTCJAzczMzMxMIkBSuB6F61EiQFK4HoXrUSJAUrgehetRIkBSuB6F61EiQFK4HoXrUSJA16NwPQpXIkDXo3A9ClciQFyPwvUoXCJAXI/C9ShcIkDhehSuR2EiQOF6FK5HYSJAZmZmZmZmIkBxPQrXo3AiQHE9CtejcCJAcT0K16NwIkBxPQrXo3AiQPYoXI/CdSJA9ihcj8J1IkD2KFyPwnUiQPYoXI/CdSJA9ihcj8J1IkB7FK5H4XoiQHsUrkfheiJAAAAAAACAIkAAAAAAAIAiQIXrUbgehSJAhetRuB6FIkAK16NwPYoiQI/C9ShcjyJAj8L1KFyPIkCamZmZmZkiQB+F61G4niJApHA9CtejIkCuR+F6FK4iQK5H4XoUriJAMzMzMzOzIkC4HoXrUbgiQLgehetRuCJAuB6F61G4IkC4HoXrUbgiQLgehetRuCJAw/UoXI/CIkDNzMzMzMwiQM3MzMzMzCJA16NwPQrXIkBcj8L1KNwiQOF6FK5H4SJA4XoUrkfhIkDhehSuR+EiQGZmZmZm5iJAZmZmZmbmIkBmZmZmZuYiQGZmZmZm5iJA7FG4HoXrIkDsUbgehesiQHE9Ctej8CJA9ihcj8L1IkD2KFyPwvUiQAAAAAAAACNAAAAAAAAAI0CPwvUoXA8jQBSuR+F6FCNAFK5H4XoUI0AfhetRuB4jQB+F61G4HiNAMzMzMzMzI0AzMzMzMzMjQDMzMzMzMyNAPQrXo3A9I0BI4XoUrkcjQM3MzMzMTCNAUrgehetRI0BSuB6F61EjQFK4HoXrUSNA16NwPQpXI0Bcj8L1KFwjQGZmZmZmZiNAZmZmZmZmI0B7FK5H4XojQIXrUbgehSNAhetRuB6FI0CPwvUoXI8jQJqZmZmZmSNAmpmZmZmZI0CamZmZmZkjQKRwPQrXoyNAuB6F61G4I0A9CtejcL0jQD0K16NwvSNAUrgehevRI0DXo3A9CtcjQA==",
          "dtype": "f8"
         },
         "xaxis": "x",
         "y": {
          "bdata": "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",
          "dtype": "f8"
         },
         "yaxis": "y"
        }
       ],
       "layout": {
        "coloraxis": {
         "colorbar": {
          "title": {
           "text": "Research"
          }
         },
         "colorscale": [
          [
           0,
           "#0d0887"
          ],
          [
           0.1111111111111111,
           "#46039f"
          ],
          [
           0.2222222222222222,
           "#7201a8"
          ],
          [
           0.3333333333333333,
           "#9c179e"
          ],
          [
           0.4444444444444444,
           "#bd3786"
          ],
          [
           0.5555555555555556,
           "#d8576b"
          ],
          [
           0.6666666666666666,
           "#ed7953"
          ],
          [
           0.7777777777777778,
           "#fb9f3a"
          ],
          [
           0.8888888888888888,
           "#fdca26"
          ],
          [
           1,
           "#f0f921"
          ]
         ]
        },
        "legend": {
         "tracegroupgap": 0
        },
        "template": {
         "data": {
          "bar": [
           {
            "error_x": {
             "color": "#f2f5fa"
            },
            "error_y": {
             "color": "#f2f5fa"
            },
            "marker": {
             "line": {
              "color": "rgb(17,17,17)",
              "width": 0.5
             },
             "pattern": {
              "fillmode": "overlay",
              "size": 10,
              "solidity": 0.2
             }
            },
            "type": "bar"
           }
          ],
          "barpolar": [
           {
            "marker": {
             "line": {
              "color": "rgb(17,17,17)",
              "width": 0.5
             },
             "pattern": {
              "fillmode": "overlay",
              "size": 10,
              "solidity": 0.2
             }
            },
            "type": "barpolar"
           }
          ],
          "carpet": [
           {
            "aaxis": {
             "endlinecolor": "#A2B1C6",
             "gridcolor": "#506784",
             "linecolor": "#506784",
             "minorgridcolor": "#506784",
             "startlinecolor": "#A2B1C6"
            },
            "baxis": {
             "endlinecolor": "#A2B1C6",
             "gridcolor": "#506784",
             "linecolor": "#506784",
             "minorgridcolor": "#506784",
             "startlinecolor": "#A2B1C6"
            },
            "type": "carpet"
           }
          ],
          "choropleth": [
           {
            "colorbar": {
             "outlinewidth": 0,
             "ticks": ""
            },
            "type": "choropleth"
           }
          ],
          "contour": [
           {
            "colorbar": {
             "outlinewidth": 0,
             "ticks": ""
            },
            "colorscale": [
             [
              0,
              "#0d0887"
             ],
             [
              0.1111111111111111,
              "#46039f"
             ],
             [
              0.2222222222222222,
              "#7201a8"
             ],
             [
              0.3333333333333333,
              "#9c179e"
             ],
             [
              0.4444444444444444,
              "#bd3786"
             ],
             [
              0.5555555555555556,
              "#d8576b"
             ],
             [
              0.6666666666666666,
              "#ed7953"
             ],
             [
              0.7777777777777778,
              "#fb9f3a"
             ],
             [
              0.8888888888888888,
              "#fdca26"
             ],
             [
              1,
              "#f0f921"
             ]
            ],
            "type": "contour"
           }
          ],
          "contourcarpet": [
           {
            "colorbar": {
             "outlinewidth": 0,
             "ticks": ""
            },
            "type": "contourcarpet"
           }
          ],
          "heatmap": [
           {
            "colorbar": {
             "outlinewidth": 0,
             "ticks": ""
            },
            "colorscale": [
             [
              0,
              "#0d0887"
             ],
             [
              0.1111111111111111,
              "#46039f"
             ],
             [
              0.2222222222222222,
              "#7201a8"
             ],
             [
              0.3333333333333333,
              "#9c179e"
             ],
             [
              0.4444444444444444,
              "#bd3786"
             ],
             [
              0.5555555555555556,
              "#d8576b"
             ],
             [
              0.6666666666666666,
              "#ed7953"
             ],
             [
              0.7777777777777778,
              "#fb9f3a"
             ],
             [
              0.8888888888888888,
              "#fdca26"
             ],
             [
              1,
              "#f0f921"
             ]
            ],
            "type": "heatmap"
           }
          ],
          "histogram": [
           {
            "marker": {
             "pattern": {
              "fillmode": "overlay",
              "size": 10,
              "solidity": 0.2
             }
            },
            "type": "histogram"
           }
          ],
          "histogram2d": [
           {
            "colorbar": {
             "outlinewidth": 0,
             "ticks": ""
            },
            "colorscale": [
             [
              0,
              "#0d0887"
             ],
             [
              0.1111111111111111,
              "#46039f"
             ],
             [
              0.2222222222222222,
              "#7201a8"
             ],
             [
              0.3333333333333333,
              "#9c179e"
             ],
             [
              0.4444444444444444,
              "#bd3786"
             ],
             [
              0.5555555555555556,
              "#d8576b"
             ],
             [
              0.6666666666666666,
              "#ed7953"
             ],
             [
              0.7777777777777778,
              "#fb9f3a"
             ],
             [
              0.8888888888888888,
              "#fdca26"
             ],
             [
              1,
              "#f0f921"
             ]
            ],
            "type": "histogram2d"
           }
          ],
          "histogram2dcontour": [
           {
            "colorbar": {
             "outlinewidth": 0,
             "ticks": ""
            },
            "colorscale": [
             [
              0,
              "#0d0887"
             ],
             [
              0.1111111111111111,
              "#46039f"
             ],
             [
              0.2222222222222222,
              "#7201a8"
             ],
             [
              0.3333333333333333,
              "#9c179e"
             ],
             [
              0.4444444444444444,
              "#bd3786"
             ],
             [
              0.5555555555555556,
              "#d8576b"
             ],
             [
              0.6666666666666666,
              "#ed7953"
             ],
             [
              0.7777777777777778,
              "#fb9f3a"
             ],
             [
              0.8888888888888888,
              "#fdca26"
             ],
             [
              1,
              "#f0f921"
             ]
            ],
            "type": "histogram2dcontour"
           }
          ],
          "mesh3d": [
           {
            "colorbar": {
             "outlinewidth": 0,
             "ticks": ""
            },
            "type": "mesh3d"
           }
          ],
          "parcoords": [
           {
            "line": {
             "colorbar": {
              "outlinewidth": 0,
              "ticks": ""
             }
            },
            "type": "parcoords"
           }
          ],
          "pie": [
           {
            "automargin": true,
            "type": "pie"
           }
          ],
          "scatter": [
           {
            "marker": {
             "line": {
              "color": "#283442"
             }
            },
            "type": "scatter"
           }
          ],
          "scatter3d": [
           {
            "line": {
             "colorbar": {
              "outlinewidth": 0,
              "ticks": ""
             }
            },
            "marker": {
             "colorbar": {
              "outlinewidth": 0,
              "ticks": ""
             }
            },
            "type": "scatter3d"
           }
          ],
          "scattercarpet": [
           {
            "marker": {
             "colorbar": {
              "outlinewidth": 0,
              "ticks": ""
             }
            },
            "type": "scattercarpet"
           }
          ],
          "scattergeo": [
           {
            "marker": {
             "colorbar": {
              "outlinewidth": 0,
              "ticks": ""
             }
            },
            "type": "scattergeo"
           }
          ],
          "scattergl": [
           {
            "marker": {
             "line": {
              "color": "#283442"
             }
            },
            "type": "scattergl"
           }
          ],
          "scattermap": [
           {
            "marker": {
             "colorbar": {
              "outlinewidth": 0,
              "ticks": ""
             }
            },
            "type": "scattermap"
           }
          ],
          "scattermapbox": [
           {
            "marker": {
             "colorbar": {
              "outlinewidth": 0,
              "ticks": ""
             }
            },
            "type": "scattermapbox"
           }
          ],
          "scatterpolar": [
           {
            "marker": {
             "colorbar": {
              "outlinewidth": 0,
              "ticks": ""
             }
            },
            "type": "scatterpolar"
           }
          ],
          "scatterpolargl": [
           {
            "marker": {
             "colorbar": {
              "outlinewidth": 0,
              "ticks": ""
             }
            },
            "type": "scatterpolargl"
           }
          ],
          "scatterternary": [
           {
            "marker": {
             "colorbar": {
              "outlinewidth": 0,
              "ticks": ""
             }
            },
            "type": "scatterternary"
           }
          ],
          "surface": [
           {
            "colorbar": {
             "outlinewidth": 0,
             "ticks": ""
            },
            "colorscale": [
             [
              0,
              "#0d0887"
             ],
             [
              0.1111111111111111,
              "#46039f"
             ],
             [
              0.2222222222222222,
              "#7201a8"
             ],
             [
              0.3333333333333333,
              "#9c179e"
             ],
             [
              0.4444444444444444,
              "#bd3786"
             ],
             [
              0.5555555555555556,
              "#d8576b"
             ],
             [
              0.6666666666666666,
              "#ed7953"
             ],
             [
              0.7777777777777778,
              "#fb9f3a"
             ],
             [
              0.8888888888888888,
              "#fdca26"
             ],
             [
              1,
              "#f0f921"
             ]
            ],
            "type": "surface"
           }
          ],
          "table": [
           {
            "cells": {
             "fill": {
              "color": "#506784"
             },
             "line": {
              "color": "rgb(17,17,17)"
             }
            },
            "header": {
             "fill": {
              "color": "#2a3f5f"
             },
             "line": {
              "color": "rgb(17,17,17)"
             }
            },
            "type": "table"
           }
          ]
         },
         "layout": {
          "annotationdefaults": {
           "arrowcolor": "#f2f5fa",
           "arrowhead": 0,
           "arrowwidth": 1
          },
          "autotypenumbers": "strict",
          "coloraxis": {
           "colorbar": {
            "outlinewidth": 0,
            "ticks": ""
           }
          },
          "colorscale": {
           "diverging": [
            [
             0,
             "#8e0152"
            ],
            [
             0.1,
             "#c51b7d"
            ],
            [
             0.2,
             "#de77ae"
            ],
            [
             0.3,
             "#f1b6da"
            ],
            [
             0.4,
             "#fde0ef"
            ],
            [
             0.5,
             "#f7f7f7"
            ],
            [
             0.6,
             "#e6f5d0"
            ],
            [
             0.7,
             "#b8e186"
            ],
            [
             0.8,
             "#7fbc41"
            ],
            [
             0.9,
             "#4d9221"
            ],
            [
             1,
             "#276419"
            ]
           ],
           "sequential": [
            [
             0,
             "#0d0887"
            ],
            [
             0.1111111111111111,
             "#46039f"
            ],
            [
             0.2222222222222222,
             "#7201a8"
            ],
            [
             0.3333333333333333,
             "#9c179e"
            ],
            [
             0.4444444444444444,
             "#bd3786"
            ],
            [
             0.5555555555555556,
             "#d8576b"
            ],
            [
             0.6666666666666666,
             "#ed7953"
            ],
            [
             0.7777777777777778,
             "#fb9f3a"
            ],
            [
             0.8888888888888888,
             "#fdca26"
            ],
            [
             1,
             "#f0f921"
            ]
           ],
           "sequentialminus": [
            [
             0,
             "#0d0887"
            ],
            [
             0.1111111111111111,
             "#46039f"
            ],
            [
             0.2222222222222222,
             "#7201a8"
            ],
            [
             0.3333333333333333,
             "#9c179e"
            ],
            [
             0.4444444444444444,
             "#bd3786"
            ],
            [
             0.5555555555555556,
             "#d8576b"
            ],
            [
             0.6666666666666666,
             "#ed7953"
            ],
            [
             0.7777777777777778,
             "#fb9f3a"
            ],
            [
             0.8888888888888888,
             "#fdca26"
            ],
            [
             1,
             "#f0f921"
            ]
           ]
          },
          "colorway": [
           "#636efa",
           "#EF553B",
           "#00cc96",
           "#ab63fa",
           "#FFA15A",
           "#19d3f3",
           "#FF6692",
           "#B6E880",
           "#FF97FF",
           "#FECB52"
          ],
          "font": {
           "color": "#f2f5fa"
          },
          "geo": {
           "bgcolor": "rgb(17,17,17)",
           "lakecolor": "rgb(17,17,17)",
           "landcolor": "rgb(17,17,17)",
           "showlakes": true,
           "showland": true,
           "subunitcolor": "#506784"
          },
          "hoverlabel": {
           "align": "left"
          },
          "hovermode": "closest",
          "mapbox": {
           "style": "dark"
          },
          "paper_bgcolor": "rgb(17,17,17)",
          "plot_bgcolor": "rgb(17,17,17)",
          "polar": {
           "angularaxis": {
            "gridcolor": "#506784",
            "linecolor": "#506784",
            "ticks": ""
           },
           "bgcolor": "rgb(17,17,17)",
           "radialaxis": {
            "gridcolor": "#506784",
            "linecolor": "#506784",
            "ticks": ""
           }
          },
          "scene": {
           "xaxis": {
            "backgroundcolor": "rgb(17,17,17)",
            "gridcolor": "#506784",
            "gridwidth": 2,
            "linecolor": "#506784",
            "showbackground": true,
            "ticks": "",
            "zerolinecolor": "#C8D4E3"
           },
           "yaxis": {
            "backgroundcolor": "rgb(17,17,17)",
            "gridcolor": "#506784",
            "gridwidth": 2,
            "linecolor": "#506784",
            "showbackground": true,
            "ticks": "",
            "zerolinecolor": "#C8D4E3"
           },
           "zaxis": {
            "backgroundcolor": "rgb(17,17,17)",
            "gridcolor": "#506784",
            "gridwidth": 2,
            "linecolor": "#506784",
            "showbackground": true,
            "ticks": "",
            "zerolinecolor": "#C8D4E3"
           }
          },
          "shapedefaults": {
           "line": {
            "color": "#f2f5fa"
           }
          },
          "sliderdefaults": {
           "bgcolor": "#C8D4E3",
           "bordercolor": "rgb(17,17,17)",
           "borderwidth": 1,
           "tickwidth": 0
          },
          "ternary": {
           "aaxis": {
            "gridcolor": "#506784",
            "linecolor": "#506784",
            "ticks": ""
           },
           "baxis": {
            "gridcolor": "#506784",
            "linecolor": "#506784",
            "ticks": ""
           },
           "bgcolor": "rgb(17,17,17)",
           "caxis": {
            "gridcolor": "#506784",
            "linecolor": "#506784",
            "ticks": ""
           }
          },
          "title": {
           "x": 0.05
          },
          "updatemenudefaults": {
           "bgcolor": "#506784",
           "borderwidth": 0
          },
          "xaxis": {
           "automargin": true,
           "gridcolor": "#283442",
           "linecolor": "#506784",
           "ticks": "",
           "title": {
            "standoff": 15
           },
           "zerolinecolor": "#283442",
           "zerolinewidth": 2
          },
          "yaxis": {
           "automargin": true,
           "gridcolor": "#283442",
           "linecolor": "#506784",
           "ticks": "",
           "title": {
            "standoff": 15
           },
           "zerolinecolor": "#283442",
           "zerolinewidth": 2
          }
         }
        },
        "title": {
         "text": "CGPA vs Chance of Admit (Colored by Research)"
        },
        "xaxis": {
         "anchor": "y",
         "domain": [
          0,
          1
         ],
         "title": {
          "text": "CGPA"
         }
        },
        "yaxis": {
         "anchor": "x",
         "domain": [
          0,
          1
         ],
         "title": {
          "text": "Chance_of_Admit"
         }
        }
       }
      }
     },
     "metadata": {},
     "output_type": "display_data"
    }
   ],
   "source": [
    "fig = px.scatter(adm_data, x='CGPA', y='Chance_of_Admit', color='Research',\n",
    "                 trendline='ols', title='CGPA vs Chance of Admit (Colored by Research)')\n",
    "fig.update_layout(template='plotly_dark')\n",
    "fig.show(renderer='vscode')"
   ]
  },
  {
   "cell_type": "code",
   "execution_count": 26,
   "id": "85ea40a6",
   "metadata": {},
   "outputs": [
    {
     "data": {
      "application/vnd.plotly.v1+json": {
       "config": {
        "plotlyServerURL": "https://plot.ly"
       },
       "data": [
        {
         "alignmentgroup": "True",
         "hovertemplate": "Research=%{x}<br>Chance_of_Admit=%{y}<extra></extra>",
         "legendgroup": "",
         "marker": {
          "color": "#636efa"
         },
         "name": "",
         "notched": false,
         "offsetgroup": "",
         "orientation": "v",
         "showlegend": false,
         "type": "box",
         "x": {
          "bdata": "AQEBAQABAQAAAAEBAQEBAAABAAABAAEBAQEAAQAAAQEBAQEBAAAAAAEBAQABAQEAAQEBAQEBAAAAAAEAAAABAQAAAAEBAQEBAQEAAQEAAQABAQEBAQAAAAABAQAAAQAAAAEBAQEAAAABAQEBAQAAAQEAAQEAAAABAQEAAAABAQEBAQEAAAABAQABAQABAQEBAQEAAQEBAQEBAAAAAAAAAAAAAAABAAAAAQABAQEBAQEBAAAAAAAAAAABAQEBAQEBAQEAAQAAAAABAQEBAAAAAQABAQEBAQEBAQEBAAAAAAAAAAAAAAEAAQAAAQEBAQAAAAABAQABAAABAQEAAQEAAAABAQEBAAEBAQAAAQAAAQAAAQABAQAAAAEBAQEBAQEBAAAAAAABAQAAAAEAAAABAQABAQEAAAEBAQAAAAAAAQEBAQAAAAEAAAEAAQEBAQEBAAEBAQEBAAAAAAAAAAABAQEAAAABAQAAAQEBAAEBAQAAAQABAQEAAAAAAAEBAQEAAQEAAAABAAABAAEBAQEAAQAAAQEBAAEBAQAAAAEBAQEAAAABAAEBAQEBAAEAAQEBAQAAAAEBAQAAAQEBAQEBAQAAAQEBAQAAAAABAQEBAAAAAAEBAQEBAAEAAQAAAAEBAQEBAAEBAAABAAEAAQEBAQEBAAA=",
          "dtype": "i1"
         },
         "x0": " ",
         "xaxis": "x",
         "y": {
          "bdata": "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",
          "dtype": "f8"
         },
         "y0": " ",
         "yaxis": "y"
        }
       ],
       "layout": {
        "boxmode": "group",
        "legend": {
         "tracegroupgap": 0
        },
        "template": {
         "data": {
          "bar": [
           {
            "error_x": {
             "color": "#f2f5fa"
            },
            "error_y": {
             "color": "#f2f5fa"
            },
            "marker": {
             "line": {
              "color": "rgb(17,17,17)",
              "width": 0.5
             },
             "pattern": {
              "fillmode": "overlay",
              "size": 10,
              "solidity": 0.2
             }
            },
            "type": "bar"
           }
          ],
          "barpolar": [
           {
            "marker": {
             "line": {
              "color": "rgb(17,17,17)",
              "width": 0.5
             },
             "pattern": {
              "fillmode": "overlay",
              "size": 10,
              "solidity": 0.2
             }
            },
            "type": "barpolar"
           }
          ],
          "carpet": [
           {
            "aaxis": {
             "endlinecolor": "#A2B1C6",
             "gridcolor": "#506784",
             "linecolor": "#506784",
             "minorgridcolor": "#506784",
             "startlinecolor": "#A2B1C6"
            },
            "baxis": {
             "endlinecolor": "#A2B1C6",
             "gridcolor": "#506784",
             "linecolor": "#506784",
             "minorgridcolor": "#506784",
             "startlinecolor": "#A2B1C6"
            },
            "type": "carpet"
           }
          ],
          "choropleth": [
           {
            "colorbar": {
             "outlinewidth": 0,
             "ticks": ""
            },
            "type": "choropleth"
           }
          ],
          "contour": [
           {
            "colorbar": {
             "outlinewidth": 0,
             "ticks": ""
            },
            "colorscale": [
             [
              0,
              "#0d0887"
             ],
             [
              0.1111111111111111,
              "#46039f"
             ],
             [
              0.2222222222222222,
              "#7201a8"
             ],
             [
              0.3333333333333333,
              "#9c179e"
             ],
             [
              0.4444444444444444,
              "#bd3786"
             ],
             [
              0.5555555555555556,
              "#d8576b"
             ],
             [
              0.6666666666666666,
              "#ed7953"
             ],
             [
              0.7777777777777778,
              "#fb9f3a"
             ],
             [
              0.8888888888888888,
              "#fdca26"
             ],
             [
              1,
              "#f0f921"
             ]
            ],
            "type": "contour"
           }
          ],
          "contourcarpet": [
           {
            "colorbar": {
             "outlinewidth": 0,
             "ticks": ""
            },
            "type": "contourcarpet"
           }
          ],
          "heatmap": [
           {
            "colorbar": {
             "outlinewidth": 0,
             "ticks": ""
            },
            "colorscale": [
             [
              0,
              "#0d0887"
             ],
             [
              0.1111111111111111,
              "#46039f"
             ],
             [
              0.2222222222222222,
              "#7201a8"
             ],
             [
              0.3333333333333333,
              "#9c179e"
             ],
             [
              0.4444444444444444,
              "#bd3786"
             ],
             [
              0.5555555555555556,
              "#d8576b"
             ],
             [
              0.6666666666666666,
              "#ed7953"
             ],
             [
              0.7777777777777778,
              "#fb9f3a"
             ],
             [
              0.8888888888888888,
              "#fdca26"
             ],
             [
              1,
              "#f0f921"
             ]
            ],
            "type": "heatmap"
           }
          ],
          "histogram": [
           {
            "marker": {
             "pattern": {
              "fillmode": "overlay",
              "size": 10,
              "solidity": 0.2
             }
            },
            "type": "histogram"
           }
          ],
          "histogram2d": [
           {
            "colorbar": {
             "outlinewidth": 0,
             "ticks": ""
            },
            "colorscale": [
             [
              0,
              "#0d0887"
             ],
             [
              0.1111111111111111,
              "#46039f"
             ],
             [
              0.2222222222222222,
              "#7201a8"
             ],
             [
              0.3333333333333333,
              "#9c179e"
             ],
             [
              0.4444444444444444,
              "#bd3786"
             ],
             [
              0.5555555555555556,
              "#d8576b"
             ],
             [
              0.6666666666666666,
              "#ed7953"
             ],
             [
              0.7777777777777778,
              "#fb9f3a"
             ],
             [
              0.8888888888888888,
              "#fdca26"
             ],
             [
              1,
              "#f0f921"
             ]
            ],
            "type": "histogram2d"
           }
          ],
          "histogram2dcontour": [
           {
            "colorbar": {
             "outlinewidth": 0,
             "ticks": ""
            },
            "colorscale": [
             [
              0,
              "#0d0887"
             ],
             [
              0.1111111111111111,
              "#46039f"
             ],
             [
              0.2222222222222222,
              "#7201a8"
             ],
             [
              0.3333333333333333,
              "#9c179e"
             ],
             [
              0.4444444444444444,
              "#bd3786"
             ],
             [
              0.5555555555555556,
              "#d8576b"
             ],
             [
              0.6666666666666666,
              "#ed7953"
             ],
             [
              0.7777777777777778,
              "#fb9f3a"
             ],
             [
              0.8888888888888888,
              "#fdca26"
             ],
             [
              1,
              "#f0f921"
             ]
            ],
            "type": "histogram2dcontour"
           }
          ],
          "mesh3d": [
           {
            "colorbar": {
             "outlinewidth": 0,
             "ticks": ""
            },
            "type": "mesh3d"
           }
          ],
          "parcoords": [
           {
            "line": {
             "colorbar": {
              "outlinewidth": 0,
              "ticks": ""
             }
            },
            "type": "parcoords"
           }
          ],
          "pie": [
           {
            "automargin": true,
            "type": "pie"
           }
          ],
          "scatter": [
           {
            "marker": {
             "line": {
              "color": "#283442"
             }
            },
            "type": "scatter"
           }
          ],
          "scatter3d": [
           {
            "line": {
             "colorbar": {
              "outlinewidth": 0,
              "ticks": ""
             }
            },
            "marker": {
             "colorbar": {
              "outlinewidth": 0,
              "ticks": ""
             }
            },
            "type": "scatter3d"
           }
          ],
          "scattercarpet": [
           {
            "marker": {
             "colorbar": {
              "outlinewidth": 0,
              "ticks": ""
             }
            },
            "type": "scattercarpet"
           }
          ],
          "scattergeo": [
           {
            "marker": {
             "colorbar": {
              "outlinewidth": 0,
              "ticks": ""
             }
            },
            "type": "scattergeo"
           }
          ],
          "scattergl": [
           {
            "marker": {
             "line": {
              "color": "#283442"
             }
            },
            "type": "scattergl"
           }
          ],
          "scattermap": [
           {
            "marker": {
             "colorbar": {
              "outlinewidth": 0,
              "ticks": ""
             }
            },
            "type": "scattermap"
           }
          ],
          "scattermapbox": [
           {
            "marker": {
             "colorbar": {
              "outlinewidth": 0,
              "ticks": ""
             }
            },
            "type": "scattermapbox"
           }
          ],
          "scatterpolar": [
           {
            "marker": {
             "colorbar": {
              "outlinewidth": 0,
              "ticks": ""
             }
            },
            "type": "scatterpolar"
           }
          ],
          "scatterpolargl": [
           {
            "marker": {
             "colorbar": {
              "outlinewidth": 0,
              "ticks": ""
             }
            },
            "type": "scatterpolargl"
           }
          ],
          "scatterternary": [
           {
            "marker": {
             "colorbar": {
              "outlinewidth": 0,
              "ticks": ""
             }
            },
            "type": "scatterternary"
           }
          ],
          "surface": [
           {
            "colorbar": {
             "outlinewidth": 0,
             "ticks": ""
            },
            "colorscale": [
             [
              0,
              "#0d0887"
             ],
             [
              0.1111111111111111,
              "#46039f"
             ],
             [
              0.2222222222222222,
              "#7201a8"
             ],
             [
              0.3333333333333333,
              "#9c179e"
             ],
             [
              0.4444444444444444,
              "#bd3786"
             ],
             [
              0.5555555555555556,
              "#d8576b"
             ],
             [
              0.6666666666666666,
              "#ed7953"
             ],
             [
              0.7777777777777778,
              "#fb9f3a"
             ],
             [
              0.8888888888888888,
              "#fdca26"
             ],
             [
              1,
              "#f0f921"
             ]
            ],
            "type": "surface"
           }
          ],
          "table": [
           {
            "cells": {
             "fill": {
              "color": "#506784"
             },
             "line": {
              "color": "rgb(17,17,17)"
             }
            },
            "header": {
             "fill": {
              "color": "#2a3f5f"
             },
             "line": {
              "color": "rgb(17,17,17)"
             }
            },
            "type": "table"
           }
          ]
         },
         "layout": {
          "annotationdefaults": {
           "arrowcolor": "#f2f5fa",
           "arrowhead": 0,
           "arrowwidth": 1
          },
          "autotypenumbers": "strict",
          "coloraxis": {
           "colorbar": {
            "outlinewidth": 0,
            "ticks": ""
           }
          },
          "colorscale": {
           "diverging": [
            [
             0,
             "#8e0152"
            ],
            [
             0.1,
             "#c51b7d"
            ],
            [
             0.2,
             "#de77ae"
            ],
            [
             0.3,
             "#f1b6da"
            ],
            [
             0.4,
             "#fde0ef"
            ],
            [
             0.5,
             "#f7f7f7"
            ],
            [
             0.6,
             "#e6f5d0"
            ],
            [
             0.7,
             "#b8e186"
            ],
            [
             0.8,
             "#7fbc41"
            ],
            [
             0.9,
             "#4d9221"
            ],
            [
             1,
             "#276419"
            ]
           ],
           "sequential": [
            [
             0,
             "#0d0887"
            ],
            [
             0.1111111111111111,
             "#46039f"
            ],
            [
             0.2222222222222222,
             "#7201a8"
            ],
            [
             0.3333333333333333,
             "#9c179e"
            ],
            [
             0.4444444444444444,
             "#bd3786"
            ],
            [
             0.5555555555555556,
             "#d8576b"
            ],
            [
             0.6666666666666666,
             "#ed7953"
            ],
            [
             0.7777777777777778,
             "#fb9f3a"
            ],
            [
             0.8888888888888888,
             "#fdca26"
            ],
            [
             1,
             "#f0f921"
            ]
           ],
           "sequentialminus": [
            [
             0,
             "#0d0887"
            ],
            [
             0.1111111111111111,
             "#46039f"
            ],
            [
             0.2222222222222222,
             "#7201a8"
            ],
            [
             0.3333333333333333,
             "#9c179e"
            ],
            [
             0.4444444444444444,
             "#bd3786"
            ],
            [
             0.5555555555555556,
             "#d8576b"
            ],
            [
             0.6666666666666666,
             "#ed7953"
            ],
            [
             0.7777777777777778,
             "#fb9f3a"
            ],
            [
             0.8888888888888888,
             "#fdca26"
            ],
            [
             1,
             "#f0f921"
            ]
           ]
          },
          "colorway": [
           "#636efa",
           "#EF553B",
           "#00cc96",
           "#ab63fa",
           "#FFA15A",
           "#19d3f3",
           "#FF6692",
           "#B6E880",
           "#FF97FF",
           "#FECB52"
          ],
          "font": {
           "color": "#f2f5fa"
          },
          "geo": {
           "bgcolor": "rgb(17,17,17)",
           "lakecolor": "rgb(17,17,17)",
           "landcolor": "rgb(17,17,17)",
           "showlakes": true,
           "showland": true,
           "subunitcolor": "#506784"
          },
          "hoverlabel": {
           "align": "left"
          },
          "hovermode": "closest",
          "mapbox": {
           "style": "dark"
          },
          "paper_bgcolor": "rgb(17,17,17)",
          "plot_bgcolor": "rgb(17,17,17)",
          "polar": {
           "angularaxis": {
            "gridcolor": "#506784",
            "linecolor": "#506784",
            "ticks": ""
           },
           "bgcolor": "rgb(17,17,17)",
           "radialaxis": {
            "gridcolor": "#506784",
            "linecolor": "#506784",
            "ticks": ""
           }
          },
          "scene": {
           "xaxis": {
            "backgroundcolor": "rgb(17,17,17)",
            "gridcolor": "#506784",
            "gridwidth": 2,
            "linecolor": "#506784",
            "showbackground": true,
            "ticks": "",
            "zerolinecolor": "#C8D4E3"
           },
           "yaxis": {
            "backgroundcolor": "rgb(17,17,17)",
            "gridcolor": "#506784",
            "gridwidth": 2,
            "linecolor": "#506784",
            "showbackground": true,
            "ticks": "",
            "zerolinecolor": "#C8D4E3"
           },
           "zaxis": {
            "backgroundcolor": "rgb(17,17,17)",
            "gridcolor": "#506784",
            "gridwidth": 2,
            "linecolor": "#506784",
            "showbackground": true,
            "ticks": "",
            "zerolinecolor": "#C8D4E3"
           }
          },
          "shapedefaults": {
           "line": {
            "color": "#f2f5fa"
           }
          },
          "sliderdefaults": {
           "bgcolor": "#C8D4E3",
           "bordercolor": "rgb(17,17,17)",
           "borderwidth": 1,
           "tickwidth": 0
          },
          "ternary": {
           "aaxis": {
            "gridcolor": "#506784",
            "linecolor": "#506784",
            "ticks": ""
           },
           "baxis": {
            "gridcolor": "#506784",
            "linecolor": "#506784",
            "ticks": ""
           },
           "bgcolor": "rgb(17,17,17)",
           "caxis": {
            "gridcolor": "#506784",
            "linecolor": "#506784",
            "ticks": ""
           }
          },
          "title": {
           "x": 0.05
          },
          "updatemenudefaults": {
           "bgcolor": "#506784",
           "borderwidth": 0
          },
          "xaxis": {
           "automargin": true,
           "gridcolor": "#283442",
           "linecolor": "#506784",
           "ticks": "",
           "title": {
            "standoff": 15
           },
           "zerolinecolor": "#283442",
           "zerolinewidth": 2
          },
          "yaxis": {
           "automargin": true,
           "gridcolor": "#283442",
           "linecolor": "#506784",
           "ticks": "",
           "title": {
            "standoff": 15
           },
           "zerolinecolor": "#283442",
           "zerolinewidth": 2
          }
         }
        },
        "title": {
         "text": "Chance of Admit by Research Experience"
        },
        "xaxis": {
         "anchor": "y",
         "domain": [
          0,
          1
         ],
         "title": {
          "text": "Research"
         }
        },
        "yaxis": {
         "anchor": "x",
         "domain": [
          0,
          1
         ],
         "title": {
          "text": "Chance_of_Admit"
         }
        }
       }
      }
     },
     "metadata": {},
     "output_type": "display_data"
    }
   ],
   "source": [
    "fig = px.box(adm_data, x=\"Research\", y=\"Chance_of_Admit\", title=\"Chance of Admit by Research Experience\")\n",
    "fig.update_layout(template='plotly_dark')\n",
    "fig.show(renderer='vscode')"
   ]
  },
  {
   "cell_type": "code",
   "execution_count": 27,
   "id": "d95959df",
   "metadata": {},
   "outputs": [
    {
     "data": {
      "application/vnd.plotly.v1+json": {
       "config": {
        "plotlyServerURL": "https://plot.ly"
       },
       "data": [
        {
         "colorscale": [
          [
           0,
           "#00224e"
          ],
          [
           0.1111111111111111,
           "#123570"
          ],
          [
           0.2222222222222222,
           "#3b496c"
          ],
          [
           0.3333333333333333,
           "#575d6d"
          ],
          [
           0.4444444444444444,
           "#707173"
          ],
          [
           0.5555555555555556,
           "#8a8678"
          ],
          [
           0.6666666666666666,
           "#a59c74"
          ],
          [
           0.7777777777777778,
           "#c3b369"
          ],
          [
           0.8888888888888888,
           "#e1cc55"
          ],
          [
           1,
           "#fee838"
          ]
         ],
         "text": {
          "bdata": "AAAAAAAA8D+PwvUoXI/qP3sUrkfheuQ/hetRuB6F4z+kcD0K16PgP4/C9Shcj+o/7FG4HoXr4T/sUbgehevpP4/C9Shcj+o/AAAAAAAA8D/NzMzMzMzkP3sUrkfheuQ/SOF6FK5H4T/sUbgehevpPxSuR+F6FN4/SOF6FK5H6T97FK5H4XrkP83MzMzMzOQ/AAAAAAAA8D9cj8L1KFznP4XrUbgeheM/uB6F61G45j+F61G4HoXbPxSuR+F6FOY/hetRuB6F4z97FK5H4XrkP1yPwvUoXOc/AAAAAAAA8D8fhetRuB7lP7gehetRuOY/PQrXo3A92j/D9Shcj8LlP6RwPQrXo+A/SOF6FK5H4T+F61G4HoXjPx+F61G4HuU/AAAAAAAA8D97FK5H4XrkP65H4XoUrtc/zczMzMzM5D+PwvUoXI/qP+xRuB6F6+k/uB6F61G45j+4HoXrUbjmP3sUrkfheuQ/AAAAAAAA8D8AAAAAAADgPylcj8L1KOw/7FG4HoXr4T8UrkfhehTeP4XrUbgehds/PQrXo3A92j+uR+F6FK7XPwAAAAAAAOA/AAAAAAAA8D+amZmZmZnhP+xRuB6F6+k/SOF6FK5H6T8UrkfhehTmP8P1KFyPwuU/zczMzMzM5D8pXI/C9SjsP5qZmZmZmeE/AAAAAAAA8D8=",
          "dtype": "f8",
          "shape": "8, 8"
         },
         "texttemplate": "%{text}",
         "type": "heatmap",
         "x": [
          "GRE",
          "TOEFL",
          "University_Rating",
          "SOP",
          "LOR",
          "CGPA",
          "Research",
          "Chance_of_Admit"
         ],
         "y": [
          "GRE",
          "TOEFL",
          "University_Rating",
          "SOP",
          "LOR",
          "CGPA",
          "Research",
          "Chance_of_Admit"
         ],
         "z": {
          "bdata": "AAAAAAAA8D+PwvUoXI/qP3sUrkfheuQ/hetRuB6F4z+kcD0K16PgP4/C9Shcj+o/7FG4HoXr4T/sUbgehevpP4/C9Shcj+o/AAAAAAAA8D/NzMzMzMzkP3sUrkfheuQ/SOF6FK5H4T/sUbgehevpPxSuR+F6FN4/SOF6FK5H6T97FK5H4XrkP83MzMzMzOQ/AAAAAAAA8D9cj8L1KFznP4XrUbgeheM/uB6F61G45j+F61G4HoXbPxSuR+F6FOY/hetRuB6F4z97FK5H4XrkP1yPwvUoXOc/AAAAAAAA8D8fhetRuB7lP7gehetRuOY/PQrXo3A92j/D9Shcj8LlP6RwPQrXo+A/SOF6FK5H4T+F61G4HoXjPx+F61G4HuU/AAAAAAAA8D97FK5H4XrkP65H4XoUrtc/zczMzMzM5D+PwvUoXI/qP+xRuB6F6+k/uB6F61G45j+4HoXrUbjmP3sUrkfheuQ/AAAAAAAA8D8AAAAAAADgPylcj8L1KOw/7FG4HoXr4T8UrkfhehTeP4XrUbgehds/PQrXo3A92j+uR+F6FK7XPwAAAAAAAOA/AAAAAAAA8D+amZmZmZnhP+xRuB6F6+k/SOF6FK5H6T8UrkfhehTmP8P1KFyPwuU/zczMzMzM5D8pXI/C9SjsP5qZmZmZmeE/AAAAAAAA8D8=",
          "dtype": "f8",
          "shape": "8, 8"
         }
        }
       ],
       "layout": {
        "template": {
         "data": {
          "bar": [
           {
            "error_x": {
             "color": "#f2f5fa"
            },
            "error_y": {
             "color": "#f2f5fa"
            },
            "marker": {
             "line": {
              "color": "rgb(17,17,17)",
              "width": 0.5
             },
             "pattern": {
              "fillmode": "overlay",
              "size": 10,
              "solidity": 0.2
             }
            },
            "type": "bar"
           }
          ],
          "barpolar": [
           {
            "marker": {
             "line": {
              "color": "rgb(17,17,17)",
              "width": 0.5
             },
             "pattern": {
              "fillmode": "overlay",
              "size": 10,
              "solidity": 0.2
             }
            },
            "type": "barpolar"
           }
          ],
          "carpet": [
           {
            "aaxis": {
             "endlinecolor": "#A2B1C6",
             "gridcolor": "#506784",
             "linecolor": "#506784",
             "minorgridcolor": "#506784",
             "startlinecolor": "#A2B1C6"
            },
            "baxis": {
             "endlinecolor": "#A2B1C6",
             "gridcolor": "#506784",
             "linecolor": "#506784",
             "minorgridcolor": "#506784",
             "startlinecolor": "#A2B1C6"
            },
            "type": "carpet"
           }
          ],
          "choropleth": [
           {
            "colorbar": {
             "outlinewidth": 0,
             "ticks": ""
            },
            "type": "choropleth"
           }
          ],
          "contour": [
           {
            "colorbar": {
             "outlinewidth": 0,
             "ticks": ""
            },
            "colorscale": [
             [
              0,
              "#0d0887"
             ],
             [
              0.1111111111111111,
              "#46039f"
             ],
             [
              0.2222222222222222,
              "#7201a8"
             ],
             [
              0.3333333333333333,
              "#9c179e"
             ],
             [
              0.4444444444444444,
              "#bd3786"
             ],
             [
              0.5555555555555556,
              "#d8576b"
             ],
             [
              0.6666666666666666,
              "#ed7953"
             ],
             [
              0.7777777777777778,
              "#fb9f3a"
             ],
             [
              0.8888888888888888,
              "#fdca26"
             ],
             [
              1,
              "#f0f921"
             ]
            ],
            "type": "contour"
           }
          ],
          "contourcarpet": [
           {
            "colorbar": {
             "outlinewidth": 0,
             "ticks": ""
            },
            "type": "contourcarpet"
           }
          ],
          "heatmap": [
           {
            "colorbar": {
             "outlinewidth": 0,
             "ticks": ""
            },
            "colorscale": [
             [
              0,
              "#0d0887"
             ],
             [
              0.1111111111111111,
              "#46039f"
             ],
             [
              0.2222222222222222,
              "#7201a8"
             ],
             [
              0.3333333333333333,
              "#9c179e"
             ],
             [
              0.4444444444444444,
              "#bd3786"
             ],
             [
              0.5555555555555556,
              "#d8576b"
             ],
             [
              0.6666666666666666,
              "#ed7953"
             ],
             [
              0.7777777777777778,
              "#fb9f3a"
             ],
             [
              0.8888888888888888,
              "#fdca26"
             ],
             [
              1,
              "#f0f921"
             ]
            ],
            "type": "heatmap"
           }
          ],
          "histogram": [
           {
            "marker": {
             "pattern": {
              "fillmode": "overlay",
              "size": 10,
              "solidity": 0.2
             }
            },
            "type": "histogram"
           }
          ],
          "histogram2d": [
           {
            "colorbar": {
             "outlinewidth": 0,
             "ticks": ""
            },
            "colorscale": [
             [
              0,
              "#0d0887"
             ],
             [
              0.1111111111111111,
              "#46039f"
             ],
             [
              0.2222222222222222,
              "#7201a8"
             ],
             [
              0.3333333333333333,
              "#9c179e"
             ],
             [
              0.4444444444444444,
              "#bd3786"
             ],
             [
              0.5555555555555556,
              "#d8576b"
             ],
             [
              0.6666666666666666,
              "#ed7953"
             ],
             [
              0.7777777777777778,
              "#fb9f3a"
             ],
             [
              0.8888888888888888,
              "#fdca26"
             ],
             [
              1,
              "#f0f921"
             ]
            ],
            "type": "histogram2d"
           }
          ],
          "histogram2dcontour": [
           {
            "colorbar": {
             "outlinewidth": 0,
             "ticks": ""
            },
            "colorscale": [
             [
              0,
              "#0d0887"
             ],
             [
              0.1111111111111111,
              "#46039f"
             ],
             [
              0.2222222222222222,
              "#7201a8"
             ],
             [
              0.3333333333333333,
              "#9c179e"
             ],
             [
              0.4444444444444444,
              "#bd3786"
             ],
             [
              0.5555555555555556,
              "#d8576b"
             ],
             [
              0.6666666666666666,
              "#ed7953"
             ],
             [
              0.7777777777777778,
              "#fb9f3a"
             ],
             [
              0.8888888888888888,
              "#fdca26"
             ],
             [
              1,
              "#f0f921"
             ]
            ],
            "type": "histogram2dcontour"
           }
          ],
          "mesh3d": [
           {
            "colorbar": {
             "outlinewidth": 0,
             "ticks": ""
            },
            "type": "mesh3d"
           }
          ],
          "parcoords": [
           {
            "line": {
             "colorbar": {
              "outlinewidth": 0,
              "ticks": ""
             }
            },
            "type": "parcoords"
           }
          ],
          "pie": [
           {
            "automargin": true,
            "type": "pie"
           }
          ],
          "scatter": [
           {
            "marker": {
             "line": {
              "color": "#283442"
             }
            },
            "type": "scatter"
           }
          ],
          "scatter3d": [
           {
            "line": {
             "colorbar": {
              "outlinewidth": 0,
              "ticks": ""
             }
            },
            "marker": {
             "colorbar": {
              "outlinewidth": 0,
              "ticks": ""
             }
            },
            "type": "scatter3d"
           }
          ],
          "scattercarpet": [
           {
            "marker": {
             "colorbar": {
              "outlinewidth": 0,
              "ticks": ""
             }
            },
            "type": "scattercarpet"
           }
          ],
          "scattergeo": [
           {
            "marker": {
             "colorbar": {
              "outlinewidth": 0,
              "ticks": ""
             }
            },
            "type": "scattergeo"
           }
          ],
          "scattergl": [
           {
            "marker": {
             "line": {
              "color": "#283442"
             }
            },
            "type": "scattergl"
           }
          ],
          "scattermap": [
           {
            "marker": {
             "colorbar": {
              "outlinewidth": 0,
              "ticks": ""
             }
            },
            "type": "scattermap"
           }
          ],
          "scattermapbox": [
           {
            "marker": {
             "colorbar": {
              "outlinewidth": 0,
              "ticks": ""
             }
            },
            "type": "scattermapbox"
           }
          ],
          "scatterpolar": [
           {
            "marker": {
             "colorbar": {
              "outlinewidth": 0,
              "ticks": ""
             }
            },
            "type": "scatterpolar"
           }
          ],
          "scatterpolargl": [
           {
            "marker": {
             "colorbar": {
              "outlinewidth": 0,
              "ticks": ""
             }
            },
            "type": "scatterpolargl"
           }
          ],
          "scatterternary": [
           {
            "marker": {
             "colorbar": {
              "outlinewidth": 0,
              "ticks": ""
             }
            },
            "type": "scatterternary"
           }
          ],
          "surface": [
           {
            "colorbar": {
             "outlinewidth": 0,
             "ticks": ""
            },
            "colorscale": [
             [
              0,
              "#0d0887"
             ],
             [
              0.1111111111111111,
              "#46039f"
             ],
             [
              0.2222222222222222,
              "#7201a8"
             ],
             [
              0.3333333333333333,
              "#9c179e"
             ],
             [
              0.4444444444444444,
              "#bd3786"
             ],
             [
              0.5555555555555556,
              "#d8576b"
             ],
             [
              0.6666666666666666,
              "#ed7953"
             ],
             [
              0.7777777777777778,
              "#fb9f3a"
             ],
             [
              0.8888888888888888,
              "#fdca26"
             ],
             [
              1,
              "#f0f921"
             ]
            ],
            "type": "surface"
           }
          ],
          "table": [
           {
            "cells": {
             "fill": {
              "color": "#506784"
             },
             "line": {
              "color": "rgb(17,17,17)"
             }
            },
            "header": {
             "fill": {
              "color": "#2a3f5f"
             },
             "line": {
              "color": "rgb(17,17,17)"
             }
            },
            "type": "table"
           }
          ]
         },
         "layout": {
          "annotationdefaults": {
           "arrowcolor": "#f2f5fa",
           "arrowhead": 0,
           "arrowwidth": 1
          },
          "autotypenumbers": "strict",
          "coloraxis": {
           "colorbar": {
            "outlinewidth": 0,
            "ticks": ""
           }
          },
          "colorscale": {
           "diverging": [
            [
             0,
             "#8e0152"
            ],
            [
             0.1,
             "#c51b7d"
            ],
            [
             0.2,
             "#de77ae"
            ],
            [
             0.3,
             "#f1b6da"
            ],
            [
             0.4,
             "#fde0ef"
            ],
            [
             0.5,
             "#f7f7f7"
            ],
            [
             0.6,
             "#e6f5d0"
            ],
            [
             0.7,
             "#b8e186"
            ],
            [
             0.8,
             "#7fbc41"
            ],
            [
             0.9,
             "#4d9221"
            ],
            [
             1,
             "#276419"
            ]
           ],
           "sequential": [
            [
             0,
             "#0d0887"
            ],
            [
             0.1111111111111111,
             "#46039f"
            ],
            [
             0.2222222222222222,
             "#7201a8"
            ],
            [
             0.3333333333333333,
             "#9c179e"
            ],
            [
             0.4444444444444444,
             "#bd3786"
            ],
            [
             0.5555555555555556,
             "#d8576b"
            ],
            [
             0.6666666666666666,
             "#ed7953"
            ],
            [
             0.7777777777777778,
             "#fb9f3a"
            ],
            [
             0.8888888888888888,
             "#fdca26"
            ],
            [
             1,
             "#f0f921"
            ]
           ],
           "sequentialminus": [
            [
             0,
             "#0d0887"
            ],
            [
             0.1111111111111111,
             "#46039f"
            ],
            [
             0.2222222222222222,
             "#7201a8"
            ],
            [
             0.3333333333333333,
             "#9c179e"
            ],
            [
             0.4444444444444444,
             "#bd3786"
            ],
            [
             0.5555555555555556,
             "#d8576b"
            ],
            [
             0.6666666666666666,
             "#ed7953"
            ],
            [
             0.7777777777777778,
             "#fb9f3a"
            ],
            [
             0.8888888888888888,
             "#fdca26"
            ],
            [
             1,
             "#f0f921"
            ]
           ]
          },
          "colorway": [
           "#636efa",
           "#EF553B",
           "#00cc96",
           "#ab63fa",
           "#FFA15A",
           "#19d3f3",
           "#FF6692",
           "#B6E880",
           "#FF97FF",
           "#FECB52"
          ],
          "font": {
           "color": "#f2f5fa"
          },
          "geo": {
           "bgcolor": "rgb(17,17,17)",
           "lakecolor": "rgb(17,17,17)",
           "landcolor": "rgb(17,17,17)",
           "showlakes": true,
           "showland": true,
           "subunitcolor": "#506784"
          },
          "hoverlabel": {
           "align": "left"
          },
          "hovermode": "closest",
          "mapbox": {
           "style": "dark"
          },
          "paper_bgcolor": "rgb(17,17,17)",
          "plot_bgcolor": "rgb(17,17,17)",
          "polar": {
           "angularaxis": {
            "gridcolor": "#506784",
            "linecolor": "#506784",
            "ticks": ""
           },
           "bgcolor": "rgb(17,17,17)",
           "radialaxis": {
            "gridcolor": "#506784",
            "linecolor": "#506784",
            "ticks": ""
           }
          },
          "scene": {
           "xaxis": {
            "backgroundcolor": "rgb(17,17,17)",
            "gridcolor": "#506784",
            "gridwidth": 2,
            "linecolor": "#506784",
            "showbackground": true,
            "ticks": "",
            "zerolinecolor": "#C8D4E3"
           },
           "yaxis": {
            "backgroundcolor": "rgb(17,17,17)",
            "gridcolor": "#506784",
            "gridwidth": 2,
            "linecolor": "#506784",
            "showbackground": true,
            "ticks": "",
            "zerolinecolor": "#C8D4E3"
           },
           "zaxis": {
            "backgroundcolor": "rgb(17,17,17)",
            "gridcolor": "#506784",
            "gridwidth": 2,
            "linecolor": "#506784",
            "showbackground": true,
            "ticks": "",
            "zerolinecolor": "#C8D4E3"
           }
          },
          "shapedefaults": {
           "line": {
            "color": "#f2f5fa"
           }
          },
          "sliderdefaults": {
           "bgcolor": "#C8D4E3",
           "bordercolor": "rgb(17,17,17)",
           "borderwidth": 1,
           "tickwidth": 0
          },
          "ternary": {
           "aaxis": {
            "gridcolor": "#506784",
            "linecolor": "#506784",
            "ticks": ""
           },
           "baxis": {
            "gridcolor": "#506784",
            "linecolor": "#506784",
            "ticks": ""
           },
           "bgcolor": "rgb(17,17,17)",
           "caxis": {
            "gridcolor": "#506784",
            "linecolor": "#506784",
            "ticks": ""
           }
          },
          "title": {
           "x": 0.05
          },
          "updatemenudefaults": {
           "bgcolor": "#506784",
           "borderwidth": 0
          },
          "xaxis": {
           "automargin": true,
           "gridcolor": "#283442",
           "linecolor": "#506784",
           "ticks": "",
           "title": {
            "standoff": 15
           },
           "zerolinecolor": "#283442",
           "zerolinewidth": 2
          },
          "yaxis": {
           "automargin": true,
           "gridcolor": "#283442",
           "linecolor": "#506784",
           "ticks": "",
           "title": {
            "standoff": 15
           },
           "zerolinecolor": "#283442",
           "zerolinewidth": 2
          }
         }
        },
        "title": {
         "text": "Correlation Heatmap"
        }
       }
      }
     },
     "metadata": {},
     "output_type": "display_data"
    }
   ],
   "source": [
    "corr = adm_data.corr().round(2)\n",
    "\n",
    "fig = go.Figure(data=go.Heatmap(\n",
    "    z=corr.values,\n",
    "    x=corr.columns,\n",
    "    y=corr.columns,\n",
    "    colorscale='Cividis',\n",
    "    text=corr.values,\n",
    "    texttemplate=\"%{text}\"\n",
    "))\n",
    "fig.update_layout(title='Correlation Heatmap',template='plotly_dark')\n",
    "fig.show(renderer='vscode')"
   ]
  },
  {
   "cell_type": "code",
   "execution_count": 28,
   "id": "ce429bae",
   "metadata": {},
   "outputs": [
    {
     "data": {
      "application/vnd.plotly.v1+json": {
       "config": {
        "plotlyServerURL": "https://plot.ly"
       },
       "data": [
        {
         "hovertemplate": "GRE=%{x}<br>CGPA=%{y}<br>TOEFL=%{z}<br>Chance_of_Admit=%{marker.color}<extra></extra>",
         "legendgroup": "",
         "marker": {
          "color": {
           "bdata": "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",
           "dtype": "f8"
          },
          "coloraxis": "coloraxis",
          "symbol": "circle"
         },
         "mode": "markers",
         "name": "",
         "scene": "scene",
         "showlegend": false,
         "type": "scatter3d",
         "x": {
          "bdata": "UQFEATwBQgE6AUoBQQE0AS4BQwFFAUcBSAEzATcBOgE9AT8BPgEvATgBRQFIAU4BUAFUAUIBKgEnATYBLAFHAVIBVAFLAUABKwEsATABMwE0ATwBOQFMAUYBQgFJAVMBQQFHATkBOAFOAUQBQgFAATwBKgEsATcBNQEzATABOwFFAUUBRwE8AT4BSAFMAVABQQE6AToBSQFHAS0BKAEmATgBVAFAAUIBVAE/ATsBPQE6ATwBPgErASoBLQEvATABMgFLAUwBQwFCATgBOgE9AUYBPAFJAVIBSwEwATEBQQEtAUABNwE2ASsBIgEoAUcBTwFOATYBNAEtASwBQwE/AUYBTQFTAS8BNQFDAU0BOgE4ATwBRgE+AUkBTAFLAVQBRQFAATsBRgFTATcBTgFMAUEBRAFGATgBOwE1ATIBKQE7ASoBPgE9AUkBQgEuATkBJQE3ATgBTgFCAUMBQQFAAUkBPwE1ATMBLAExASsBOgE8AUcBPQFPAUsBRAFEAUMBQgFQATwBMwEyATYBNwE5AT0BOwFUAU4BKgEnATsBNgExAS0BRQFIAVIBTQFLAUoBQgFBAUQBOAE5ATwBRAE0ATEBKAEyATgBPgFEATkBPwE4ATABSgFGAUUBSQE2ASsBKAE9AUQBRQE6AUgBPAE3AUQBQQFAATwBPgFPAUEBMwE1AUQBRgFLAUcBOAE0AUQBRQE5ATgBOgFHATQBMgErASYBOAE7AUIBSQFAATQBMAE3AT0BOAFBAVQBSwFQAUQBOgE5ATMBLAEuATgBPAE9ATYBQAFKATEBNQE/AUIBQwE5AUEBQwFFATgBNAFAAUgBNwEtATEBNAEqASwBRAFHAT0BQwE6ATEBOwFGASsBJwFEASkBRwE3ATQBPwE4AUUBPwFMAUMBRAE4AUYBNAExAScBPAEwASsBLgE5AT4BRQEvASwBKQE9AUcBLQE6AUEBQgFOAVIBMgE5AUoBQAE3ASoBLQE2AUQBUAFBATsBMAEpASIBLwE3AUIBPwFEASwBVAFPAS4BMwEoAUABOgE+AUYBPQFJAUQBRQFKATgBTQEwATsBRAFKATcBLgFCASoBKQEsAS0BOQE6AT0BQQFHATsBPAE1ATQBKwFBAUIBTgFFAUMBOAE2ATwBVAE3AUABRAE8ATIBNQE2AT0BPgE4ATEBTAFLAUEBRAFIAUcBQAE4ATsBQAFEAUgBPwE2ATEBKwEnATgBSQE/AS0BMwEwASoBMQE6AT4BQwFGAUABNwFHATwBNAEsATABNQE+AUUBQQFDAUgBMAE9ATcBPwFHAUIBLgEzASkBKgEsAS0BTAFRAUoBOAFHAQ==",
          "dtype": "i2"
         },
         "y": {
          "bdata": "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",
          "dtype": "f8"
         },
         "z": {
          "bdata": "dmtobmdzbWVmbGpvcG1oaWtqbmZrcnR3d3htYl1jYWd2cnBuamlpbG5pa3VxbnJ3bm9iZHRwbmdmY2NoZGVpa29wcmttc3Zwb2xqcnBjX11peG5zc2dqa2xtamFiYWNkZHh3cWtpamhwbm91dGdsbWtuaWpmaGNodXdqbGpkcXBwdnJpaXBxbWdkdG1udnN4cHFpcnRqcnRwaWxtaWhqZGdjbWlvbmZmYWNldW5xb293bmxmaGtkbmpxa3ZzcG9ucnZta2lqaGtnbnh4aWNjZmpobG54d3V0cG1uaGducW1pY25ucG9oamtkcW9wcmhkZWdzcmtuaWhub2hjZHNybmNkZndsaGdvbmZpa3FsaWBfY2RucWVnZmZuam9wdHZyaG1pZmNiZWRreHJwamxpa2ptbnBsbmhsa2RpaGVjb3FqaGtmaHRkZXBgcWlqbGtvbnZsa2tuamdgYmFeY2VrbmRmYmptaGlrbnRzZ2ZyaGJcYmdud21pZWBkYmNoaW5kcXVlaWFsZmpwaG9ua3RndWRpbXRlY2dkZWJgXmZlbmpoZ29mZHBwd3JvamVnc2hwcG9naW5qbmlocHRycXR2bG1lcHF0Z2lmZGNkcWlmaWthYGNlbnJuZ3RmaWVoaWduZmtxZ2plZnNwbmljZV9jbHV4Z3E=",
          "dtype": "i1"
         }
        }
       ],
       "layout": {
        "coloraxis": {
         "colorbar": {
          "title": {
           "text": "Chance_of_Admit"
          }
         },
         "colorscale": [
          [
           0,
           "#0d0887"
          ],
          [
           0.1111111111111111,
           "#46039f"
          ],
          [
           0.2222222222222222,
           "#7201a8"
          ],
          [
           0.3333333333333333,
           "#9c179e"
          ],
          [
           0.4444444444444444,
           "#bd3786"
          ],
          [
           0.5555555555555556,
           "#d8576b"
          ],
          [
           0.6666666666666666,
           "#ed7953"
          ],
          [
           0.7777777777777778,
           "#fb9f3a"
          ],
          [
           0.8888888888888888,
           "#fdca26"
          ],
          [
           1,
           "#f0f921"
          ]
         ]
        },
        "legend": {
         "tracegroupgap": 0
        },
        "scene": {
         "domain": {
          "x": [
           0,
           1
          ],
          "y": [
           0,
           1
          ]
         },
         "xaxis": {
          "title": {
           "text": "GRE"
          }
         },
         "yaxis": {
          "title": {
           "text": "CGPA"
          }
         },
         "zaxis": {
          "title": {
           "text": "TOEFL"
          }
         }
        },
        "template": {
         "data": {
          "bar": [
           {
            "error_x": {
             "color": "#2a3f5f"
            },
            "error_y": {
             "color": "#2a3f5f"
            },
            "marker": {
             "line": {
              "color": "#E5ECF6",
              "width": 0.5
             },
             "pattern": {
              "fillmode": "overlay",
              "size": 10,
              "solidity": 0.2
             }
            },
            "type": "bar"
           }
          ],
          "barpolar": [
           {
            "marker": {
             "line": {
              "color": "#E5ECF6",
              "width": 0.5
             },
             "pattern": {
              "fillmode": "overlay",
              "size": 10,
              "solidity": 0.2
             }
            },
            "type": "barpolar"
           }
          ],
          "carpet": [
           {
            "aaxis": {
             "endlinecolor": "#2a3f5f",
             "gridcolor": "white",
             "linecolor": "white",
             "minorgridcolor": "white",
             "startlinecolor": "#2a3f5f"
            },
            "baxis": {
             "endlinecolor": "#2a3f5f",
             "gridcolor": "white",
             "linecolor": "white",
             "minorgridcolor": "white",
             "startlinecolor": "#2a3f5f"
            },
            "type": "carpet"
           }
          ],
          "choropleth": [
           {
            "colorbar": {
             "outlinewidth": 0,
             "ticks": ""
            },
            "type": "choropleth"
           }
          ],
          "contour": [
           {
            "colorbar": {
             "outlinewidth": 0,
             "ticks": ""
            },
            "colorscale": [
             [
              0,
              "#0d0887"
             ],
             [
              0.1111111111111111,
              "#46039f"
             ],
             [
              0.2222222222222222,
              "#7201a8"
             ],
             [
              0.3333333333333333,
              "#9c179e"
             ],
             [
              0.4444444444444444,
              "#bd3786"
             ],
             [
              0.5555555555555556,
              "#d8576b"
             ],
             [
              0.6666666666666666,
              "#ed7953"
             ],
             [
              0.7777777777777778,
              "#fb9f3a"
             ],
             [
              0.8888888888888888,
              "#fdca26"
             ],
             [
              1,
              "#f0f921"
             ]
            ],
            "type": "contour"
           }
          ],
          "contourcarpet": [
           {
            "colorbar": {
             "outlinewidth": 0,
             "ticks": ""
            },
            "type": "contourcarpet"
           }
          ],
          "heatmap": [
           {
            "colorbar": {
             "outlinewidth": 0,
             "ticks": ""
            },
            "colorscale": [
             [
              0,
              "#0d0887"
             ],
             [
              0.1111111111111111,
              "#46039f"
             ],
             [
              0.2222222222222222,
              "#7201a8"
             ],
             [
              0.3333333333333333,
              "#9c179e"
             ],
             [
              0.4444444444444444,
              "#bd3786"
             ],
             [
              0.5555555555555556,
              "#d8576b"
             ],
             [
              0.6666666666666666,
              "#ed7953"
             ],
             [
              0.7777777777777778,
              "#fb9f3a"
             ],
             [
              0.8888888888888888,
              "#fdca26"
             ],
             [
              1,
              "#f0f921"
             ]
            ],
            "type": "heatmap"
           }
          ],
          "histogram": [
           {
            "marker": {
             "pattern": {
              "fillmode": "overlay",
              "size": 10,
              "solidity": 0.2
             }
            },
            "type": "histogram"
           }
          ],
          "histogram2d": [
           {
            "colorbar": {
             "outlinewidth": 0,
             "ticks": ""
            },
            "colorscale": [
             [
              0,
              "#0d0887"
             ],
             [
              0.1111111111111111,
              "#46039f"
             ],
             [
              0.2222222222222222,
              "#7201a8"
             ],
             [
              0.3333333333333333,
              "#9c179e"
             ],
             [
              0.4444444444444444,
              "#bd3786"
             ],
             [
              0.5555555555555556,
              "#d8576b"
             ],
             [
              0.6666666666666666,
              "#ed7953"
             ],
             [
              0.7777777777777778,
              "#fb9f3a"
             ],
             [
              0.8888888888888888,
              "#fdca26"
             ],
             [
              1,
              "#f0f921"
             ]
            ],
            "type": "histogram2d"
           }
          ],
          "histogram2dcontour": [
           {
            "colorbar": {
             "outlinewidth": 0,
             "ticks": ""
            },
            "colorscale": [
             [
              0,
              "#0d0887"
             ],
             [
              0.1111111111111111,
              "#46039f"
             ],
             [
              0.2222222222222222,
              "#7201a8"
             ],
             [
              0.3333333333333333,
              "#9c179e"
             ],
             [
              0.4444444444444444,
              "#bd3786"
             ],
             [
              0.5555555555555556,
              "#d8576b"
             ],
             [
              0.6666666666666666,
              "#ed7953"
             ],
             [
              0.7777777777777778,
              "#fb9f3a"
             ],
             [
              0.8888888888888888,
              "#fdca26"
             ],
             [
              1,
              "#f0f921"
             ]
            ],
            "type": "histogram2dcontour"
           }
          ],
          "mesh3d": [
           {
            "colorbar": {
             "outlinewidth": 0,
             "ticks": ""
            },
            "type": "mesh3d"
           }
          ],
          "parcoords": [
           {
            "line": {
             "colorbar": {
              "outlinewidth": 0,
              "ticks": ""
             }
            },
            "type": "parcoords"
           }
          ],
          "pie": [
           {
            "automargin": true,
            "type": "pie"
           }
          ],
          "scatter": [
           {
            "fillpattern": {
             "fillmode": "overlay",
             "size": 10,
             "solidity": 0.2
            },
            "type": "scatter"
           }
          ],
          "scatter3d": [
           {
            "line": {
             "colorbar": {
              "outlinewidth": 0,
              "ticks": ""
             }
            },
            "marker": {
             "colorbar": {
              "outlinewidth": 0,
              "ticks": ""
             }
            },
            "type": "scatter3d"
           }
          ],
          "scattercarpet": [
           {
            "marker": {
             "colorbar": {
              "outlinewidth": 0,
              "ticks": ""
             }
            },
            "type": "scattercarpet"
           }
          ],
          "scattergeo": [
           {
            "marker": {
             "colorbar": {
              "outlinewidth": 0,
              "ticks": ""
             }
            },
            "type": "scattergeo"
           }
          ],
          "scattergl": [
           {
            "marker": {
             "colorbar": {
              "outlinewidth": 0,
              "ticks": ""
             }
            },
            "type": "scattergl"
           }
          ],
          "scattermap": [
           {
            "marker": {
             "colorbar": {
              "outlinewidth": 0,
              "ticks": ""
             }
            },
            "type": "scattermap"
           }
          ],
          "scattermapbox": [
           {
            "marker": {
             "colorbar": {
              "outlinewidth": 0,
              "ticks": ""
             }
            },
            "type": "scattermapbox"
           }
          ],
          "scatterpolar": [
           {
            "marker": {
             "colorbar": {
              "outlinewidth": 0,
              "ticks": ""
             }
            },
            "type": "scatterpolar"
           }
          ],
          "scatterpolargl": [
           {
            "marker": {
             "colorbar": {
              "outlinewidth": 0,
              "ticks": ""
             }
            },
            "type": "scatterpolargl"
           }
          ],
          "scatterternary": [
           {
            "marker": {
             "colorbar": {
              "outlinewidth": 0,
              "ticks": ""
             }
            },
            "type": "scatterternary"
           }
          ],
          "surface": [
           {
            "colorbar": {
             "outlinewidth": 0,
             "ticks": ""
            },
            "colorscale": [
             [
              0,
              "#0d0887"
             ],
             [
              0.1111111111111111,
              "#46039f"
             ],
             [
              0.2222222222222222,
              "#7201a8"
             ],
             [
              0.3333333333333333,
              "#9c179e"
             ],
             [
              0.4444444444444444,
              "#bd3786"
             ],
             [
              0.5555555555555556,
              "#d8576b"
             ],
             [
              0.6666666666666666,
              "#ed7953"
             ],
             [
              0.7777777777777778,
              "#fb9f3a"
             ],
             [
              0.8888888888888888,
              "#fdca26"
             ],
             [
              1,
              "#f0f921"
             ]
            ],
            "type": "surface"
           }
          ],
          "table": [
           {
            "cells": {
             "fill": {
              "color": "#EBF0F8"
             },
             "line": {
              "color": "white"
             }
            },
            "header": {
             "fill": {
              "color": "#C8D4E3"
             },
             "line": {
              "color": "white"
             }
            },
            "type": "table"
           }
          ]
         },
         "layout": {
          "annotationdefaults": {
           "arrowcolor": "#2a3f5f",
           "arrowhead": 0,
           "arrowwidth": 1
          },
          "autotypenumbers": "strict",
          "coloraxis": {
           "colorbar": {
            "outlinewidth": 0,
            "ticks": ""
           }
          },
          "colorscale": {
           "diverging": [
            [
             0,
             "#8e0152"
            ],
            [
             0.1,
             "#c51b7d"
            ],
            [
             0.2,
             "#de77ae"
            ],
            [
             0.3,
             "#f1b6da"
            ],
            [
             0.4,
             "#fde0ef"
            ],
            [
             0.5,
             "#f7f7f7"
            ],
            [
             0.6,
             "#e6f5d0"
            ],
            [
             0.7,
             "#b8e186"
            ],
            [
             0.8,
             "#7fbc41"
            ],
            [
             0.9,
             "#4d9221"
            ],
            [
             1,
             "#276419"
            ]
           ],
           "sequential": [
            [
             0,
             "#0d0887"
            ],
            [
             0.1111111111111111,
             "#46039f"
            ],
            [
             0.2222222222222222,
             "#7201a8"
            ],
            [
             0.3333333333333333,
             "#9c179e"
            ],
            [
             0.4444444444444444,
             "#bd3786"
            ],
            [
             0.5555555555555556,
             "#d8576b"
            ],
            [
             0.6666666666666666,
             "#ed7953"
            ],
            [
             0.7777777777777778,
             "#fb9f3a"
            ],
            [
             0.8888888888888888,
             "#fdca26"
            ],
            [
             1,
             "#f0f921"
            ]
           ],
           "sequentialminus": [
            [
             0,
             "#0d0887"
            ],
            [
             0.1111111111111111,
             "#46039f"
            ],
            [
             0.2222222222222222,
             "#7201a8"
            ],
            [
             0.3333333333333333,
             "#9c179e"
            ],
            [
             0.4444444444444444,
             "#bd3786"
            ],
            [
             0.5555555555555556,
             "#d8576b"
            ],
            [
             0.6666666666666666,
             "#ed7953"
            ],
            [
             0.7777777777777778,
             "#fb9f3a"
            ],
            [
             0.8888888888888888,
             "#fdca26"
            ],
            [
             1,
             "#f0f921"
            ]
           ]
          },
          "colorway": [
           "#636efa",
           "#EF553B",
           "#00cc96",
           "#ab63fa",
           "#FFA15A",
           "#19d3f3",
           "#FF6692",
           "#B6E880",
           "#FF97FF",
           "#FECB52"
          ],
          "font": {
           "color": "#2a3f5f"
          },
          "geo": {
           "bgcolor": "white",
           "lakecolor": "white",
           "landcolor": "#E5ECF6",
           "showlakes": true,
           "showland": true,
           "subunitcolor": "white"
          },
          "hoverlabel": {
           "align": "left"
          },
          "hovermode": "closest",
          "mapbox": {
           "style": "light"
          },
          "paper_bgcolor": "white",
          "plot_bgcolor": "#E5ECF6",
          "polar": {
           "angularaxis": {
            "gridcolor": "white",
            "linecolor": "white",
            "ticks": ""
           },
           "bgcolor": "#E5ECF6",
           "radialaxis": {
            "gridcolor": "white",
            "linecolor": "white",
            "ticks": ""
           }
          },
          "scene": {
           "xaxis": {
            "backgroundcolor": "#E5ECF6",
            "gridcolor": "white",
            "gridwidth": 2,
            "linecolor": "white",
            "showbackground": true,
            "ticks": "",
            "zerolinecolor": "white"
           },
           "yaxis": {
            "backgroundcolor": "#E5ECF6",
            "gridcolor": "white",
            "gridwidth": 2,
            "linecolor": "white",
            "showbackground": true,
            "ticks": "",
            "zerolinecolor": "white"
           },
           "zaxis": {
            "backgroundcolor": "#E5ECF6",
            "gridcolor": "white",
            "gridwidth": 2,
            "linecolor": "white",
            "showbackground": true,
            "ticks": "",
            "zerolinecolor": "white"
           }
          },
          "shapedefaults": {
           "line": {
            "color": "#2a3f5f"
           }
          },
          "ternary": {
           "aaxis": {
            "gridcolor": "white",
            "linecolor": "white",
            "ticks": ""
           },
           "baxis": {
            "gridcolor": "white",
            "linecolor": "white",
            "ticks": ""
           },
           "bgcolor": "#E5ECF6",
           "caxis": {
            "gridcolor": "white",
            "linecolor": "white",
            "ticks": ""
           }
          },
          "title": {
           "x": 0.05
          },
          "xaxis": {
           "automargin": true,
           "gridcolor": "white",
           "linecolor": "white",
           "ticks": "",
           "title": {
            "standoff": 15
           },
           "zerolinecolor": "white",
           "zerolinewidth": 2
          },
          "yaxis": {
           "automargin": true,
           "gridcolor": "white",
           "linecolor": "white",
           "ticks": "",
           "title": {
            "standoff": 15
           },
           "zerolinecolor": "white",
           "zerolinewidth": 2
          }
         }
        },
        "title": {
         "text": "3D Scatter: GRE, CGPA, TOEFL vs Chance of Admit"
        }
       }
      }
     },
     "metadata": {},
     "output_type": "display_data"
    }
   ],
   "source": [
    "fig = px.scatter_3d(adm_data, x='GRE', y='CGPA', z='TOEFL',\n",
    "                    color='Chance_of_Admit',\n",
    "                    title=\"3D Scatter: GRE, CGPA, TOEFL vs Chance of Admit\")\n",
    "fig.show(renderer='vscode')"
   ]
  },
  {
   "cell_type": "code",
   "execution_count": 29,
   "id": "ecaafd5d",
   "metadata": {},
   "outputs": [
    {
     "data": {
      "application/vnd.plotly.v1+json": {
       "config": {
        "plotlyServerURL": "https://plot.ly"
       },
       "data": [
        {
         "hovertemplate": "SOP=%{x}<br>Chance_of_Admit=%{y}<br>LOR=%{marker.color}<extra></extra>",
         "legendgroup": "",
         "marker": {
          "color": {
           "bdata": "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",
           "dtype": "f8"
          },
          "coloraxis": "coloraxis",
          "size": {
           "bdata": "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",
           "dtype": "f8"
          },
          "sizemode": "area",
          "sizeref": 0.0125,
          "symbol": "circle"
         },
         "mode": "markers",
         "name": "",
         "orientation": "v",
         "showlegend": false,
         "type": "scatter",
         "x": {
          "bdata": "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",
          "dtype": "f8"
         },
         "xaxis": "x",
         "y": {
          "bdata": "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",
          "dtype": "f8"
         },
         "yaxis": "y"
        }
       ],
       "layout": {
        "coloraxis": {
         "colorbar": {
          "title": {
           "text": "LOR"
          }
         },
         "colorscale": [
          [
           0,
           "#0d0887"
          ],
          [
           0.1111111111111111,
           "#46039f"
          ],
          [
           0.2222222222222222,
           "#7201a8"
          ],
          [
           0.3333333333333333,
           "#9c179e"
          ],
          [
           0.4444444444444444,
           "#bd3786"
          ],
          [
           0.5555555555555556,
           "#d8576b"
          ],
          [
           0.6666666666666666,
           "#ed7953"
          ],
          [
           0.7777777777777778,
           "#fb9f3a"
          ],
          [
           0.8888888888888888,
           "#fdca26"
          ],
          [
           1,
           "#f0f921"
          ]
         ]
        },
        "legend": {
         "itemsizing": "constant",
         "tracegroupgap": 0
        },
        "template": {
         "data": {
          "bar": [
           {
            "error_x": {
             "color": "#2a3f5f"
            },
            "error_y": {
             "color": "#2a3f5f"
            },
            "marker": {
             "line": {
              "color": "#E5ECF6",
              "width": 0.5
             },
             "pattern": {
              "fillmode": "overlay",
              "size": 10,
              "solidity": 0.2
             }
            },
            "type": "bar"
           }
          ],
          "barpolar": [
           {
            "marker": {
             "line": {
              "color": "#E5ECF6",
              "width": 0.5
             },
             "pattern": {
              "fillmode": "overlay",
              "size": 10,
              "solidity": 0.2
             }
            },
            "type": "barpolar"
           }
          ],
          "carpet": [
           {
            "aaxis": {
             "endlinecolor": "#2a3f5f",
             "gridcolor": "white",
             "linecolor": "white",
             "minorgridcolor": "white",
             "startlinecolor": "#2a3f5f"
            },
            "baxis": {
             "endlinecolor": "#2a3f5f",
             "gridcolor": "white",
             "linecolor": "white",
             "minorgridcolor": "white",
             "startlinecolor": "#2a3f5f"
            },
            "type": "carpet"
           }
          ],
          "choropleth": [
           {
            "colorbar": {
             "outlinewidth": 0,
             "ticks": ""
            },
            "type": "choropleth"
           }
          ],
          "contour": [
           {
            "colorbar": {
             "outlinewidth": 0,
             "ticks": ""
            },
            "colorscale": [
             [
              0,
              "#0d0887"
             ],
             [
              0.1111111111111111,
              "#46039f"
             ],
             [
              0.2222222222222222,
              "#7201a8"
             ],
             [
              0.3333333333333333,
              "#9c179e"
             ],
             [
              0.4444444444444444,
              "#bd3786"
             ],
             [
              0.5555555555555556,
              "#d8576b"
             ],
             [
              0.6666666666666666,
              "#ed7953"
             ],
             [
              0.7777777777777778,
              "#fb9f3a"
             ],
             [
              0.8888888888888888,
              "#fdca26"
             ],
             [
              1,
              "#f0f921"
             ]
            ],
            "type": "contour"
           }
          ],
          "contourcarpet": [
           {
            "colorbar": {
             "outlinewidth": 0,
             "ticks": ""
            },
            "type": "contourcarpet"
           }
          ],
          "heatmap": [
           {
            "colorbar": {
             "outlinewidth": 0,
             "ticks": ""
            },
            "colorscale": [
             [
              0,
              "#0d0887"
             ],
             [
              0.1111111111111111,
              "#46039f"
             ],
             [
              0.2222222222222222,
              "#7201a8"
             ],
             [
              0.3333333333333333,
              "#9c179e"
             ],
             [
              0.4444444444444444,
              "#bd3786"
             ],
             [
              0.5555555555555556,
              "#d8576b"
             ],
             [
              0.6666666666666666,
              "#ed7953"
             ],
             [
              0.7777777777777778,
              "#fb9f3a"
             ],
             [
              0.8888888888888888,
              "#fdca26"
             ],
             [
              1,
              "#f0f921"
             ]
            ],
            "type": "heatmap"
           }
          ],
          "histogram": [
           {
            "marker": {
             "pattern": {
              "fillmode": "overlay",
              "size": 10,
              "solidity": 0.2
             }
            },
            "type": "histogram"
           }
          ],
          "histogram2d": [
           {
            "colorbar": {
             "outlinewidth": 0,
             "ticks": ""
            },
            "colorscale": [
             [
              0,
              "#0d0887"
             ],
             [
              0.1111111111111111,
              "#46039f"
             ],
             [
              0.2222222222222222,
              "#7201a8"
             ],
             [
              0.3333333333333333,
              "#9c179e"
             ],
             [
              0.4444444444444444,
              "#bd3786"
             ],
             [
              0.5555555555555556,
              "#d8576b"
             ],
             [
              0.6666666666666666,
              "#ed7953"
             ],
             [
              0.7777777777777778,
              "#fb9f3a"
             ],
             [
              0.8888888888888888,
              "#fdca26"
             ],
             [
              1,
              "#f0f921"
             ]
            ],
            "type": "histogram2d"
           }
          ],
          "histogram2dcontour": [
           {
            "colorbar": {
             "outlinewidth": 0,
             "ticks": ""
            },
            "colorscale": [
             [
              0,
              "#0d0887"
             ],
             [
              0.1111111111111111,
              "#46039f"
             ],
             [
              0.2222222222222222,
              "#7201a8"
             ],
             [
              0.3333333333333333,
              "#9c179e"
             ],
             [
              0.4444444444444444,
              "#bd3786"
             ],
             [
              0.5555555555555556,
              "#d8576b"
             ],
             [
              0.6666666666666666,
              "#ed7953"
             ],
             [
              0.7777777777777778,
              "#fb9f3a"
             ],
             [
              0.8888888888888888,
              "#fdca26"
             ],
             [
              1,
              "#f0f921"
             ]
            ],
            "type": "histogram2dcontour"
           }
          ],
          "mesh3d": [
           {
            "colorbar": {
             "outlinewidth": 0,
             "ticks": ""
            },
            "type": "mesh3d"
           }
          ],
          "parcoords": [
           {
            "line": {
             "colorbar": {
              "outlinewidth": 0,
              "ticks": ""
             }
            },
            "type": "parcoords"
           }
          ],
          "pie": [
           {
            "automargin": true,
            "type": "pie"
           }
          ],
          "scatter": [
           {
            "fillpattern": {
             "fillmode": "overlay",
             "size": 10,
             "solidity": 0.2
            },
            "type": "scatter"
           }
          ],
          "scatter3d": [
           {
            "line": {
             "colorbar": {
              "outlinewidth": 0,
              "ticks": ""
             }
            },
            "marker": {
             "colorbar": {
              "outlinewidth": 0,
              "ticks": ""
             }
            },
            "type": "scatter3d"
           }
          ],
          "scattercarpet": [
           {
            "marker": {
             "colorbar": {
              "outlinewidth": 0,
              "ticks": ""
             }
            },
            "type": "scattercarpet"
           }
          ],
          "scattergeo": [
           {
            "marker": {
             "colorbar": {
              "outlinewidth": 0,
              "ticks": ""
             }
            },
            "type": "scattergeo"
           }
          ],
          "scattergl": [
           {
            "marker": {
             "colorbar": {
              "outlinewidth": 0,
              "ticks": ""
             }
            },
            "type": "scattergl"
           }
          ],
          "scattermap": [
           {
            "marker": {
             "colorbar": {
              "outlinewidth": 0,
              "ticks": ""
             }
            },
            "type": "scattermap"
           }
          ],
          "scattermapbox": [
           {
            "marker": {
             "colorbar": {
              "outlinewidth": 0,
              "ticks": ""
             }
            },
            "type": "scattermapbox"
           }
          ],
          "scatterpolar": [
           {
            "marker": {
             "colorbar": {
              "outlinewidth": 0,
              "ticks": ""
             }
            },
            "type": "scatterpolar"
           }
          ],
          "scatterpolargl": [
           {
            "marker": {
             "colorbar": {
              "outlinewidth": 0,
              "ticks": ""
             }
            },
            "type": "scatterpolargl"
           }
          ],
          "scatterternary": [
           {
            "marker": {
             "colorbar": {
              "outlinewidth": 0,
              "ticks": ""
             }
            },
            "type": "scatterternary"
           }
          ],
          "surface": [
           {
            "colorbar": {
             "outlinewidth": 0,
             "ticks": ""
            },
            "colorscale": [
             [
              0,
              "#0d0887"
             ],
             [
              0.1111111111111111,
              "#46039f"
             ],
             [
              0.2222222222222222,
              "#7201a8"
             ],
             [
              0.3333333333333333,
              "#9c179e"
             ],
             [
              0.4444444444444444,
              "#bd3786"
             ],
             [
              0.5555555555555556,
              "#d8576b"
             ],
             [
              0.6666666666666666,
              "#ed7953"
             ],
             [
              0.7777777777777778,
              "#fb9f3a"
             ],
             [
              0.8888888888888888,
              "#fdca26"
             ],
             [
              1,
              "#f0f921"
             ]
            ],
            "type": "surface"
           }
          ],
          "table": [
           {
            "cells": {
             "fill": {
              "color": "#EBF0F8"
             },
             "line": {
              "color": "white"
             }
            },
            "header": {
             "fill": {
              "color": "#C8D4E3"
             },
             "line": {
              "color": "white"
             }
            },
            "type": "table"
           }
          ]
         },
         "layout": {
          "annotationdefaults": {
           "arrowcolor": "#2a3f5f",
           "arrowhead": 0,
           "arrowwidth": 1
          },
          "autotypenumbers": "strict",
          "coloraxis": {
           "colorbar": {
            "outlinewidth": 0,
            "ticks": ""
           }
          },
          "colorscale": {
           "diverging": [
            [
             0,
             "#8e0152"
            ],
            [
             0.1,
             "#c51b7d"
            ],
            [
             0.2,
             "#de77ae"
            ],
            [
             0.3,
             "#f1b6da"
            ],
            [
             0.4,
             "#fde0ef"
            ],
            [
             0.5,
             "#f7f7f7"
            ],
            [
             0.6,
             "#e6f5d0"
            ],
            [
             0.7,
             "#b8e186"
            ],
            [
             0.8,
             "#7fbc41"
            ],
            [
             0.9,
             "#4d9221"
            ],
            [
             1,
             "#276419"
            ]
           ],
           "sequential": [
            [
             0,
             "#0d0887"
            ],
            [
             0.1111111111111111,
             "#46039f"
            ],
            [
             0.2222222222222222,
             "#7201a8"
            ],
            [
             0.3333333333333333,
             "#9c179e"
            ],
            [
             0.4444444444444444,
             "#bd3786"
            ],
            [
             0.5555555555555556,
             "#d8576b"
            ],
            [
             0.6666666666666666,
             "#ed7953"
            ],
            [
             0.7777777777777778,
             "#fb9f3a"
            ],
            [
             0.8888888888888888,
             "#fdca26"
            ],
            [
             1,
             "#f0f921"
            ]
           ],
           "sequentialminus": [
            [
             0,
             "#0d0887"
            ],
            [
             0.1111111111111111,
             "#46039f"
            ],
            [
             0.2222222222222222,
             "#7201a8"
            ],
            [
             0.3333333333333333,
             "#9c179e"
            ],
            [
             0.4444444444444444,
             "#bd3786"
            ],
            [
             0.5555555555555556,
             "#d8576b"
            ],
            [
             0.6666666666666666,
             "#ed7953"
            ],
            [
             0.7777777777777778,
             "#fb9f3a"
            ],
            [
             0.8888888888888888,
             "#fdca26"
            ],
            [
             1,
             "#f0f921"
            ]
           ]
          },
          "colorway": [
           "#636efa",
           "#EF553B",
           "#00cc96",
           "#ab63fa",
           "#FFA15A",
           "#19d3f3",
           "#FF6692",
           "#B6E880",
           "#FF97FF",
           "#FECB52"
          ],
          "font": {
           "color": "#2a3f5f"
          },
          "geo": {
           "bgcolor": "white",
           "lakecolor": "white",
           "landcolor": "#E5ECF6",
           "showlakes": true,
           "showland": true,
           "subunitcolor": "white"
          },
          "hoverlabel": {
           "align": "left"
          },
          "hovermode": "closest",
          "mapbox": {
           "style": "light"
          },
          "paper_bgcolor": "white",
          "plot_bgcolor": "#E5ECF6",
          "polar": {
           "angularaxis": {
            "gridcolor": "white",
            "linecolor": "white",
            "ticks": ""
           },
           "bgcolor": "#E5ECF6",
           "radialaxis": {
            "gridcolor": "white",
            "linecolor": "white",
            "ticks": ""
           }
          },
          "scene": {
           "xaxis": {
            "backgroundcolor": "#E5ECF6",
            "gridcolor": "white",
            "gridwidth": 2,
            "linecolor": "white",
            "showbackground": true,
            "ticks": "",
            "zerolinecolor": "white"
           },
           "yaxis": {
            "backgroundcolor": "#E5ECF6",
            "gridcolor": "white",
            "gridwidth": 2,
            "linecolor": "white",
            "showbackground": true,
            "ticks": "",
            "zerolinecolor": "white"
           },
           "zaxis": {
            "backgroundcolor": "#E5ECF6",
            "gridcolor": "white",
            "gridwidth": 2,
            "linecolor": "white",
            "showbackground": true,
            "ticks": "",
            "zerolinecolor": "white"
           }
          },
          "shapedefaults": {
           "line": {
            "color": "#2a3f5f"
           }
          },
          "ternary": {
           "aaxis": {
            "gridcolor": "white",
            "linecolor": "white",
            "ticks": ""
           },
           "baxis": {
            "gridcolor": "white",
            "linecolor": "white",
            "ticks": ""
           },
           "bgcolor": "#E5ECF6",
           "caxis": {
            "gridcolor": "white",
            "linecolor": "white",
            "ticks": ""
           }
          },
          "title": {
           "x": 0.05
          },
          "xaxis": {
           "automargin": true,
           "gridcolor": "white",
           "linecolor": "white",
           "ticks": "",
           "title": {
            "standoff": 15
           },
           "zerolinecolor": "white",
           "zerolinewidth": 2
          },
          "yaxis": {
           "automargin": true,
           "gridcolor": "white",
           "linecolor": "white",
           "ticks": "",
           "title": {
            "standoff": 15
           },
           "zerolinecolor": "white",
           "zerolinewidth": 2
          }
         }
        },
        "title": {
         "text": "SOP vs Chance of Admit (Bubble Size = LOR Strength)"
        },
        "xaxis": {
         "anchor": "y",
         "domain": [
          0,
          1
         ],
         "title": {
          "text": "SOP"
         }
        },
        "yaxis": {
         "anchor": "x",
         "domain": [
          0,
          1
         ],
         "title": {
          "text": "Chance_of_Admit"
         }
        }
       }
      }
     },
     "metadata": {},
     "output_type": "display_data"
    }
   ],
   "source": [
    "fig = px.scatter(adm_data, x='SOP', y='Chance_of_Admit', size='LOR', color='LOR',\n",
    "                 title='SOP vs Chance of Admit (Bubble Size = LOR Strength)')\n",
    "fig.show(renderer='vscode')"
   ]
  },
  {
   "cell_type": "code",
   "execution_count": 30,
   "id": "a2904f6d",
   "metadata": {},
   "outputs": [],
   "source": [
    "from sklearn.model_selection import train_test_split\n",
    "from sklearn.preprocessing import StandardScaler\n",
    "from lightgbm import LGBMRegressor\n",
    "from xgboost import XGBRegressor\n",
    "from sklearn.metrics import mean_squared_error, r2_score\n",
    "from catboost import CatBoostRegressor\n",
    "from sklearn.model_selection import cross_val_score\n",
    "from sklearn.svm import SVR\n",
    "from sklearn.ensemble import VotingRegressor\n",
    "from sklearn.neighbors import KNeighborsRegressor\n",
    "\n",
    "\n",
    "from sklearn.linear_model import LinearRegression, Ridge, Lasso, ElasticNet\n",
    "from sklearn.tree import DecisionTreeRegressor\n",
    "from sklearn.ensemble import RandomForestRegressor, GradientBoostingRegressor, AdaBoostRegressor, BaggingRegressor\n",
    "from sklearn.model_selection import GridSearchCV"
   ]
  },
  {
   "cell_type": "code",
   "execution_count": 31,
   "id": "18c820f2",
   "metadata": {},
   "outputs": [],
   "source": [
    "# Define all regression models\n",
    "models = {\n",
    "    'Linear Regression': LinearRegression(),\n",
    "    'Ridge Regression': Ridge(),\n",
    "    'Lasso Regression': Lasso(),\n",
    "    'ElasticNet': ElasticNet(),\n",
    "    'Decision Tree': DecisionTreeRegressor(),\n",
    "    'Random Forest': RandomForestRegressor(),\n",
    "    'Gradient Boosting': GradientBoostingRegressor(),\n",
    "    'AdaBoost': AdaBoostRegressor(),\n",
    "    'Bagging': BaggingRegressor(),\n",
    "    'Support Vector Regressor': SVR(),\n",
    "    'K-Nearest Neighbors': KNeighborsRegressor()\n",
    "}"
   ]
  },
  {
   "cell_type": "code",
   "execution_count": 32,
   "id": "cf23c8bd",
   "metadata": {},
   "outputs": [
    {
     "data": {
      "application/vnd.microsoft.datawrangler.viewer.v0+json": {
       "columns": [
        {
         "name": "index",
         "rawType": "int64",
         "type": "integer"
        },
        {
         "name": "GRE",
         "rawType": "int64",
         "type": "integer"
        },
        {
         "name": "TOEFL",
         "rawType": "int64",
         "type": "integer"
        },
        {
         "name": "University_Rating",
         "rawType": "int64",
         "type": "integer"
        },
        {
         "name": "SOP",
         "rawType": "float64",
         "type": "float"
        },
        {
         "name": "LOR",
         "rawType": "float64",
         "type": "float"
        },
        {
         "name": "CGPA",
         "rawType": "float64",
         "type": "float"
        },
        {
         "name": "Research",
         "rawType": "int64",
         "type": "integer"
        },
        {
         "name": "Chance_of_Admit",
         "rawType": "float64",
         "type": "float"
        }
       ],
       "ref": "106da107-09e3-4f33-b50f-0da57680f47f",
       "rows": [
        [
         "0",
         "337",
         "118",
         "4",
         "4.5",
         "4.5",
         "9.65",
         "1",
         "0.92"
        ],
        [
         "1",
         "324",
         "107",
         "4",
         "4.0",
         "4.5",
         "8.87",
         "1",
         "0.76"
        ],
        [
         "2",
         "316",
         "104",
         "3",
         "3.0",
         "3.5",
         "8.0",
         "1",
         "0.72"
        ],
        [
         "3",
         "322",
         "110",
         "3",
         "3.5",
         "2.5",
         "8.67",
         "1",
         "0.8"
        ],
        [
         "4",
         "314",
         "103",
         "2",
         "2.0",
         "3.0",
         "8.21",
         "0",
         "0.65"
        ]
       ],
       "shape": {
        "columns": 8,
        "rows": 5
       }
      },
      "text/html": [
       "<div>\n",
       "<style scoped>\n",
       "    .dataframe tbody tr th:only-of-type {\n",
       "        vertical-align: middle;\n",
       "    }\n",
       "\n",
       "    .dataframe tbody tr th {\n",
       "        vertical-align: top;\n",
       "    }\n",
       "\n",
       "    .dataframe thead th {\n",
       "        text-align: right;\n",
       "    }\n",
       "</style>\n",
       "<table border=\"1\" class=\"dataframe\">\n",
       "  <thead>\n",
       "    <tr style=\"text-align: right;\">\n",
       "      <th></th>\n",
       "      <th>GRE</th>\n",
       "      <th>TOEFL</th>\n",
       "      <th>University_Rating</th>\n",
       "      <th>SOP</th>\n",
       "      <th>LOR</th>\n",
       "      <th>CGPA</th>\n",
       "      <th>Research</th>\n",
       "      <th>Chance_of_Admit</th>\n",
       "    </tr>\n",
       "  </thead>\n",
       "  <tbody>\n",
       "    <tr>\n",
       "      <th>0</th>\n",
       "      <td>337</td>\n",
       "      <td>118</td>\n",
       "      <td>4</td>\n",
       "      <td>4.5</td>\n",
       "      <td>4.5</td>\n",
       "      <td>9.65</td>\n",
       "      <td>1</td>\n",
       "      <td>0.92</td>\n",
       "    </tr>\n",
       "    <tr>\n",
       "      <th>1</th>\n",
       "      <td>324</td>\n",
       "      <td>107</td>\n",
       "      <td>4</td>\n",
       "      <td>4.0</td>\n",
       "      <td>4.5</td>\n",
       "      <td>8.87</td>\n",
       "      <td>1</td>\n",
       "      <td>0.76</td>\n",
       "    </tr>\n",
       "    <tr>\n",
       "      <th>2</th>\n",
       "      <td>316</td>\n",
       "      <td>104</td>\n",
       "      <td>3</td>\n",
       "      <td>3.0</td>\n",
       "      <td>3.5</td>\n",
       "      <td>8.00</td>\n",
       "      <td>1</td>\n",
       "      <td>0.72</td>\n",
       "    </tr>\n",
       "    <tr>\n",
       "      <th>3</th>\n",
       "      <td>322</td>\n",
       "      <td>110</td>\n",
       "      <td>3</td>\n",
       "      <td>3.5</td>\n",
       "      <td>2.5</td>\n",
       "      <td>8.67</td>\n",
       "      <td>1</td>\n",
       "      <td>0.80</td>\n",
       "    </tr>\n",
       "    <tr>\n",
       "      <th>4</th>\n",
       "      <td>314</td>\n",
       "      <td>103</td>\n",
       "      <td>2</td>\n",
       "      <td>2.0</td>\n",
       "      <td>3.0</td>\n",
       "      <td>8.21</td>\n",
       "      <td>0</td>\n",
       "      <td>0.65</td>\n",
       "    </tr>\n",
       "  </tbody>\n",
       "</table>\n",
       "</div>"
      ],
      "text/plain": [
       "   GRE  TOEFL  University_Rating  SOP  LOR  CGPA  Research  Chance_of_Admit\n",
       "0  337    118                  4  4.5  4.5  9.65         1             0.92\n",
       "1  324    107                  4  4.0  4.5  8.87         1             0.76\n",
       "2  316    104                  3  3.0  3.5  8.00         1             0.72\n",
       "3  322    110                  3  3.5  2.5  8.67         1             0.80\n",
       "4  314    103                  2  2.0  3.0  8.21         0             0.65"
      ]
     },
     "execution_count": 32,
     "metadata": {},
     "output_type": "execute_result"
    }
   ],
   "source": [
    "adm_data.head(5)"
   ]
  },
  {
   "cell_type": "code",
   "execution_count": 33,
   "id": "daff0f6a",
   "metadata": {},
   "outputs": [],
   "source": [
    "x=adm_data.drop(columns=['Chance_of_Admit'])\n",
    "y =adm_data['Chance_of_Admit']"
   ]
  },
  {
   "cell_type": "code",
   "execution_count": 34,
   "id": "61b10646",
   "metadata": {},
   "outputs": [
    {
     "data": {
      "application/vnd.microsoft.datawrangler.viewer.v0+json": {
       "columns": [
        {
         "name": "index",
         "rawType": "int64",
         "type": "integer"
        },
        {
         "name": "GRE",
         "rawType": "int64",
         "type": "integer"
        },
        {
         "name": "TOEFL",
         "rawType": "int64",
         "type": "integer"
        },
        {
         "name": "University_Rating",
         "rawType": "int64",
         "type": "integer"
        },
        {
         "name": "SOP",
         "rawType": "float64",
         "type": "float"
        },
        {
         "name": "LOR",
         "rawType": "float64",
         "type": "float"
        },
        {
         "name": "CGPA",
         "rawType": "float64",
         "type": "float"
        },
        {
         "name": "Research",
         "rawType": "int64",
         "type": "integer"
        }
       ],
       "ref": "130bb6b4-1102-4612-9595-f4079258ec18",
       "rows": [
        [
         "0",
         "337",
         "118",
         "4",
         "4.5",
         "4.5",
         "9.65",
         "1"
        ],
        [
         "1",
         "324",
         "107",
         "4",
         "4.0",
         "4.5",
         "8.87",
         "1"
        ],
        [
         "2",
         "316",
         "104",
         "3",
         "3.0",
         "3.5",
         "8.0",
         "1"
        ],
        [
         "3",
         "322",
         "110",
         "3",
         "3.5",
         "2.5",
         "8.67",
         "1"
        ],
        [
         "4",
         "314",
         "103",
         "2",
         "2.0",
         "3.0",
         "8.21",
         "0"
        ]
       ],
       "shape": {
        "columns": 7,
        "rows": 5
       }
      },
      "text/html": [
       "<div>\n",
       "<style scoped>\n",
       "    .dataframe tbody tr th:only-of-type {\n",
       "        vertical-align: middle;\n",
       "    }\n",
       "\n",
       "    .dataframe tbody tr th {\n",
       "        vertical-align: top;\n",
       "    }\n",
       "\n",
       "    .dataframe thead th {\n",
       "        text-align: right;\n",
       "    }\n",
       "</style>\n",
       "<table border=\"1\" class=\"dataframe\">\n",
       "  <thead>\n",
       "    <tr style=\"text-align: right;\">\n",
       "      <th></th>\n",
       "      <th>GRE</th>\n",
       "      <th>TOEFL</th>\n",
       "      <th>University_Rating</th>\n",
       "      <th>SOP</th>\n",
       "      <th>LOR</th>\n",
       "      <th>CGPA</th>\n",
       "      <th>Research</th>\n",
       "    </tr>\n",
       "  </thead>\n",
       "  <tbody>\n",
       "    <tr>\n",
       "      <th>0</th>\n",
       "      <td>337</td>\n",
       "      <td>118</td>\n",
       "      <td>4</td>\n",
       "      <td>4.5</td>\n",
       "      <td>4.5</td>\n",
       "      <td>9.65</td>\n",
       "      <td>1</td>\n",
       "    </tr>\n",
       "    <tr>\n",
       "      <th>1</th>\n",
       "      <td>324</td>\n",
       "      <td>107</td>\n",
       "      <td>4</td>\n",
       "      <td>4.0</td>\n",
       "      <td>4.5</td>\n",
       "      <td>8.87</td>\n",
       "      <td>1</td>\n",
       "    </tr>\n",
       "    <tr>\n",
       "      <th>2</th>\n",
       "      <td>316</td>\n",
       "      <td>104</td>\n",
       "      <td>3</td>\n",
       "      <td>3.0</td>\n",
       "      <td>3.5</td>\n",
       "      <td>8.00</td>\n",
       "      <td>1</td>\n",
       "    </tr>\n",
       "    <tr>\n",
       "      <th>3</th>\n",
       "      <td>322</td>\n",
       "      <td>110</td>\n",
       "      <td>3</td>\n",
       "      <td>3.5</td>\n",
       "      <td>2.5</td>\n",
       "      <td>8.67</td>\n",
       "      <td>1</td>\n",
       "    </tr>\n",
       "    <tr>\n",
       "      <th>4</th>\n",
       "      <td>314</td>\n",
       "      <td>103</td>\n",
       "      <td>2</td>\n",
       "      <td>2.0</td>\n",
       "      <td>3.0</td>\n",
       "      <td>8.21</td>\n",
       "      <td>0</td>\n",
       "    </tr>\n",
       "  </tbody>\n",
       "</table>\n",
       "</div>"
      ],
      "text/plain": [
       "   GRE  TOEFL  University_Rating  SOP  LOR  CGPA  Research\n",
       "0  337    118                  4  4.5  4.5  9.65         1\n",
       "1  324    107                  4  4.0  4.5  8.87         1\n",
       "2  316    104                  3  3.0  3.5  8.00         1\n",
       "3  322    110                  3  3.5  2.5  8.67         1\n",
       "4  314    103                  2  2.0  3.0  8.21         0"
      ]
     },
     "execution_count": 34,
     "metadata": {},
     "output_type": "execute_result"
    }
   ],
   "source": [
    "x.head()"
   ]
  },
  {
   "cell_type": "code",
   "execution_count": 35,
   "id": "747e9ddd",
   "metadata": {},
   "outputs": [
    {
     "data": {
      "application/vnd.microsoft.datawrangler.viewer.v0+json": {
       "columns": [
        {
         "name": "index",
         "rawType": "int64",
         "type": "integer"
        },
        {
         "name": "Chance_of_Admit",
         "rawType": "float64",
         "type": "float"
        }
       ],
       "ref": "82e41787-1965-405d-b142-bbfb57454e17",
       "rows": [
        [
         "0",
         "0.92"
        ],
        [
         "1",
         "0.76"
        ],
        [
         "2",
         "0.72"
        ],
        [
         "3",
         "0.8"
        ],
        [
         "4",
         "0.65"
        ]
       ],
       "shape": {
        "columns": 1,
        "rows": 5
       }
      },
      "text/plain": [
       "0    0.92\n",
       "1    0.76\n",
       "2    0.72\n",
       "3    0.80\n",
       "4    0.65\n",
       "Name: Chance_of_Admit, dtype: float64"
      ]
     },
     "execution_count": 35,
     "metadata": {},
     "output_type": "execute_result"
    }
   ],
   "source": [
    "y.head()"
   ]
  },
  {
   "cell_type": "code",
   "execution_count": 36,
   "id": "691ad507",
   "metadata": {},
   "outputs": [],
   "source": [
    "# Train-Test Split\n",
    "x_train, x_test, y_train, y_test = train_test_split(x, y, test_size=0.2, random_state=42)"
   ]
  },
  {
   "cell_type": "code",
   "execution_count": 37,
   "id": "d6cdfea3",
   "metadata": {},
   "outputs": [
    {
     "data": {
      "text/plain": [
       "((400, 7), (100, 7), (400,), (100,))"
      ]
     },
     "execution_count": 37,
     "metadata": {},
     "output_type": "execute_result"
    }
   ],
   "source": [
    "x_train.shape, x_test.shape, y_train.shape, y_test.shape"
   ]
  },
  {
   "cell_type": "code",
   "execution_count": 38,
   "id": "86a15857",
   "metadata": {},
   "outputs": [],
   "source": [
    "training_scores_r2 = []\n",
    "training_scores_adj_r2 = []\n",
    "training_scores_rmse = []\n",
    "\n",
    "testing_scores_r2 = []\n",
    "testing_scores_adj_r2 = []\n",
    "testing_scores_rmse = []"
   ]
  },
  {
   "cell_type": "code",
   "execution_count": 39,
   "id": "022108e7",
   "metadata": {},
   "outputs": [],
   "source": [
    "def evaluate_model_performance(model, x_train, y_train, x_test, y_test):\n",
    "    \"\"\"\n",
    "    Evaluates R², Adjusted R², and RMSE of a given model on training and testing data.\n",
    "    \n",
    "    Parameters:\n",
    "    - model: The machine learning model to evaluate\n",
    "    - x_train: Training feature set\n",
    "    - y_train: Training target values\n",
    "    - x_test: Testing feature set\n",
    "    - y_test: Testing target values\n",
    "    - training_scores: List to store training R² scores\n",
    "    - testing_scores: List to store testing R² scores\n",
    "    \"\"\"\n",
    "    # Fit the model\n",
    "    model.fit(x_train, y_train)\n",
    "    \n",
    "    # Predictions for training and testing data\n",
    "    y_train_pred = model.predict(x_train)\n",
    "    y_test_pred = model.predict(x_test)\n",
    "    \n",
    "    # Calculate R² scores\n",
    "    train_r2 = r2_score(y_train, y_train_pred) * 100\n",
    "    test_r2 = r2_score(y_test, y_test_pred) * 100\n",
    "    \n",
    "    # Calculate Adjusted R² scores\n",
    "    n_train, p_train = x_train.shape\n",
    "    n_test, p_test = x_test.shape\n",
    "    train_adj_r2 = 100 * (1 - (1 - train_r2 / 100) * (n_train - 1) / (n_train - p_train - 1))\n",
    "    test_adj_r2 = 100 * (1 - (1 - test_r2 / 100) * (n_test - 1) / (n_test - p_test - 1))\n",
    "    \n",
    "    # Calculate RMSE scores\n",
    "    train_rmse = np.sqrt(mean_squared_error(y_train, y_train_pred))\n",
    "    test_rmse = np.sqrt(mean_squared_error(y_test, y_test_pred))\n",
    "    \n",
    "    # Append scores to respective lists\n",
    "    training_scores_r2.append(train_r2)\n",
    "    training_scores_adj_r2.append(train_adj_r2)\n",
    "    training_scores_rmse.append(train_rmse)\n",
    "    testing_scores_r2.append(test_r2)\n",
    "    testing_scores_adj_r2.append(test_adj_r2) \n",
    "    testing_scores_rmse.append(test_rmse) \n",
    "    \n",
    "    # Display scores\n",
    "    print(f\"{model.__class__.__name__} Performance Metrics:\")\n",
    "    print(f\"Training Data: R² = {train_r2:.2f}%, Adjusted R² = {train_adj_r2:.2f}%, RMSE = {train_rmse:.4f}\")\n",
    "    print(f\"Testing Data : R² = {test_r2:.2f}%, Adjusted R² = {test_adj_r2:.2f}%, RMSE = {test_rmse:.4f}\\n\")"
   ]
  },
  {
   "cell_type": "code",
   "execution_count": 40,
   "id": "e0ec1d50",
   "metadata": {},
   "outputs": [],
   "source": [
    "models_dict = {\n",
    "    'Linear Regression': LinearRegression(),\n",
    "    'Ridge Regression': Ridge(),\n",
    "    'Lasso Regression': Lasso(),\n",
    "    'ElasticNet': ElasticNet(),\n",
    "    'Decision Tree': DecisionTreeRegressor(),\n",
    "    'Random Forest': RandomForestRegressor(),\n",
    "    'Gradient Boosting': GradientBoostingRegressor(),\n",
    "    'AdaBoost': AdaBoostRegressor(),\n",
    "    'Bagging': BaggingRegressor(),\n",
    "    'Support Vector Regressor': SVR(),\n",
    "    'K-Nearest Neighbors': KNeighborsRegressor()\n",
    "}"
   ]
  },
  {
   "cell_type": "code",
   "execution_count": 41,
   "id": "e49849ee",
   "metadata": {},
   "outputs": [],
   "source": [
    "\n",
    "def evaluate_models(x_train, x_test, y_train, y_test):\n",
    "    results = []\n",
    "    for name, model in models.items():\n",
    "        model.fit(x_train, y_train)\n",
    "        y_pred = model.predict(x_test)\n",
    "        r2 = r2_score(y_test, y_pred)\n",
    "        rmse = mean_squared_error(y_test, y_pred)\n",
    "        results.append((name, r2, rmse))\n",
    "\n",
    "    \n",
    "    results.sort(key=lambda x: x[1], reverse=True)\n",
    "    return results"
   ]
  },
  {
   "cell_type": "code",
   "execution_count": 42,
   "id": "6efbbfad",
   "metadata": {},
   "outputs": [
    {
     "name": "stdout",
     "output_type": "stream",
     "text": [
      "LinearRegression Performance Metrics:\n",
      "Training Data: R² = 82.11%, Adjusted R² = 81.79%, RMSE = 0.0594\n",
      "Testing Data : R² = 81.88%, Adjusted R² = 80.51%, RMSE = 0.0609\n",
      "\n"
     ]
    }
   ],
   "source": [
    "evaluate_model_performance(\n",
    "    model=LinearRegression(),\n",
    "    x_train=x_train,\n",
    "    y_train=y_train,\n",
    "    x_test=x_test,\n",
    "    y_test=y_test\n",
    ")"
   ]
  },
  {
   "cell_type": "code",
   "execution_count": 43,
   "metadata": {},
   "outputs": [
    {
     "name": "stdout",
     "output_type": "stream",
     "text": [
      "Ridge Performance Metrics:\n",
      "Training Data: R² = 82.10%, Adjusted R² = 81.78%, RMSE = 0.0594\n",
      "Testing Data : R² = 81.80%, Adjusted R² = 80.41%, RMSE = 0.0610\n",
      "\n"
     ]
    }
   ],
   "source": [
    "evaluate_model_performance(\n",
    "    model=Ridge(alpha=1.0),\n",
    "    x_train=x_train,\n",
    "    y_train=y_train,\n",
    "    x_test=x_test,\n",
    "    y_test=y_test\n",
    ")"
   ]
  },
  {
   "cell_type": "code",
   "execution_count": 44,
   "id": "7a0b3e99",
   "metadata": {},
   "outputs": [
    {
     "name": "stdout",
     "output_type": "stream",
     "text": [
      "Lasso Performance Metrics:\n",
      "Training Data: R² = 69.89%, Adjusted R² = 69.35%, RMSE = 0.0770\n",
      "Testing Data : R² = 63.72%, Adjusted R² = 60.96%, RMSE = 0.0861\n",
      "\n"
     ]
    }
   ],
   "source": [
    "evaluate_model_performance(\n",
    "    model=Lasso(alpha=0.1),\n",
    "    x_train=x_train,\n",
    "    y_train=y_train,\n",
    "    x_test=x_test,\n",
    "    y_test=y_test\n",
    ")"
   ]
  },
  {
   "cell_type": "code",
   "execution_count": 45,
   "id": "024deb6e",
   "metadata": {},
   "outputs": [
    {
     "name": "stdout",
     "output_type": "stream",
     "text": [
      "ElasticNet Performance Metrics:\n",
      "Training Data: R² = 71.13%, Adjusted R² = 70.61%, RMSE = 0.0754\n",
      "Testing Data : R² = 64.77%, Adjusted R² = 62.09%, RMSE = 0.0849\n",
      "\n"
     ]
    }
   ],
   "source": [
    "evaluate_model_performance(\n",
    "    model=ElasticNet(alpha=0.1, l1_ratio=0.5),\n",
    "    x_train=x_train,\n",
    "    y_train=y_train,\n",
    "    x_test=x_test,\n",
    "    y_test=y_test\n",
    ")"
   ]
  },
  {
   "cell_type": "code",
   "execution_count": 46,
   "id": "8b6c3aac",
   "metadata": {},
   "outputs": [
    {
     "name": "stdout",
     "output_type": "stream",
     "text": [
      "DecisionTreeRegressor Performance Metrics:\n",
      "Training Data: R² = 100.00%, Adjusted R² = 100.00%, RMSE = 0.0000\n",
      "Testing Data : R² = 60.27%, Adjusted R² = 57.25%, RMSE = 0.0901\n",
      "\n"
     ]
    }
   ],
   "source": [
    "evaluate_model_performance(\n",
    "    model=DecisionTreeRegressor(),\n",
    "    x_train=x_train,\n",
    "    y_train=y_train,\n",
    "    x_test=x_test,\n",
    "    y_test=y_test\n",
    ")"
   ]
  },
  {
   "cell_type": "code",
   "execution_count": 47,
   "metadata": {},
   "outputs": [
    {
     "name": "stdout",
     "output_type": "stream",
     "text": [
      "RandomForestRegressor Performance Metrics:\n",
      "Training Data: R² = 97.04%, Adjusted R² = 96.99%, RMSE = 0.0241\n",
      "Testing Data : R² = 78.84%, Adjusted R² = 77.23%, RMSE = 0.0658\n",
      "\n"
     ]
    }
   ],
   "source": [
    "evaluate_model_performance(\n",
    "    model=RandomForestRegressor(),\n",
    "    x_train=x_train,\n",
    "    y_train=y_train,\n",
    "    x_test=x_test,\n",
    "    y_test=y_test\n",
    ")"
   ]
  },
  {
   "cell_type": "code",
   "execution_count": 48,
   "id": "e88558b9",
   "metadata": {},
   "outputs": [
    {
     "name": "stdout",
     "output_type": "stream",
     "text": [
      "AdaBoostRegressor Performance Metrics:\n",
      "Training Data: R² = 82.24%, Adjusted R² = 81.93%, RMSE = 0.0592\n",
      "Testing Data : R² = 75.52%, Adjusted R² = 73.66%, RMSE = 0.0708\n",
      "\n"
     ]
    }
   ],
   "source": [
    "evaluate_model_performance(\n",
    "    model=AdaBoostRegressor(),\n",
    "    x_train=x_train,\n",
    "    y_train=y_train,\n",
    "    x_test=x_test,\n",
    "    y_test=y_test\n",
    ")"
   ]
  },
  {
   "cell_type": "code",
   "execution_count": 49,
   "metadata": {},
   "outputs": [
    {
     "name": "stdout",
     "output_type": "stream",
     "text": [
      "GradientBoostingRegressor Performance Metrics:\n",
      "Training Data: R² = 92.51%, Adjusted R² = 92.38%, RMSE = 0.0384\n",
      "Testing Data : R² = 78.18%, Adjusted R² = 76.52%, RMSE = 0.0668\n",
      "\n"
     ]
    }
   ],
   "source": [
    "evaluate_model_performance(\n",
    "    model=GradientBoostingRegressor(),\n",
    "    x_train=x_train,\n",
    "    y_train=y_train,\n",
    "    x_test=x_test,\n",
    "    y_test=y_test\n",
    ")"
   ]
  },
  {
   "cell_type": "code",
   "execution_count": 50,
   "id": "66cced49",
   "metadata": {},
   "outputs": [
    {
     "name": "stdout",
     "output_type": "stream",
     "text": [
      "[LightGBM] [Info] Auto-choosing row-wise multi-threading, the overhead of testing was 0.000152 seconds.\n",
      "You can set `force_row_wise=true` to remove the overhead.\n",
      "And if memory is not enough, you can set `force_col_wise=true`.\n",
      "[LightGBM] [Info] Total Bins 199\n",
      "[LightGBM] [Info] Number of data points in the train set: 400, number of used features: 7\n",
      "[LightGBM] [Info] Start training from score 0.724175\n",
      "[LightGBM] [Warning] No further splits with positive gain, best gain: -inf\n",
      "[LightGBM] [Warning] No further splits with positive gain, best gain: -inf\n",
      "[LightGBM] [Warning] No further splits with positive gain, best gain: -inf\n",
      "[LightGBM] [Warning] No further splits with positive gain, best gain: -inf\n",
      "[LightGBM] [Warning] No further splits with positive gain, best gain: -inf\n",
      "[LightGBM] [Warning] No further splits with positive gain, best gain: -inf\n",
      "[LightGBM] [Warning] No further splits with positive gain, best gain: -inf\n",
      "[LightGBM] [Warning] No further splits with positive gain, best gain: -inf\n",
      "[LightGBM] [Warning] No further splits with positive gain, best gain: -inf\n",
      "[LightGBM] [Warning] No further splits with positive gain, best gain: -inf\n",
      "[LightGBM] [Warning] No further splits with positive gain, best gain: -inf\n",
      "[LightGBM] [Warning] No further splits with positive gain, best gain: -inf\n",
      "[LightGBM] [Warning] No further splits with positive gain, best gain: -inf\n",
      "[LightGBM] [Warning] No further splits with positive gain, best gain: -inf\n",
      "[LightGBM] [Warning] No further splits with positive gain, best gain: -inf\n",
      "[LightGBM] [Warning] No further splits with positive gain, best gain: -inf\n",
      "[LightGBM] [Warning] No further splits with positive gain, best gain: -inf\n",
      "[LightGBM] [Warning] No further splits with positive gain, best gain: -inf\n",
      "[LightGBM] [Warning] No further splits with positive gain, best gain: -inf\n",
      "[LightGBM] [Warning] No further splits with positive gain, best gain: -inf\n",
      "[LightGBM] [Warning] No further splits with positive gain, best gain: -inf\n",
      "[LightGBM] [Warning] No further splits with positive gain, best gain: -inf\n",
      "[LightGBM] [Warning] No further splits with positive gain, best gain: -inf\n",
      "[LightGBM] [Warning] No further splits with positive gain, best gain: -inf\n",
      "[LightGBM] [Warning] No further splits with positive gain, best gain: -inf\n",
      "[LightGBM] [Warning] No further splits with positive gain, best gain: -inf\n",
      "[LightGBM] [Warning] No further splits with positive gain, best gain: -inf\n",
      "[LightGBM] [Warning] No further splits with positive gain, best gain: -inf\n",
      "[LightGBM] [Warning] No further splits with positive gain, best gain: -inf\n",
      "[LightGBM] [Warning] No further splits with positive gain, best gain: -inf\n",
      "[LightGBM] [Warning] No further splits with positive gain, best gain: -inf\n",
      "[LightGBM] [Warning] No further splits with positive gain, best gain: -inf\n",
      "[LightGBM] [Warning] No further splits with positive gain, best gain: -inf\n",
      "[LightGBM] [Warning] No further splits with positive gain, best gain: -inf\n",
      "[LightGBM] [Warning] No further splits with positive gain, best gain: -inf\n",
      "[LightGBM] [Warning] No further splits with positive gain, best gain: -inf\n",
      "[LightGBM] [Warning] No further splits with positive gain, best gain: -inf\n",
      "[LightGBM] [Warning] No further splits with positive gain, best gain: -inf\n",
      "[LightGBM] [Warning] No further splits with positive gain, best gain: -inf\n",
      "[LightGBM] [Warning] No further splits with positive gain, best gain: -inf\n",
      "[LightGBM] [Warning] No further splits with positive gain, best gain: -inf\n",
      "[LightGBM] [Warning] No further splits with positive gain, best gain: -inf\n",
      "[LightGBM] [Warning] No further splits with positive gain, best gain: -inf\n",
      "[LightGBM] [Warning] No further splits with positive gain, best gain: -inf\n",
      "[LightGBM] [Warning] No further splits with positive gain, best gain: -inf\n",
      "[LightGBM] [Warning] No further splits with positive gain, best gain: -inf\n",
      "[LightGBM] [Warning] No further splits with positive gain, best gain: -inf\n",
      "[LightGBM] [Warning] No further splits with positive gain, best gain: -inf\n",
      "[LightGBM] [Warning] No further splits with positive gain, best gain: -inf\n",
      "[LightGBM] [Warning] No further splits with positive gain, best gain: -inf\n",
      "[LightGBM] [Warning] No further splits with positive gain, best gain: -inf\n",
      "[LightGBM] [Warning] No further splits with positive gain, best gain: -inf\n",
      "[LightGBM] [Warning] No further splits with positive gain, best gain: -inf\n",
      "[LightGBM] [Warning] No further splits with positive gain, best gain: -inf\n",
      "[LightGBM] [Warning] No further splits with positive gain, best gain: -inf\n",
      "[LightGBM] [Warning] No further splits with positive gain, best gain: -inf\n",
      "[LightGBM] [Warning] No further splits with positive gain, best gain: -inf\n",
      "[LightGBM] [Warning] No further splits with positive gain, best gain: -inf\n",
      "[LightGBM] [Warning] No further splits with positive gain, best gain: -inf\n",
      "[LightGBM] [Warning] No further splits with positive gain, best gain: -inf\n",
      "[LightGBM] [Warning] No further splits with positive gain, best gain: -inf\n",
      "[LightGBM] [Warning] No further splits with positive gain, best gain: -inf\n",
      "[LightGBM] [Warning] No further splits with positive gain, best gain: -inf\n",
      "[LightGBM] [Warning] No further splits with positive gain, best gain: -inf\n",
      "[LightGBM] [Warning] No further splits with positive gain, best gain: -inf\n",
      "[LightGBM] [Warning] No further splits with positive gain, best gain: -inf\n",
      "[LightGBM] [Warning] No further splits with positive gain, best gain: -inf\n",
      "[LightGBM] [Warning] No further splits with positive gain, best gain: -inf\n",
      "[LightGBM] [Warning] No further splits with positive gain, best gain: -inf\n",
      "[LightGBM] [Warning] No further splits with positive gain, best gain: -inf\n",
      "[LightGBM] [Warning] No further splits with positive gain, best gain: -inf\n",
      "[LightGBM] [Warning] No further splits with positive gain, best gain: -inf\n",
      "[LightGBM] [Warning] No further splits with positive gain, best gain: -inf\n",
      "[LightGBM] [Warning] No further splits with positive gain, best gain: -inf\n",
      "[LightGBM] [Warning] No further splits with positive gain, best gain: -inf\n",
      "[LightGBM] [Warning] No further splits with positive gain, best gain: -inf\n",
      "[LightGBM] [Warning] No further splits with positive gain, best gain: -inf\n",
      "[LightGBM] [Warning] No further splits with positive gain, best gain: -inf\n",
      "[LightGBM] [Warning] No further splits with positive gain, best gain: -inf\n",
      "[LightGBM] [Warning] No further splits with positive gain, best gain: -inf\n",
      "[LightGBM] [Warning] No further splits with positive gain, best gain: -inf\n",
      "[LightGBM] [Warning] No further splits with positive gain, best gain: -inf\n",
      "[LightGBM] [Warning] No further splits with positive gain, best gain: -inf\n",
      "[LightGBM] [Warning] No further splits with positive gain, best gain: -inf\n",
      "[LightGBM] [Warning] No further splits with positive gain, best gain: -inf\n",
      "[LightGBM] [Warning] No further splits with positive gain, best gain: -inf\n",
      "[LightGBM] [Warning] No further splits with positive gain, best gain: -inf\n",
      "[LightGBM] [Warning] No further splits with positive gain, best gain: -inf\n",
      "[LightGBM] [Warning] No further splits with positive gain, best gain: -inf\n",
      "[LightGBM] [Warning] No further splits with positive gain, best gain: -inf\n",
      "[LightGBM] [Warning] No further splits with positive gain, best gain: -inf\n",
      "[LightGBM] [Warning] No further splits with positive gain, best gain: -inf\n",
      "[LightGBM] [Warning] No further splits with positive gain, best gain: -inf\n",
      "[LightGBM] [Warning] No further splits with positive gain, best gain: -inf\n",
      "[LightGBM] [Warning] No further splits with positive gain, best gain: -inf\n",
      "[LightGBM] [Warning] No further splits with positive gain, best gain: -inf\n",
      "[LightGBM] [Warning] No further splits with positive gain, best gain: -inf\n",
      "[LightGBM] [Warning] No further splits with positive gain, best gain: -inf\n",
      "[LightGBM] [Warning] No further splits with positive gain, best gain: -inf\n",
      "[LightGBM] [Warning] No further splits with positive gain, best gain: -inf\n",
      "LGBMRegressor Performance Metrics:\n",
      "Training Data: R² = 92.51%, Adjusted R² = 92.38%, RMSE = 0.0384\n",
      "Testing Data : R² = 77.66%, Adjusted R² = 75.96%, RMSE = 0.0676\n",
      "\n"
     ]
    }
   ],
   "source": [
    "evaluate_model_performance(\n",
    "    model=LGBMRegressor(),\n",
    "    x_train=x_train,\n",
    "    y_train=y_train,\n",
    "    x_test=x_test,\n",
    "    y_test=y_test\n",
    ")"
   ]
  },
  {
   "cell_type": "code",
   "execution_count": 51,
   "id": "f33672a3",
   "metadata": {},
   "outputs": [
    {
     "name": "stdout",
     "output_type": "stream",
     "text": [
      "XGBRegressor Performance Metrics:\n",
      "Training Data: R² = 99.97%, Adjusted R² = 99.97%, RMSE = 0.0025\n",
      "Testing Data : R² = 74.67%, Adjusted R² = 72.74%, RMSE = 0.0720\n",
      "\n"
     ]
    }
   ],
   "source": [
    "evaluate_model_performance(\n",
    "    model=XGBRegressor(),\n",
    "    x_train=x_train,\n",
    "    y_train=y_train,\n",
    "    x_test=x_test,\n",
    "    y_test=y_test\n",
    ")"
   ]
  },
  {
   "cell_type": "code",
   "execution_count": 52,
   "id": "45121843",
   "metadata": {},
   "outputs": [
    {
     "name": "stdout",
     "output_type": "stream",
     "text": [
      "CatBoostRegressor Performance Metrics:\n",
      "Training Data: R² = 98.29%, Adjusted R² = 98.25%, RMSE = 0.0184\n",
      "Testing Data : R² = 78.99%, Adjusted R² = 77.39%, RMSE = 0.0655\n",
      "\n"
     ]
    }
   ],
   "source": [
    "evaluate_model_performance(\n",
    "    model=CatBoostRegressor(verbose=False),\n",
    "    x_train=x_train,\n",
    "    y_train=y_train,\n",
    "    x_test=x_test,\n",
    "    y_test=y_test\n",
    ")"
   ]
  },
  {
   "cell_type": "code",
   "execution_count": 53,
   "id": "8b2fbe9a",
   "metadata": {},
   "outputs": [
    {
     "name": "stdout",
     "output_type": "stream",
     "text": [
      "SVR Performance Metrics:\n",
      "Training Data: R² = 68.20%, Adjusted R² = 67.64%, RMSE = 0.0792\n",
      "Testing Data : R² = 64.89%, Adjusted R² = 62.22%, RMSE = 0.0847\n",
      "\n"
     ]
    }
   ],
   "source": [
    "evaluate_model_performance(\n",
    "    model=SVR(kernel='rbf'),\n",
    "    x_train=x_train,\n",
    "    y_train=y_train,\n",
    "    x_test=x_test,\n",
    "    y_test=y_test\n",
    ")"
   ]
  },
  {
   "cell_type": "code",
   "execution_count": 54,
   "id": "e5f35921",
   "metadata": {},
   "outputs": [
    {
     "name": "stdout",
     "output_type": "stream",
     "text": [
      "KNeighborsRegressor Performance Metrics:\n",
      "Training Data: R² = 81.98%, Adjusted R² = 81.66%, RMSE = 0.0596\n",
      "Testing Data : R² = 72.48%, Adjusted R² = 70.38%, RMSE = 0.0750\n",
      "\n"
     ]
    }
   ],
   "source": [
    "evaluate_model_performance(\n",
    "    model=KNeighborsRegressor(),\n",
    "    x_train=x_train,\n",
    "    y_train=y_train,\n",
    "    x_test=x_test,\n",
    "    y_test=y_test\n",
    ")"
   ]
  },
  {
   "cell_type": "code",
   "execution_count": 55,
   "id": "772954be",
   "metadata": {},
   "outputs": [],
   "source": [
    "\n",
    "model1 = LinearRegression()\n",
    "model2 = RandomForestRegressor(n_estimators=100, random_state=42)\n",
    "model3 = KNeighborsRegressor()"
   ]
  },
  {
   "cell_type": "code",
   "execution_count": 56,
   "metadata": {},
   "outputs": [],
   "source": [
    "\n",
    "voting_regressor = VotingRegressor(estimators=[('lr', model1),('rf', model2),('knn', model3)])"
   ]
  },
  {
   "cell_type": "code",
   "execution_count": 57,
   "metadata": {},
   "outputs": [
    {
     "name": "stdout",
     "output_type": "stream",
     "text": [
      "VotingRegressor Performance Metrics:\n",
      "Training Data: R² = 89.97%, Adjusted R² = 89.79%, RMSE = 0.0445\n",
      "Testing Data : R² = 80.31%, Adjusted R² = 78.81%, RMSE = 0.0635\n",
      "\n"
     ]
    }
   ],
   "source": [
    "evaluate_model_performance(\n",
    "    model = voting_regressor,\n",
    "    x_train=x_train,\n",
    "    y_train=y_train,\n",
    "    x_test=x_test,\n",
    "    y_test=y_test\n",
    ")"
   ]
  },
  {
   "cell_type": "code",
   "execution_count": 58,
   "metadata": {},
   "outputs": [],
   "source": [
    "from sklearn.ensemble import BaggingRegressor\n",
    "from sklearn.tree import DecisionTreeRegressor"
   ]
  },
  {
   "cell_type": "code",
   "execution_count": 59,
   "metadata": {},
   "outputs": [],
   "source": [
    "\n",
    "base_regressor = DecisionTreeRegressor(random_state=42)"
   ]
  },
  {
   "cell_type": "code",
   "execution_count": 60,
   "metadata": {},
   "outputs": [],
   "source": [
    "\n",
    "bagging_regressor = BaggingRegressor(\n",
    "    estimator=base_regressor,  \n",
    "    n_estimators=50,          \n",
    "    max_samples=0.8,          \n",
    "    max_features=0.8,         \n",
    "    random_state=42,\n",
    "    n_jobs=-1                 \n",
    ")"
   ]
  },
  {
   "cell_type": "code",
   "execution_count": 61,
   "id": "84f7fa3e",
   "metadata": {},
   "outputs": [
    {
     "name": "stdout",
     "output_type": "stream",
     "text": [
      "BaggingRegressor Performance Metrics:\n",
      "Training Data: R² = 95.62%, Adjusted R² = 95.55%, RMSE = 0.0294\n",
      "Testing Data : R² = 79.68%, Adjusted R² = 78.13%, RMSE = 0.0645\n",
      "\n"
     ]
    }
   ],
   "source": [
    "evaluate_model_performance(\n",
    "    model = bagging_regressor,\n",
    "    x_train=x_train,\n",
    "    y_train=y_train,\n",
    "    x_test=x_test,\n",
    "    y_test=y_test\n",
    ")"
   ]
  },
  {
   "cell_type": "code",
   "execution_count": 62,
   "id": "96d8edf4",
   "metadata": {},
   "outputs": [],
   "source": [
    "from sklearn.ensemble import StackingRegressor\n",
    "from sklearn.tree import DecisionTreeRegressor\n",
    "from sklearn.ensemble import RandomForestRegressor\n",
    "from sklearn.neighbors import KNeighborsRegressor"
   ]
  },
  {
   "cell_type": "code",
   "execution_count": 63,
   "id": "02a25724",
   "metadata": {},
   "outputs": [],
   "source": [
    "\n",
    "base_models = [\n",
    "    ('dt', DecisionTreeRegressor(max_depth=5, random_state=42)),\n",
    "    ('rf', RandomForestRegressor(n_estimators=50, random_state=42))\n",
    "]"
   ]
  },
  {
   "cell_type": "code",
   "execution_count": 64,
   "metadata": {},
   "outputs": [],
   "source": [
    "\n",
    "meta_model = KNeighborsRegressor()"
   ]
  },
  {
   "cell_type": "code",
   "execution_count": 65,
   "id": "316b255e",
   "metadata": {},
   "outputs": [],
   "source": [
    "\n",
    "stacking_regressor = StackingRegressor(\n",
    "    estimators=base_models,  \n",
    "    final_estimator=meta_model,  \n",
    "    n_jobs=-1               \n",
    ")"
   ]
  },
  {
   "cell_type": "code",
   "execution_count": 66,
   "id": "258accd4",
   "metadata": {},
   "outputs": [
    {
     "name": "stdout",
     "output_type": "stream",
     "text": [
      "StackingRegressor Performance Metrics:\n",
      "Training Data: R² = 90.20%, Adjusted R² = 90.02%, RMSE = 0.0440\n",
      "Testing Data : R² = 74.91%, Adjusted R² = 73.00%, RMSE = 0.0716\n",
      "\n"
     ]
    }
   ],
   "source": [
    "evaluate_model_performance(\n",
    "    model = stacking_regressor,\n",
    "    x_train=x_train,\n",
    "    y_train=y_train,\n",
    "    x_test=x_test,\n",
    "    y_test=y_test\n",
    ")"
   ]
  },
  {
   "cell_type": "code",
   "execution_count": 67,
   "id": "2d35f2c1",
   "metadata": {},
   "outputs": [],
   "source": [
    "models = [\n",
    "    \"Linear Regression\",\n",
    "    \"Ridge\",\n",
    "    \"Lasso\",\n",
    "    \"ElasticNet\",\n",
    "    \"Decision Tree\",\n",
    "    \"Random Forest\",\n",
    "    \"Ada Boost\",\n",
    "    \"Gradient Boost\",\n",
    "    \"LGBM\",\n",
    "    \"XGBoost\",\n",
    "    \"CatBoost\",\n",
    "    \"SVM\",\n",
    "    \"KNN\",\n",
    "    \"Voting Regressor\",\n",
    "    \"Bagging Regressor\",\n",
    "    \"Stacking Regressor\"]"
   ]
  },
  {
   "cell_type": "code",
   "execution_count": 68,
   "id": "5f12051c",
   "metadata": {},
   "outputs": [
    {
     "data": {
      "application/vnd.microsoft.datawrangler.viewer.v0+json": {
       "columns": [
        {
         "name": "index",
         "rawType": "int64",
         "type": "integer"
        },
        {
         "name": "Algorithms",
         "rawType": "object",
         "type": "string"
        },
        {
         "name": "Training Score R2",
         "rawType": "float64",
         "type": "float"
        },
        {
         "name": "Training Score Adjusted R2",
         "rawType": "float64",
         "type": "float"
        },
        {
         "name": "Training Score RMSE",
         "rawType": "float64",
         "type": "float"
        },
        {
         "name": "Testing Score R2",
         "rawType": "float64",
         "type": "float"
        },
        {
         "name": "Testing Score Adjusted R2",
         "rawType": "float64",
         "type": "float"
        },
        {
         "name": "Testing Score RMSE",
         "rawType": "float64",
         "type": "float"
        }
       ],
       "ref": "25aebde9-4a9d-494f-8dc9-88c37869073a",
       "rows": [
        [
         "0",
         "Linear Regression",
         "82.10671369321554",
         "81.78719072345153",
         "0.059384808482100516",
         "81.88432567829629",
         "80.50595915381884",
         "0.06086588041578311"
        ],
        [
         "1",
         "Ridge",
         "82.101913817515",
         "81.7823051356849",
         "0.05939277293819342",
         "81.79793486575073",
         "80.41299512727524",
         "0.06101083772539084"
        ],
        [
         "13",
         "Voting Regressor",
         "89.97279466157443",
         "89.79373742338825",
         "0.0444549635981254",
         "80.3097067001803",
         "78.81153220997662",
         "0.06345600822469948"
        ],
        [
         "14",
         "Bagging Regressor",
         "95.62324310233096",
         "95.54508672915829",
         "0.029370173840895877",
         "79.67600048193427",
         "78.12960921425535",
         "0.06446904607208363"
        ],
        [
         "10",
         "CatBoost",
         "98.28515630507863",
         "98.25453409624075",
         "0.01838410852871654",
         "78.9923286186002",
         "77.39391883958065",
         "0.06554440325074493"
        ],
        [
         "5",
         "Random Forest",
         "97.04378969174047",
         "96.99100022195012",
         "0.02413781576696614",
         "78.83798190709047",
         "77.227828356543",
         "0.06578474519217963"
        ],
        [
         "7",
         "Gradient Boost",
         "92.50964054868946",
         "92.37588412991606",
         "0.03842214745165911",
         "78.18007920998558",
         "76.51986784552795",
         "0.06679950450084154"
        ],
        [
         "8",
         "LGBM",
         "92.50892603450004",
         "92.37515685654468",
         "0.038423979974854736",
         "77.65827956891245",
         "75.95836605785144",
         "0.06759350433405126"
        ],
        [
         "6",
         "Ada Boost",
         "82.24465327756442",
         "81.92759351466378",
         "0.05915546648391685",
         "75.52093469957488",
         "73.65839712236863",
         "0.0707528717009913"
        ],
        [
         "15",
         "Stacking Regressor",
         "90.19855038881546",
         "90.02352450290145",
         "0.0439516780111977",
         "74.90699266503668",
         "72.99774210694166",
         "0.07163462849767561"
        ],
        [
         "9",
         "XGBoost",
         "99.9673618407897",
         "99.96677901651809",
         "0.002536256265853651",
         "74.66918068265555",
         "72.74183573459673",
         "0.07197327664068756"
        ],
        [
         "12",
         "KNN",
         "81.97979324674793",
         "81.65800384043986",
         "0.059595050130023385",
         "72.47745721271394",
         "70.38335069629001",
         "0.07502239665593201"
        ],
        [
         "11",
         "SVM",
         "68.20298106387446",
         "67.63517715430079",
         "0.07916323028247098",
         "64.89352664633702",
         "62.22238193464526",
         "0.08473059542351913"
        ],
        [
         "3",
         "ElasticNet",
         "71.1284765038532",
         "70.61291358427914",
         "0.07543365572916548",
         "64.77287233883456",
         "62.092547408093715",
         "0.08487607205042146"
        ],
        [
         "2",
         "Lasso",
         "69.89099924347175",
         "69.3533385156766",
         "0.07703329523473298",
         "63.723646916735355",
         "60.96348961692174",
         "0.08613079707937005"
        ],
        [
         "4",
         "Decision Tree",
         "100.0",
         "100.0",
         "1.6653345369377347e-17",
         "60.268948655256736",
         "57.24593387902628",
         "0.09013878188659973"
        ]
       ],
       "shape": {
        "columns": 7,
        "rows": 16
       }
      },
      "text/html": [
       "<div>\n",
       "<style scoped>\n",
       "    .dataframe tbody tr th:only-of-type {\n",
       "        vertical-align: middle;\n",
       "    }\n",
       "\n",
       "    .dataframe tbody tr th {\n",
       "        vertical-align: top;\n",
       "    }\n",
       "\n",
       "    .dataframe thead th {\n",
       "        text-align: right;\n",
       "    }\n",
       "</style>\n",
       "<table border=\"1\" class=\"dataframe\">\n",
       "  <thead>\n",
       "    <tr style=\"text-align: right;\">\n",
       "      <th></th>\n",
       "      <th>Algorithms</th>\n",
       "      <th>Training Score R2</th>\n",
       "      <th>Training Score Adjusted R2</th>\n",
       "      <th>Training Score RMSE</th>\n",
       "      <th>Testing Score R2</th>\n",
       "      <th>Testing Score Adjusted R2</th>\n",
       "      <th>Testing Score RMSE</th>\n",
       "    </tr>\n",
       "  </thead>\n",
       "  <tbody>\n",
       "    <tr>\n",
       "      <th>0</th>\n",
       "      <td>Linear Regression</td>\n",
       "      <td>82.106714</td>\n",
       "      <td>81.787191</td>\n",
       "      <td>5.938481e-02</td>\n",
       "      <td>81.884326</td>\n",
       "      <td>80.505959</td>\n",
       "      <td>0.060866</td>\n",
       "    </tr>\n",
       "    <tr>\n",
       "      <th>1</th>\n",
       "      <td>Ridge</td>\n",
       "      <td>82.101914</td>\n",
       "      <td>81.782305</td>\n",
       "      <td>5.939277e-02</td>\n",
       "      <td>81.797935</td>\n",
       "      <td>80.412995</td>\n",
       "      <td>0.061011</td>\n",
       "    </tr>\n",
       "    <tr>\n",
       "      <th>13</th>\n",
       "      <td>Voting Regressor</td>\n",
       "      <td>89.972795</td>\n",
       "      <td>89.793737</td>\n",
       "      <td>4.445496e-02</td>\n",
       "      <td>80.309707</td>\n",
       "      <td>78.811532</td>\n",
       "      <td>0.063456</td>\n",
       "    </tr>\n",
       "    <tr>\n",
       "      <th>14</th>\n",
       "      <td>Bagging Regressor</td>\n",
       "      <td>95.623243</td>\n",
       "      <td>95.545087</td>\n",
       "      <td>2.937017e-02</td>\n",
       "      <td>79.676000</td>\n",
       "      <td>78.129609</td>\n",
       "      <td>0.064469</td>\n",
       "    </tr>\n",
       "    <tr>\n",
       "      <th>10</th>\n",
       "      <td>CatBoost</td>\n",
       "      <td>98.285156</td>\n",
       "      <td>98.254534</td>\n",
       "      <td>1.838411e-02</td>\n",
       "      <td>78.992329</td>\n",
       "      <td>77.393919</td>\n",
       "      <td>0.065544</td>\n",
       "    </tr>\n",
       "    <tr>\n",
       "      <th>5</th>\n",
       "      <td>Random Forest</td>\n",
       "      <td>97.043790</td>\n",
       "      <td>96.991000</td>\n",
       "      <td>2.413782e-02</td>\n",
       "      <td>78.837982</td>\n",
       "      <td>77.227828</td>\n",
       "      <td>0.065785</td>\n",
       "    </tr>\n",
       "    <tr>\n",
       "      <th>7</th>\n",
       "      <td>Gradient Boost</td>\n",
       "      <td>92.509641</td>\n",
       "      <td>92.375884</td>\n",
       "      <td>3.842215e-02</td>\n",
       "      <td>78.180079</td>\n",
       "      <td>76.519868</td>\n",
       "      <td>0.066800</td>\n",
       "    </tr>\n",
       "    <tr>\n",
       "      <th>8</th>\n",
       "      <td>LGBM</td>\n",
       "      <td>92.508926</td>\n",
       "      <td>92.375157</td>\n",
       "      <td>3.842398e-02</td>\n",
       "      <td>77.658280</td>\n",
       "      <td>75.958366</td>\n",
       "      <td>0.067594</td>\n",
       "    </tr>\n",
       "    <tr>\n",
       "      <th>6</th>\n",
       "      <td>Ada Boost</td>\n",
       "      <td>82.244653</td>\n",
       "      <td>81.927594</td>\n",
       "      <td>5.915547e-02</td>\n",
       "      <td>75.520935</td>\n",
       "      <td>73.658397</td>\n",
       "      <td>0.070753</td>\n",
       "    </tr>\n",
       "    <tr>\n",
       "      <th>15</th>\n",
       "      <td>Stacking Regressor</td>\n",
       "      <td>90.198550</td>\n",
       "      <td>90.023525</td>\n",
       "      <td>4.395168e-02</td>\n",
       "      <td>74.906993</td>\n",
       "      <td>72.997742</td>\n",
       "      <td>0.071635</td>\n",
       "    </tr>\n",
       "    <tr>\n",
       "      <th>9</th>\n",
       "      <td>XGBoost</td>\n",
       "      <td>99.967362</td>\n",
       "      <td>99.966779</td>\n",
       "      <td>2.536256e-03</td>\n",
       "      <td>74.669181</td>\n",
       "      <td>72.741836</td>\n",
       "      <td>0.071973</td>\n",
       "    </tr>\n",
       "    <tr>\n",
       "      <th>12</th>\n",
       "      <td>KNN</td>\n",
       "      <td>81.979793</td>\n",
       "      <td>81.658004</td>\n",
       "      <td>5.959505e-02</td>\n",
       "      <td>72.477457</td>\n",
       "      <td>70.383351</td>\n",
       "      <td>0.075022</td>\n",
       "    </tr>\n",
       "    <tr>\n",
       "      <th>11</th>\n",
       "      <td>SVM</td>\n",
       "      <td>68.202981</td>\n",
       "      <td>67.635177</td>\n",
       "      <td>7.916323e-02</td>\n",
       "      <td>64.893527</td>\n",
       "      <td>62.222382</td>\n",
       "      <td>0.084731</td>\n",
       "    </tr>\n",
       "    <tr>\n",
       "      <th>3</th>\n",
       "      <td>ElasticNet</td>\n",
       "      <td>71.128477</td>\n",
       "      <td>70.612914</td>\n",
       "      <td>7.543366e-02</td>\n",
       "      <td>64.772872</td>\n",
       "      <td>62.092547</td>\n",
       "      <td>0.084876</td>\n",
       "    </tr>\n",
       "    <tr>\n",
       "      <th>2</th>\n",
       "      <td>Lasso</td>\n",
       "      <td>69.890999</td>\n",
       "      <td>69.353339</td>\n",
       "      <td>7.703330e-02</td>\n",
       "      <td>63.723647</td>\n",
       "      <td>60.963490</td>\n",
       "      <td>0.086131</td>\n",
       "    </tr>\n",
       "    <tr>\n",
       "      <th>4</th>\n",
       "      <td>Decision Tree</td>\n",
       "      <td>100.000000</td>\n",
       "      <td>100.000000</td>\n",
       "      <td>1.665335e-17</td>\n",
       "      <td>60.268949</td>\n",
       "      <td>57.245934</td>\n",
       "      <td>0.090139</td>\n",
       "    </tr>\n",
       "  </tbody>\n",
       "</table>\n",
       "</div>"
      ],
      "text/plain": [
       "            Algorithms  ...  Testing Score RMSE\n",
       "0    Linear Regression  ...            0.060866\n",
       "1                Ridge  ...            0.061011\n",
       "13    Voting Regressor  ...            0.063456\n",
       "14   Bagging Regressor  ...            0.064469\n",
       "10            CatBoost  ...            0.065544\n",
       "5        Random Forest  ...            0.065785\n",
       "7       Gradient Boost  ...            0.066800\n",
       "8                 LGBM  ...            0.067594\n",
       "6            Ada Boost  ...            0.070753\n",
       "15  Stacking Regressor  ...            0.071635\n",
       "9              XGBoost  ...            0.071973\n",
       "12                 KNN  ...            0.075022\n",
       "11                 SVM  ...            0.084731\n",
       "3           ElasticNet  ...            0.084876\n",
       "2                Lasso  ...            0.086131\n",
       "4        Decision Tree  ...            0.090139\n",
       "\n",
       "[16 rows x 7 columns]"
      ]
     },
     "execution_count": 68,
     "metadata": {},
     "output_type": "execute_result"
    }
   ],
   "source": [
    "min_len = min(\n",
    "    len(models),\n",
    "    len(training_scores_r2),\n",
    "    len(training_scores_adj_r2),\n",
    "    len(training_scores_rmse),\n",
    "    len(testing_scores_r2),\n",
    "    len(testing_scores_adj_r2),\n",
    "    len(testing_scores_rmse)\n",
    ")\n",
    "\n",
    "df_model = pd.DataFrame({\n",
    "    \"Algorithms\": models[:min_len],\n",
    "    \"Training Score R2\": training_scores_r2[:min_len],\n",
    "    \"Training Score Adjusted R2\": training_scores_adj_r2[:min_len],\n",
    "    \"Training Score RMSE\": training_scores_rmse[:min_len],\n",
    "    \"Testing Score R2\": testing_scores_r2[:min_len],\n",
    "    \"Testing Score Adjusted R2\": testing_scores_adj_r2[:min_len],\n",
    "    \"Testing Score RMSE\": testing_scores_rmse[:min_len],\n",
    "})\n",
    "df_model_sort = df_model.sort_values(by=\"Testing Score R2\", ascending=False)\n",
    "df_model_sort"
   ]
  },
  {
   "cell_type": "code",
   "execution_count": 69,
   "id": "0f160b2b",
   "metadata": {},
   "outputs": [],
   "source": [
    "import matplotlib.pyplot as plt"
   ]
  },
  {
   "cell_type": "code",
   "execution_count": 70,
   "metadata": {},
   "outputs": [
    {
     "data": {
      "image/png": "[encoded data removed]",
      "text/plain": [
       "<Figure size 1500x900 with 1 Axes>"
      ]
     },
     "metadata": {},
     "output_type": "display_data"
    }
   ],
   "source": [
    "plt.style.use(\"dark_background\")  \n",
    "\n",
    "colors = ['#3498db', '#f7e017']  \n",
    "\n",
    "ax = df_model_sort.plot(\n",
    "    x=\"Algorithms\",\n",
    "    y=[\"Training Score R2\",\"Testing Score R2\"],\n",
    "    kind=\"bar\",\n",
    "    figsize=(15, 9),\n",
    "    color=colors,\n",
    "    width=0.8\n",
    ")\n",
    "\n",
    "\n",
    "plt.title(\"Performance Visualization of Different Models\", fontsize=18, fontweight=\"bold\", pad=20)\n",
    "plt.xlabel(\"Algorithms\", fontsize=12)\n",
    "plt.ylabel(\"Scores\", fontsize=12)\n",
    "plt.xticks(rotation=90, ha='right', fontsize=16)\n",
    "\n",
    "\n",
    "for container in ax.containers:\n",
    "    ax.bar_label(container, fmt='%.2f', label_type='edge', fontsize=9, padding=3)\n",
    "\n",
    "plt.tight_layout()\n",
    "plt.show()"
   ]
  },
  {
   "cell_type": "code",
   "execution_count": 71,
   "id": "369751af",
   "metadata": {},
   "outputs": [
    {
     "data": {
      "image/png": "[encoded data removed]",
      "text/plain": [
       "<Figure size 1500x900 with 1 Axes>"
      ]
     },
     "metadata": {},
     "output_type": "display_data"
    }
   ],
   "source": [
    "import matplotlib.pyplot as plt\n",
    "\n",
    "plt.style.use(\"dark_background\")  \n",
    "\n",
    "colors = ['#3498db', '#f7e017'] \n",
    "\n",
    "ax = df_model_sort.plot(\n",
    "    x=\"Algorithms\",\n",
    "    y=[\"Training Score RMSE\", \"Testing Score RMSE\"],\n",
    "    kind=\"bar\",\n",
    "    figsize=(15, 9),\n",
    "    color=colors,\n",
    "    width=0.8\n",
    ")\n",
    "\n",
    "plt.title(\"Performance Visualization of Different Models\", fontsize=18, fontweight=\"bold\", pad=20)\n",
    "plt.xlabel(\"Algorithms\", fontsize=12)\n",
    "plt.ylabel(\"Scores\", fontsize=12)\n",
    "plt.xticks(rotation=90, ha='right', fontsize=16)\n",
    "\n",
    "for container in ax.containers:\n",
    "    ax.bar_label(container, fmt='%.2f', label_type='edge', fontsize=10, padding=3)\n",
    "\n",
    "plt.tight_layout()\n",
    "plt.show()"
   ]
  },
  {
   "cell_type": "code",
   "execution_count": 72,
   "id": "a0bc8b46",
   "metadata": {},
   "outputs": [],
   "source": [
    "scaler = StandardScaler()\n",
    "x_train_scaled = scaler.fit_transform(x_train)\n",
    "x_test_scaled = scaler.transform(x_test)"
   ]
  },
  {
   "cell_type": "code",
   "execution_count": 73,
   "id": "dac75145",
   "metadata": {},
   "outputs": [
    {
     "data": {
      "text/plain": [
       "[('Linear Regression', 0.8188432567829628, 0.003704655398788412),\n",
       " ('Ridge Regression', 0.8187885396675398, 0.0037057743637988107),\n",
       " ('Random Forest', 0.7826440440097799, 0.0044449293000000025),\n",
       " ('Gradient Boosting', 0.7823234467141538, 0.004451485514695555),\n",
       " ('K-Nearest Neighbors', 0.7802092909535453, 0.004494719999999999),\n",
       " ('Bagging', 0.770155990220049, 0.00470031),\n",
       " ('Support Vector Regressor', 0.7589384637350618, 0.004929708416617986),\n",
       " ('AdaBoost', 0.7563741938453379, 0.00498214773586284),\n",
       " ('Decision Tree', 0.6136430317848411, 0.007900999999999998),\n",
       " ('Lasso Regression', -0.00724844132029312, 0.020598230624999995),\n",
       " ('ElasticNet', -0.00724844132029312, 0.020598230624999995)]"
      ]
     },
     "execution_count": 73,
     "metadata": {},
     "output_type": "execute_result"
    }
   ],
   "source": [
    "models = models_dict  \n",
    "results = evaluate_models(x_train_scaled, x_test_scaled, y_train, y_test)\n",
    "\n",
    "results"
   ]
  },
  {
   "cell_type": "code",
   "execution_count": 74,
   "id": "9ae7cab9",
   "metadata": {},
   "outputs": [],
   "source": [
    "best_model_name, best_r2, best_rmse = results[0]  "
   ]
  },
  {
   "cell_type": "code",
   "execution_count": 75,
   "metadata": {},
   "outputs": [
    {
     "name": "stdout",
     "output_type": "stream",
     "text": [
      "Best Model: Linear Regression\n"
     ]
    }
   ],
   "source": [
    "best_model = models_dict[best_model_name]\n",
    "\n",
    "best_model.fit(x_train_scaled, y_train)\n",
    "y_pred = best_model.predict(x_test_scaled)\n",
    "r2 = r2_score(y_test, y_pred) * 100\n",
    "rmse = mean_squared_error(y_test, y_pred)\n",
    "print(f\"Best Model: {best_model_name}\")"
   ]
  },
  {
   "cell_type": "code",
   "execution_count": 76,
   "metadata": {},
   "outputs": [],
   "source": [
    "import pickle\n",
    "\n",
    "\n",
    "pickle.dump(best_model, open(\"adm_2model.pkl\", \"wb\"))\n",
    "pickle.dump(scaler, open(\"scaler.pkl\", \"wb\"))"
   ]
  },
  {
   "cell_type": "code",
   "execution_count": 77,
   "metadata": {},
   "outputs": [],
   "source": [
    "! pip freeze > requirements.txt"
   ]
  },
  {
   "cell_type": "code",
   "execution_count": null,
   "metadata": {},
   "outputs": [],
   "source": []
  },
  {
   "cell_type": "code",
   "execution_count": null,
   "metadata": {},
   "outputs": [],
   "source": []
  },
  {
   "cell_type": "code",
   "execution_count": null,
   "metadata": {},
   "outputs": [],
   "source": []
  },
  {
   "cell_type": "code",
   "execution_count": null,
   "metadata": {},
   "outputs": [],
   "source": []
  },
  {
   "cell_type": "code",
   "execution_count": null,
   "id": "672ec8f8",
   "metadata": {},
   "outputs": [],
   "source": []
  },
  {
   "cell_type": "code",
   "execution_count": null,
   "metadata": {},
   "outputs": [],
   "source": []
  },
  {
   "cell_type": "code",
   "execution_count": null,
   "id": "1cb2315a",
   "metadata": {},
   "outputs": [],
   "source": []
  },
  {
   "cell_type": "code",
   "execution_count": null,
   "id": "f3b260d6",
   "metadata": {},
   "outputs": [],
   "source": []
  },
  {
   "cell_type": "code",
   "execution_count": null,
   "id": "35f6555d",
   "metadata": {},
   "outputs": [],
   "source": []
  }
 ],
 "metadata": {
  "kernelspec": {
   "display_name": "Python 3",
   "language": "python",
   "name": "python3"
  },
  "language_info": {
   "codemirror_mode": {
    "name": "ipython",
    "version": 3
   },
   "file_extension": ".py",
   "mimetype": "text/x-python",
   "name": "python",
   "nbconvert_exporter": "python",
   "pygments_lexer": "ipython3",
   "version": "3.12.0"
  }
 },
 "nbformat": 4,
 "nbformat_minor": 5
}
